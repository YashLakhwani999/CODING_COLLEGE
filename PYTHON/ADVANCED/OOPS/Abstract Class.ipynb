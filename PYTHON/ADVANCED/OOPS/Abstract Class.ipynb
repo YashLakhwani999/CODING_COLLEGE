{
 "cells": [
  {
   "cell_type": "markdown",
   "id": "f339d789",
   "metadata": {},
   "source": [
    "# Vehicle abstract class"
   ]
  },
  {
   "cell_type": "code",
   "execution_count": 54,
   "id": "bd92d4a8",
   "metadata": {},
   "outputs": [],
   "source": [
    "from abc import ABC,abstractmethod"
   ]
  },
  {
   "cell_type": "code",
   "execution_count": 68,
   "id": "ea2a112c",
   "metadata": {},
   "outputs": [],
   "source": [
    "class Vehicle(ABC):\n",
    "    \n",
    "    @abstractmethod\n",
    "    def get_value(self):\n",
    "        pass\n",
    "    \n",
    "    \n",
    "    \n",
    "class Car(Vehicle):\n",
    "    def __init__(self,make,model,fare):\n",
    "        self.make = make\n",
    "        self.model = model\n",
    "        self.fare = fare\n",
    "    def get_value(self):\n",
    "        return self.fare"
   ]
  },
  {
   "cell_type": "code",
   "execution_count": 73,
   "id": "4ed772f8",
   "metadata": {},
   "outputs": [
    {
     "data": {
      "text/plain": [
       "40000"
      ]
     },
     "execution_count": 73,
     "metadata": {},
     "output_type": "execute_result"
    }
   ],
   "source": [
    "myobj=Car(\"Tesla\",2022,40)\n",
    "myobj.get_value()"
   ]
  }
 ],
 "metadata": {
  "kernelspec": {
   "display_name": "Python 3",
   "language": "python",
   "name": "python3"
  },
  "language_info": {
   "codemirror_mode": {
    "name": "ipython",
    "version": 3
   },
   "file_extension": ".py",
   "mimetype": "text/x-python",
   "name": "python",
   "nbconvert_exporter": "python",
   "pygments_lexer": "ipython3",
   "version": "3.8.8"
  }
 },
 "nbformat": 4,
 "nbformat_minor": 5
}
