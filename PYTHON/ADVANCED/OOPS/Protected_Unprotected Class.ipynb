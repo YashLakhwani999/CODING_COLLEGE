{
 "cells": [
  {
   "cell_type": "code",
   "execution_count": 33,
   "id": "407050a2",
   "metadata": {},
   "outputs": [],
   "source": [
    "class Vehicle:\n",
    "    current_year = 2021\n",
    "    base_price = 1000\n",
    "    \n",
    "    def __init__(self,make,model,feul):\n",
    "        self.make = make\n",
    "        self.model = model\n",
    "        self.feul = feul"
   ]
  },
  {
   "cell_type": "code",
   "execution_count": 39,
   "id": "b947c423",
   "metadata": {},
   "outputs": [],
   "source": [
    "class Bike(Vehicle):\n",
    "    def __init__(self,make,model,feul,tank_capacity):\n",
    "        Vehicle.make = make\n",
    "        Vehicle.model = model\n",
    "        Vehicle.feul = feul\n",
    "        self.tank_capacity = tank_capacity\n",
    "    def show_parent_attribute(self):\n",
    "        print(Vehicle.make,\" \",Vehicle.model,\" \",Vehicle.feul)"
   ]
  },
  {
   "cell_type": "code",
   "execution_count": 40,
   "id": "c5b93ea3",
   "metadata": {},
   "outputs": [],
   "source": [
    "class Car(Vehicle):\n",
    "    def __init__(self,make,model,feul,AC,sunroof):\n",
    "        Vehicle.make = make\n",
    "        Vehicle.model = model\n",
    "        Vehicle.feul = feul\n",
    "        self.AC = AC\n",
    "        self.sunroof = sunroof\n",
    "    def show_parent_attribute(self):\n",
    "        print(Vehicle.make,\" \",Vehicle.model,\" \",Vehicle.feul)"
   ]
  },
  {
   "cell_type": "code",
   "execution_count": 49,
   "id": "bfb4904f",
   "metadata": {},
   "outputs": [
    {
     "name": "stdout",
     "output_type": "stream",
     "text": [
      "Apache   2020   Petrol\n"
     ]
    }
   ],
   "source": [
    "V001 = Bike(\"Apache\",2020,'Petrol','5L')\n",
    "V001.show_parent_attribute()"
   ]
  },
  {
   "cell_type": "code",
   "execution_count": 46,
   "id": "14d32ca7",
   "metadata": {},
   "outputs": [
    {
     "name": "stdout",
     "output_type": "stream",
     "text": [
      "Tesla   2019   Electric\n"
     ]
    }
   ],
   "source": [
    "V002 = Car(\"Tesla\",2019,\"Electric\",True,True)\n",
    "V002.show_parent_attribute()"
   ]
  },
  {
   "cell_type": "code",
   "execution_count": 48,
   "id": "2c6a2159",
   "metadata": {},
   "outputs": [
    {
     "name": "stdout",
     "output_type": "stream",
     "text": [
      "WagonR   2019   Petrol\n"
     ]
    }
   ],
   "source": [
    "V003 = Car(\"WagonR\",2019,\"Petrol\",True,False)\n",
    "V003.show_parent_attribute()"
   ]
  }
 ],
 "metadata": {
  "kernelspec": {
   "display_name": "Python 3",
   "language": "python",
   "name": "python3"
  },
  "language_info": {
   "codemirror_mode": {
    "name": "ipython",
    "version": 3
   },
   "file_extension": ".py",
   "mimetype": "text/x-python",
   "name": "python",
   "nbconvert_exporter": "python",
   "pygments_lexer": "ipython3",
   "version": "3.8.8"
  }
 },
 "nbformat": 4,
 "nbformat_minor": 5
}
