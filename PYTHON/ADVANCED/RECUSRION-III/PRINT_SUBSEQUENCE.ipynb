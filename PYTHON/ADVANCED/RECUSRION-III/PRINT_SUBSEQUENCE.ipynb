{
 "cells": [
  {
   "cell_type": "code",
   "execution_count": 1,
   "id": "79254210",
   "metadata": {},
   "outputs": [],
   "source": [
    "def sbs(s, ans):\n",
    "    if len(s) == 0:\n",
    "        print(ans)\n",
    "        return\n",
    "    \n",
    "    sbs(s[1:], ans)\n",
    "    newAns = ans + s[0]\n",
    "    sbs(s[1:], newAns)"
   ]
  },
  {
   "cell_type": "code",
   "execution_count": 3,
   "id": "f67057dc",
   "metadata": {},
   "outputs": [
    {
     "name": "stdout",
     "output_type": "stream",
     "text": [
      " \n",
      " a\n"
     ]
    }
   ],
   "source": [
    "sbs(\"a\",' ')"
   ]
  }
 ],
 "metadata": {
  "kernelspec": {
   "display_name": "Python 3",
   "language": "python",
   "name": "python3"
  },
  "language_info": {
   "codemirror_mode": {
    "name": "ipython",
    "version": 3
   },
   "file_extension": ".py",
   "mimetype": "text/x-python",
   "name": "python",
   "nbconvert_exporter": "python",
   "pygments_lexer": "ipython3",
   "version": "3.8.8"
  }
 },
 "nbformat": 4,
 "nbformat_minor": 5
}
