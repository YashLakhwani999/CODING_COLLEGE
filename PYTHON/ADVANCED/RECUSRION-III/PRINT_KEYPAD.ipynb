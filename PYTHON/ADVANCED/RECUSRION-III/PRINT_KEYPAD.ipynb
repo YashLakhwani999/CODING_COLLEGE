{
 "cells": [
  {
   "cell_type": "code",
   "execution_count": 1,
   "id": "c71e0c6d",
   "metadata": {},
   "outputs": [],
   "source": [
    "def getString(d):\n",
    "    if d == 2:\n",
    "        return \"abc\"\n",
    "    if d == 3:\n",
    "        return \"def\"\n",
    "    if d == 4:\n",
    "        return \"ghi\"\n",
    "    if d == 5:\n",
    "        return \"jkl\"\n",
    "    if d == 6:\n",
    "        return \"mno\"\n",
    "    if d == 7:\n",
    "        return \"pqrs\"\n",
    "    if d == 8:\n",
    "        return \"tuv\"\n",
    "    if d == 9:\n",
    "        return \"wxyz\"\n",
    "    \n",
    "    return \"\""
   ]
  },
  {
   "cell_type": "code",
   "execution_count": 5,
   "id": "216e9e80",
   "metadata": {},
   "outputs": [],
   "source": [
    "def printKeypad(n, output):\n",
    "    if n == 0:\n",
    "        print(output)\n",
    "        return\n",
    "    \n",
    "    smallNumber = n//10\n",
    "    LastDigit = n%10\n",
    "    \n",
    "    options = getString(LastDigit)\n",
    "    \n",
    "    for i in options:\n",
    "        newOutput = i + output\n",
    "        printKeypad(smallNumber, newOutput)\n",
    "        \n",
    "        "
   ]
  },
  {
   "cell_type": "code",
   "execution_count": 6,
   "id": "961f43e9",
   "metadata": {},
   "outputs": [
    {
     "name": "stdout",
     "output_type": "stream",
     "text": [
      "ad\n",
      "bd\n",
      "cd\n",
      "ae\n",
      "be\n",
      "ce\n",
      "af\n",
      "bf\n",
      "cf\n"
     ]
    }
   ],
   "source": [
    "printKeypad(23, '')"
   ]
  }
 ],
 "metadata": {
  "kernelspec": {
   "display_name": "Python 3",
   "language": "python",
   "name": "python3"
  },
  "language_info": {
   "codemirror_mode": {
    "name": "ipython",
    "version": 3
   },
   "file_extension": ".py",
   "mimetype": "text/x-python",
   "name": "python",
   "nbconvert_exporter": "python",
   "pygments_lexer": "ipython3",
   "version": "3.8.8"
  }
 },
 "nbformat": 4,
 "nbformat_minor": 5
}
