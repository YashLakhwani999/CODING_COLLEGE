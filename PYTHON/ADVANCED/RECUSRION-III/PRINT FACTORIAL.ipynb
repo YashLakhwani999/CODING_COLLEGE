{
 "cells": [
  {
   "cell_type": "code",
   "execution_count": 15,
   "id": "95a5fb30",
   "metadata": {},
   "outputs": [],
   "source": [
    "def PrintFact(n, ans = 1):\n",
    "    if n == 1:\n",
    "        print(ans)\n",
    "        return\n",
    "    \n",
    "    ans =  ans * n\n",
    "    PrintFact(n - 1, ans)"
   ]
  },
  {
   "cell_type": "code",
   "execution_count": 16,
   "id": "705c5753",
   "metadata": {},
   "outputs": [
    {
     "name": "stdout",
     "output_type": "stream",
     "text": [
      "120\n"
     ]
    }
   ],
   "source": [
    "PrintFact(5)"
   ]
  }
 ],
 "metadata": {
  "kernelspec": {
   "display_name": "Python 3",
   "language": "python",
   "name": "python3"
  },
  "language_info": {
   "codemirror_mode": {
    "name": "ipython",
    "version": 3
   },
   "file_extension": ".py",
   "mimetype": "text/x-python",
   "name": "python",
   "nbconvert_exporter": "python",
   "pygments_lexer": "ipython3",
   "version": "3.8.8"
  }
 },
 "nbformat": 4,
 "nbformat_minor": 5
}
