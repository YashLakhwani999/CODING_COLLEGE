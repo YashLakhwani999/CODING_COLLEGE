{
 "cells": [
  {
   "cell_type": "code",
   "execution_count": null,
   "id": "e1692482",
   "metadata": {},
   "outputs": [],
   "source": [
    "def printsubsetHelper(arr, lst):\n",
    "    n=len(arr)\n",
    "    if(n==0):\n",
    "        for number in lst:\n",
    "            print(number, end=' ')\n",
    "        print()\n",
    "        return\n",
    "\n",
    "    printsubsetHelper(arr[1:], lst)\n",
    "    newLst = lst.copy()\n",
    "    newLst.append(arr[0])\n",
    "    printsubsetHelper(arr[1:], newLst)\n",
    "    return\n",
    "\n",
    "def printsubset(arr):\n",
    "    printsubsetHelper(arr,[])\n",
    "\n",
    "n=int(input())\n",
    "arr=list(int(i) for i in input().strip().split(' '))\n",
    "printsubset(arr)"
   ]
  }
 ],
 "metadata": {
  "kernelspec": {
   "display_name": "Python 3",
   "language": "python",
   "name": "python3"
  },
  "language_info": {
   "codemirror_mode": {
    "name": "ipython",
    "version": 3
   },
   "file_extension": ".py",
   "mimetype": "text/x-python",
   "name": "python",
   "nbconvert_exporter": "python",
   "pygments_lexer": "ipython3",
   "version": "3.8.8"
  }
 },
 "nbformat": 4,
 "nbformat_minor": 5
}
