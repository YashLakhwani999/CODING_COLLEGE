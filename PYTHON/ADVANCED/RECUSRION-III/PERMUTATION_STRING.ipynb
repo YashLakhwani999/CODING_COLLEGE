{
 "cells": [
  {
   "cell_type": "code",
   "execution_count": 1,
   "id": "ff22dbbb",
   "metadata": {},
   "outputs": [
    {
     "name": "stdout",
     "output_type": "stream",
     "text": [
      "hiii\n",
      "hiii\n",
      "hiii\n",
      "hiii\n",
      "hiii\n",
      "hiii\n",
      "hiii\n",
      "ihii\n",
      "ihii\n",
      "iihi\n",
      "iiih\n",
      "iihi\n",
      "iiih\n",
      "ihii\n",
      "ihii\n",
      "iihi\n",
      "iiih\n",
      "iihi\n",
      "iiih\n",
      "ihii\n",
      "ihii\n",
      "iihi\n",
      "iiih\n",
      "iihi\n",
      "iiih\n"
     ]
    }
   ],
   "source": [
    "import itertools\n",
    "str = input()\n",
    "x = list(itertools.permutations(str))\n",
    "for i in x:\n",
    "    for j in i:\n",
    "        print(j, end =\"\")\n",
    "    print()"
   ]
  }
 ],
 "metadata": {
  "kernelspec": {
   "display_name": "Python 3",
   "language": "python",
   "name": "python3"
  },
  "language_info": {
   "codemirror_mode": {
    "name": "ipython",
    "version": 3
   },
   "file_extension": ".py",
   "mimetype": "text/x-python",
   "name": "python",
   "nbconvert_exporter": "python",
   "pygments_lexer": "ipython3",
   "version": "3.8.8"
  }
 },
 "nbformat": 4,
 "nbformat_minor": 5
}
