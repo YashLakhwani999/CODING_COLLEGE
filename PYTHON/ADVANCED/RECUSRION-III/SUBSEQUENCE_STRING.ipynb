{
 "cells": [
  {
   "cell_type": "code",
   "execution_count": 1,
   "id": "79a71dab",
   "metadata": {},
   "outputs": [],
   "source": [
    "def subs(s):\n",
    "    \n",
    "    if len(s) == 0:\n",
    "        output = []\n",
    "        output.append(\"\")\n",
    "        return output\n",
    "    \n",
    "    smallerString = s[1:]\n",
    "    smallerOutput = subs(smallerString)\n",
    "    \n",
    "    output = []\n",
    "    for sub in smallerOutput:\n",
    "        output.append(sub)\n",
    "        \n",
    "    for sub in smallerOutput:\n",
    "        output.append(s[0] + sub)\n",
    "        \n",
    "    return output"
   ]
  },
  {
   "cell_type": "code",
   "execution_count": 6,
   "id": "15b44e3f",
   "metadata": {},
   "outputs": [
    {
     "name": "stdout",
     "output_type": "stream",
     "text": [
      "['', 'd', 'c', 'cd', 'b', 'bd', 'bc', 'bcd', 'a', 'ad', 'ac', 'acd', 'ab', 'abd', 'abc', 'abcd']\n"
     ]
    }
   ],
   "source": [
    "s = \"abcd\"\n",
    "ans = subs(s)\n",
    "print(ans)"
   ]
  }
 ],
 "metadata": {
  "kernelspec": {
   "display_name": "Python 3",
   "language": "python",
   "name": "python3"
  },
  "language_info": {
   "codemirror_mode": {
    "name": "ipython",
    "version": 3
   },
   "file_extension": ".py",
   "mimetype": "text/x-python",
   "name": "python",
   "nbconvert_exporter": "python",
   "pygments_lexer": "ipython3",
   "version": "3.8.8"
  }
 },
 "nbformat": 4,
 "nbformat_minor": 5
}
