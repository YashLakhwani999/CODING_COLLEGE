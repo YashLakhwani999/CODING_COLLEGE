{
 "cells": [
  {
   "cell_type": "code",
   "execution_count": 22,
   "id": "1799cc2d",
   "metadata": {},
   "outputs": [],
   "source": [
    "def minList(l, ans = 10000000):\n",
    "    if len(l) == 0:\n",
    "        print(ans)\n",
    "        return\n",
    "    \n",
    "    newMin = min(l[0], ans)\n",
    "    minList(l[1:], newMin)"
   ]
  },
  {
   "cell_type": "code",
   "execution_count": 24,
   "id": "3a6cd437",
   "metadata": {},
   "outputs": [
    {
     "name": "stdout",
     "output_type": "stream",
     "text": [
      "-9\n"
     ]
    }
   ],
   "source": [
    "minList([4,3,4,6,4,2,9,-9])"
   ]
  }
 ],
 "metadata": {
  "kernelspec": {
   "display_name": "Python 3",
   "language": "python",
   "name": "python3"
  },
  "language_info": {
   "codemirror_mode": {
    "name": "ipython",
    "version": 3
   },
   "file_extension": ".py",
   "mimetype": "text/x-python",
   "name": "python",
   "nbconvert_exporter": "python",
   "pygments_lexer": "ipython3",
   "version": "3.8.8"
  }
 },
 "nbformat": 4,
 "nbformat_minor": 5
}
