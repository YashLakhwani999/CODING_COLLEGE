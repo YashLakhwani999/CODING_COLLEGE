{
 "cells": [
  {
   "cell_type": "code",
   "execution_count": null,
   "id": "482f84af",
   "metadata": {},
   "outputs": [],
   "source": [
    "def printSubset(arr, k, lst):\n",
    "    n=len(arr)\n",
    "    if n==0:\n",
    "        return\n",
    "    if n==1:\n",
    "        if arr[0]==k:\n",
    "            print(k, *lst)\n",
    "            return\n",
    "\n",
    "    printSubset(arr[:-1], k, lst)\n",
    "    printSubset(arr[:-1], k-arr[-1], [arr[-1]]+lst)\n",
    "    if arr[-1]==k:\n",
    "        print(k, *lst)\n",
    "\n",
    "def printSubsetMain(arr, k):\n",
    "    printSubset(arr, k, [])\n",
    "\n",
    "n=int(input())\n",
    "arr=list(int(i) for i in input().strip().split(' '))\n",
    "k=int(input())\n",
    "printSubsetMain(arr, k)"
   ]
  }
 ],
 "metadata": {
  "kernelspec": {
   "display_name": "Python 3",
   "language": "python",
   "name": "python3"
  },
  "language_info": {
   "codemirror_mode": {
    "name": "ipython",
    "version": 3
   },
   "file_extension": ".py",
   "mimetype": "text/x-python",
   "name": "python",
   "nbconvert_exporter": "python",
   "pygments_lexer": "ipython3",
   "version": "3.8.8"
  }
 },
 "nbformat": 4,
 "nbformat_minor": 5
}
