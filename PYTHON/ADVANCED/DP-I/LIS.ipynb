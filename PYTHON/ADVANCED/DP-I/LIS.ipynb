{
 "cells": [
  {
   "cell_type": "markdown",
   "id": "711fa799",
   "metadata": {},
   "source": [
    "# RECURSIVE APPROACH"
   ]
  },
  {
   "cell_type": "code",
   "execution_count": 3,
   "id": "2bc62355",
   "metadata": {},
   "outputs": [],
   "source": [
    "def LIS(li, i, n):\n",
    "    if i == n:\n",
    "        return 0,0\n",
    "    \n",
    "    including_max = 1\n",
    "    for j in range(i + 1, n):\n",
    "        if li[j] >= li[i]:\n",
    "            further_including_max = LIS(li, j, n)[0]\n",
    "            including_max = max(including_max, 1 + further_including_max)\n",
    "        \n",
    "    excluding_max = LIS(li, i + 1, n)[1]\n",
    "    overall_max = max(including_max, excluding_max)\n",
    "    return including_max, overall_max"
   ]
  },
  {
   "cell_type": "code",
   "execution_count": 5,
   "id": "f96039f7",
   "metadata": {},
   "outputs": [
    {
     "name": "stdout",
     "output_type": "stream",
     "text": [
      "7\n",
      "6 3 1 2 0 7 9\n",
      "4\n"
     ]
    }
   ],
   "source": [
    "n = int(input())\n",
    "li = [int(x) for x in input().split()]\n",
    "ans = LIS(li, 0, n)[1]\n",
    "print(ans)"
   ]
  },
  {
   "cell_type": "markdown",
   "id": "4109126c",
   "metadata": {},
   "source": [
    "# MEMOIZATION"
   ]
  },
  {
   "cell_type": "code",
   "execution_count": 26,
   "id": "26abb5e1",
   "metadata": {},
   "outputs": [],
   "source": [
    "def LISm(li, i, n, dp):\n",
    "    if i == n:\n",
    "        return 0,0\n",
    "    \n",
    "    including_max = 1\n",
    "    for j in range(i + 1, n):\n",
    "        if li[j] >= li[i]:\n",
    "            if dp[j] == -1:\n",
    "                ans = LISm(li, j, n, dp)\n",
    "                dp[j] = ans\n",
    "                further_including_max = ans[0]\n",
    "            else:\n",
    "                further_including_max = dp[j][0]\n",
    "            including_max = max(including_max, 1 + further_including_max)\n",
    "        \n",
    "    if dp[i + 1] == -1:\n",
    "        ans = LISm(li, i + 1, n, dp)\n",
    "        dp[i + 1] = ans\n",
    "        excluding_max = ans[1]\n",
    "    else:\n",
    "        excluding_max = dp[i + 1][1]\n",
    "        \n",
    "    overall_max = max(including_max, excluding_max)\n",
    "    return including_max, overall_max"
   ]
  },
  {
   "cell_type": "code",
   "execution_count": 25,
   "id": "918a0a71",
   "metadata": {},
   "outputs": [
    {
     "name": "stdout",
     "output_type": "stream",
     "text": [
      "7\n",
      "6 3 1 2 0 7 9\n",
      "4\n"
     ]
    }
   ],
   "source": [
    "n = int(input())\n",
    "li = [int(x) for x in input().split()]\n",
    "dp = [-1 for i in range(n + 1)]\n",
    "ans = LISm(li, 0, n, dp)[1]\n",
    "print(ans)"
   ]
  },
  {
   "cell_type": "markdown",
   "id": "e5465216",
   "metadata": {},
   "source": [
    "# ITERATIVE APPROACH"
   ]
  },
  {
   "cell_type": "code",
   "execution_count": 27,
   "id": "edf0fa6c",
   "metadata": {},
   "outputs": [],
   "source": [
    "def LSRi(arr, n):\n",
    "    \n",
    "    \n",
    "    dp = [[0 for i in range(2)] for k in range(n + 1)]\n",
    "    \n",
    "    for i in range(n-1,-1,-1):\n",
    "        including_max = 1\n",
    "        for j in range(i + 1, n):\n",
    "            if arr[j] > arr[i]:\n",
    "                including_max = max(including_max,1 + dp[j][0])\n",
    "        dp[i][0] = including_max\n",
    "        excluding_max = dp[i + 1][1]\n",
    "        overall_max = max(including_max, excluding_max)\n",
    "        dp[i][1] = overall_max\n",
    "    \n",
    "    return dp[0][1]\n",
    "    "
   ]
  },
  {
   "cell_type": "code",
   "execution_count": 28,
   "id": "a643700e",
   "metadata": {},
   "outputs": [
    {
     "name": "stdout",
     "output_type": "stream",
     "text": [
      "7\n",
      "6 3 2 0 1 7 9\n",
      "4\n"
     ]
    }
   ],
   "source": [
    "n = int(input())\n",
    "li = [int(x) for x in input().split()]\n",
    "ans = LSRi(li, n)\n",
    "print(ans)"
   ]
  }
 ],
 "metadata": {
  "kernelspec": {
   "display_name": "Python 3",
   "language": "python",
   "name": "python3"
  },
  "language_info": {
   "codemirror_mode": {
    "name": "ipython",
    "version": 3
   },
   "file_extension": ".py",
   "mimetype": "text/x-python",
   "name": "python",
   "nbconvert_exporter": "python",
   "pygments_lexer": "ipython3",
   "version": "3.8.8"
  }
 },
 "nbformat": 4,
 "nbformat_minor": 5
}
