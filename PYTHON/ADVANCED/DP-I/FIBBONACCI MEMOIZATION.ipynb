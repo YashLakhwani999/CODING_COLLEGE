{
 "cells": [
  {
   "cell_type": "markdown",
   "id": "6d191b0b",
   "metadata": {},
   "source": [
    "# RECURSIVE  APPROACH\n"
   ]
  },
  {
   "cell_type": "code",
   "execution_count": 21,
   "id": "326c105b",
   "metadata": {},
   "outputs": [],
   "source": [
    "import sys\n",
    "sys.setrecursionlimit(10**6)\n",
    "def fibonacci(n, dp):\n",
    "    if n == 0 or n == 1:\n",
    "        return n\n",
    "\n",
    "    if dp[n-1] == -1:\n",
    "        ans1 = fibonacci(n-1, dp)\n",
    "        dp[n-1] = ans1\n",
    "    else:\n",
    "        ans1 = dp[n-1]\n",
    "        \n",
    "    if dp[n-2] == -1:\n",
    "        ans2 = fibonacci(n-2, dp)\n",
    "        dp[n-2] = ans2\n",
    "    else:\n",
    "        ans2 = dp[n-2]\n",
    "    \n",
    "    myAns = ans1 + ans2\n",
    "    \n",
    "    return myAns"
   ]
  },
  {
   "cell_type": "code",
   "execution_count": 20,
   "id": "0b722f9b",
   "metadata": {},
   "outputs": [
    {
     "name": "stdout",
     "output_type": "stream",
     "text": [
      "Enter the number upto which you need fibbonacci number : 10\n",
      "55\n"
     ]
    }
   ],
   "source": [
    "n = int(input(\"Enter the number upto which you need fibbonacci number : \"))\n",
    "dp = [-1 for i in range(n+1)]\n",
    "ans = fibonacci(n, dp)\n",
    "print(ans)"
   ]
  },
  {
   "cell_type": "markdown",
   "id": "16e5680a",
   "metadata": {},
   "source": [
    "# ITERATIVE APPROACH"
   ]
  },
  {
   "cell_type": "code",
   "execution_count": 38,
   "id": "a96bf0ef",
   "metadata": {},
   "outputs": [],
   "source": [
    "def fibb(n):\n",
    "    if n == 0 or n == 1:\n",
    "        return n\n",
    "    dp = [0 for i in range(n+1)]\n",
    "    dp[0] = 0\n",
    "    dp[1] = 1\n",
    "    for i in range(2,n+1):\n",
    "        dp[i] = dp[i-1] + dp[i-2]\n",
    "        \n",
    "    return dp[n]"
   ]
  },
  {
   "cell_type": "code",
   "execution_count": 39,
   "id": "52d37f42",
   "metadata": {},
   "outputs": [
    {
     "name": "stdout",
     "output_type": "stream",
     "text": [
      "Enter the number upto which you need fibbonacci number : 8\n",
      "21\n"
     ]
    }
   ],
   "source": [
    "n = int(input(\"Enter the number upto which you need fibbonacci number : \"))\n",
    "ans = fibb(n)\n",
    "print(ans)"
   ]
  }
 ],
 "metadata": {
  "kernelspec": {
   "display_name": "Python 3",
   "language": "python",
   "name": "python3"
  },
  "language_info": {
   "codemirror_mode": {
    "name": "ipython",
    "version": 3
   },
   "file_extension": ".py",
   "mimetype": "text/x-python",
   "name": "python",
   "nbconvert_exporter": "python",
   "pygments_lexer": "ipython3",
   "version": "3.8.8"
  }
 },
 "nbformat": 4,
 "nbformat_minor": 5
}
