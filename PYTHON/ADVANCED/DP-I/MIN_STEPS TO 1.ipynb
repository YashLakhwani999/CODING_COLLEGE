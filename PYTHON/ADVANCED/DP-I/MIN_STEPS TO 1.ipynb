{
 "cells": [
  {
   "cell_type": "markdown",
   "id": "96635e47",
   "metadata": {},
   "source": [
    "# RECURSIVE APPROACH"
   ]
  },
  {
   "cell_type": "code",
   "execution_count": 8,
   "id": "7431db48",
   "metadata": {},
   "outputs": [],
   "source": [
    "def minSteps(n):\n",
    "    if n == 1:\n",
    "        return 0\n",
    "    \n",
    "    ans1 = minSteps(n-1)\n",
    "    ans2 = 10000\n",
    "    ans3 = 10000\n",
    "    \n",
    "    \n",
    "    if n%2 == 0:\n",
    "        ans2 = minSteps(n/2)\n",
    "    if n%3 == 0:\n",
    "        ans3 = minSteps(n/3)\n",
    "      \n",
    "    ans = 1 + min(ans1, ans2 , ans3)\n",
    "    \n",
    "    return ans"
   ]
  },
  {
   "cell_type": "code",
   "execution_count": 9,
   "id": "8cb45fac",
   "metadata": {},
   "outputs": [
    {
     "name": "stdout",
     "output_type": "stream",
     "text": [
      "10\n",
      "3\n"
     ]
    }
   ],
   "source": [
    "q = int(input())\n",
    "a = minSteps(q)\n",
    "print(a)"
   ]
  },
  {
   "cell_type": "markdown",
   "id": "5a6b7f1b",
   "metadata": {},
   "source": [
    "# MEMOIZATION "
   ]
  },
  {
   "cell_type": "code",
   "execution_count": 28,
   "id": "fd907507",
   "metadata": {},
   "outputs": [],
   "source": [
    "from sys import stdin\n",
    "from sys import maxsize as MAX_VALUE\n",
    "def minstep_1(n, dp):\n",
    "    if n == 1:\n",
    "        return 0\n",
    "    \n",
    "    ans2 = MAX_VALUE\n",
    "    ans3 = MAX_VALUE\n",
    "    \n",
    "    if dp[int(n - 1)] == -1:\n",
    "        ans1 = minstep_1(n-1, dp)\n",
    "        dp[int(n - 1)] = ans1\n",
    "    else:\n",
    "        ans1 = dp[int(n - 1)]\n",
    "    \n",
    "    if n%2 == 0:\n",
    "        if dp[int(n/2)] == -1:\n",
    "            ans2 = minstep_1(n/2, dp)\n",
    "            dp[int(n/2)] = ans2\n",
    "        else:\n",
    "            ans2 = dp[int(n/2)]\n",
    "    \n",
    "    if n%3 == 0:\n",
    "        if dp[int(n/3)] == -1:\n",
    "            ans3 = minstep_1(n/3, dp)\n",
    "            dp[int(n/3)] = ans3\n",
    "        else:\n",
    "            ans3 = dp[int(n/3)]\n",
    "            \n",
    "    ans = 1 + min(ans1, ans2, ans3)\n",
    "    \n",
    "    return ans"
   ]
  },
  {
   "cell_type": "code",
   "execution_count": 32,
   "id": "ee6f9d84",
   "metadata": {},
   "outputs": [
    {
     "name": "stdout",
     "output_type": "stream",
     "text": [
      "enter number for which you need min count : 49\n",
      "6\n"
     ]
    }
   ],
   "source": [
    "num = int(input(\"enter number for which you need min count : \"))\n",
    "dp = [-1 for i in range(num + 1)]\n",
    "ans = minstep_1(num, dp)\n",
    "print(ans)"
   ]
  },
  {
   "cell_type": "markdown",
   "id": "b106713b",
   "metadata": {},
   "source": [
    "# ITERATIVE APPROACH"
   ]
  },
  {
   "cell_type": "code",
   "execution_count": 43,
   "id": "17319ee0",
   "metadata": {},
   "outputs": [],
   "source": [
    "from sys import stdin\n",
    "from sys import maxsize as MAX_VALUE\n",
    "def minStep_I(n):\n",
    "    if n == 1:\n",
    "        return 0\n",
    "    \n",
    "    dp = [0 for i in range(n+1)]\n",
    "    dp[1] = 0\n",
    "    \n",
    "    for i in range(2, n + 1):\n",
    "        ans1 = dp[i - 1]\n",
    "        ans2 = MAX_VALUE\n",
    "        ans3 = MAX_VALUE\n",
    "        \n",
    "        if i % 2 == 0:\n",
    "            ans2 = dp[i//2]\n",
    "\n",
    "        if i % 3 == 0:\n",
    "            ans3 = dp[i//3]\n",
    "        \n",
    "        dp[i] = 1 + min(ans1, ans2, ans3)\n",
    "\n",
    "    return dp[n]"
   ]
  },
  {
   "cell_type": "code",
   "execution_count": 46,
   "id": "b7c6f8e3",
   "metadata": {},
   "outputs": [
    {
     "name": "stdout",
     "output_type": "stream",
     "text": [
      "enter number for which you need min count : 10000\n",
      "14\n"
     ]
    }
   ],
   "source": [
    "num = int(input(\"enter number for which you need min count : \"))\n",
    "ans = minStep_I(num)\n",
    "print(ans)"
   ]
  }
 ],
 "metadata": {
  "kernelspec": {
   "display_name": "Python 3",
   "language": "python",
   "name": "python3"
  },
  "language_info": {
   "codemirror_mode": {
    "name": "ipython",
    "version": 3
   },
   "file_extension": ".py",
   "mimetype": "text/x-python",
   "name": "python",
   "nbconvert_exporter": "python",
   "pygments_lexer": "ipython3",
   "version": "3.8.8"
  }
 },
 "nbformat": 4,
 "nbformat_minor": 5
}
