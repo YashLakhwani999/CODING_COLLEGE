{
 "cells": [
  {
   "cell_type": "markdown",
   "id": "cb3b7715",
   "metadata": {},
   "source": [
    "# RECURSIVE APPROACH"
   ]
  },
  {
   "cell_type": "code",
   "execution_count": 12,
   "id": "4d58b93f",
   "metadata": {},
   "outputs": [],
   "source": [
    "import math,sys\n",
    "\n",
    "def minSquare(n):\n",
    "    if n == 0:\n",
    "        return 0\n",
    "    \n",
    "    ans = sys.maxsize\n",
    "    root = int(math.sqrt(n))\n",
    "    \n",
    "    for i in range (1,root + 1):\n",
    "        \n",
    "        currAns = 1 + minSquare(n - (i**2))\n",
    "        ans = min(ans, currAns)\n",
    "\n",
    "    return ans\n",
    "    "
   ]
  },
  {
   "cell_type": "code",
   "execution_count": 13,
   "id": "c608ee77",
   "metadata": {},
   "outputs": [
    {
     "name": "stdout",
     "output_type": "stream",
     "text": [
      "8\n",
      "2\n"
     ]
    }
   ],
   "source": [
    "num = int(input())\n",
    "ans = minSquare(num)\n",
    "print(ans)"
   ]
  },
  {
   "cell_type": "markdown",
   "id": "807e02e1",
   "metadata": {},
   "source": [
    "# MEMOIZATION"
   ]
  },
  {
   "cell_type": "code",
   "execution_count": 14,
   "id": "fe9c3af0",
   "metadata": {},
   "outputs": [],
   "source": [
    "import math,sys\n",
    "\n",
    "def minSquareM(n, dp):\n",
    "    if n == 0:\n",
    "        return 0\n",
    "    \n",
    "    ans = sys.maxsize\n",
    "    root = int(math.sqrt(n))\n",
    "    \n",
    "    for i in range (1,root + 1):\n",
    "        checkValue = n - (i**2)\n",
    "        if dp[checkValue] == -1:\n",
    "            smallAns = minSquareM(checkValue, dp)\n",
    "            currAns = 1 + smallAns\n",
    "            dp[checkValue] = smallAns\n",
    "        else:\n",
    "            currAns = 1 + dp[checkValue]\n",
    "        ans = min(ans, currAns)\n",
    "\n",
    "    return ans"
   ]
  },
  {
   "cell_type": "code",
   "execution_count": 23,
   "id": "70ce1c0f",
   "metadata": {},
   "outputs": [
    {
     "name": "stdout",
     "output_type": "stream",
     "text": [
      "100\n",
      "1\n"
     ]
    }
   ],
   "source": [
    "num = int(input())\n",
    "dp = [-1 for i in range(num + 1)]\n",
    "ans = minSquareM(num, dp)\n",
    "print(ans)"
   ]
  },
  {
   "cell_type": "markdown",
   "id": "2dec1f6f",
   "metadata": {},
   "source": [
    "# ITERATIVE APPROACH"
   ]
  },
  {
   "cell_type": "code",
   "execution_count": 24,
   "id": "43293751",
   "metadata": {},
   "outputs": [],
   "source": [
    "import sys, math\n",
    "def minSquareI(n):\n",
    "    dp = [-1 for i in range(n + 1)]\n",
    "    dp[0] = 0\n",
    "    \n",
    "    for i in range(1, n+1):\n",
    "        ans = sys.maxsize\n",
    "        root = int(math.sqrt(i))\n",
    "        for j in range(1, root + 1):\n",
    "            currAns = 1 + dp[i - (j**2)]\n",
    "            ans = min(ans, currAns)\n",
    "        dp[i] = ans\n",
    "    return dp[n]"
   ]
  },
  {
   "cell_type": "code",
   "execution_count": 29,
   "id": "6044959a",
   "metadata": {},
   "outputs": [
    {
     "name": "stdout",
     "output_type": "stream",
     "text": [
      "289713\n",
      "3\n"
     ]
    }
   ],
   "source": [
    "num = int(input())\n",
    "ans = minSquareI(num)\n",
    "print(ans)"
   ]
  }
 ],
 "metadata": {
  "kernelspec": {
   "display_name": "Python 3",
   "language": "python",
   "name": "python3"
  },
  "language_info": {
   "codemirror_mode": {
    "name": "ipython",
    "version": 3
   },
   "file_extension": ".py",
   "mimetype": "text/x-python",
   "name": "python",
   "nbconvert_exporter": "python",
   "pygments_lexer": "ipython3",
   "version": "3.8.8"
  }
 },
 "nbformat": 4,
 "nbformat_minor": 5
}
