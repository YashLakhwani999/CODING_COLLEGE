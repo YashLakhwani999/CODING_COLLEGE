{
 "cells": [
  {
   "cell_type": "code",
   "execution_count": 5,
   "id": "f3336c53",
   "metadata": {},
   "outputs": [],
   "source": [
    "class BinaryTreeNode :\n",
    "    \n",
    "    def __init__(self,data):\n",
    "        self.data = data\n",
    "        self.left = None\n",
    "        self.right = None"
   ]
  },
  {
   "cell_type": "code",
   "execution_count": 6,
   "id": "1618c40a",
   "metadata": {},
   "outputs": [],
   "source": [
    "def preOrder(root):\n",
    "    if root == None:\n",
    "        return\n",
    "    print(root.data, end = \" \")\n",
    "    preOrder(root.left)\n",
    "    preOrder(root.right)"
   ]
  },
  {
   "cell_type": "code",
   "execution_count": 7,
   "id": "9c04bfbd",
   "metadata": {},
   "outputs": [],
   "source": [
    "def postOrder(root):\n",
    "    if root == None:\n",
    "        return\n",
    "    postOrder(root.left)\n",
    "    postOrder(root.right)\n",
    "    print(root.data, end = \" \")"
   ]
  },
  {
   "cell_type": "code",
   "execution_count": 8,
   "id": "23651626",
   "metadata": {},
   "outputs": [],
   "source": [
    "def printTreeDetailed(root):\n",
    "    if root == None:\n",
    "        return\n",
    "    print(root.data, end = \" : \")\n",
    "    if root.left != None:\n",
    "        print(\" L \",root.left.data ,end = \",\")\n",
    "    if root.right != None:\n",
    "        print(\" R \",root.right.data, end = \" \")\n",
    "    print()\n",
    "    printTreeDetailed(root.left)\n",
    "    printTreeDetailed(root.right)"
   ]
  },
  {
   "cell_type": "code",
   "execution_count": 33,
   "id": "5fd7c1b7",
   "metadata": {},
   "outputs": [],
   "source": [
    "def printLevelWise(root):\n",
    "    q = queue.Queue()    \n",
    "\n",
    "    if root == None:\n",
    "        return None\n",
    "    \n",
    "    q.put(root)\n",
    "    \n",
    "    while (not(q.empty())):\n",
    "        a = q.get()\n",
    "        print(a.data, end = \":\")\n",
    "        \n",
    "        leftChild = a.left\n",
    "        if leftChild != None:\n",
    "            print(\"L:\", end = \"\")\n",
    "            print(leftChild.data, end = \",\")\n",
    "            q.put(leftChild)\n",
    "        else:\n",
    "            print(\"L:\", end = \"\")\n",
    "            print(-1, end = \",\")\n",
    "            \n",
    "        rightChild = a.right\n",
    "        if rightChild != None:\n",
    "            print(\"R:\", end = \"\")\n",
    "            print(rightChild.data)\n",
    "            q.put(rightChild)\n",
    "        else:\n",
    "            print(\"R:\", end = \"\")\n",
    "            print(-1)\n",
    "                      \n",
    "\n"
   ]
  },
  {
   "cell_type": "code",
   "execution_count": 9,
   "id": "fde8a62b",
   "metadata": {},
   "outputs": [],
   "source": [
    "def treeInput():\n",
    "    rootData = int(input())\n",
    "    if rootData == -1:\n",
    "        return None\n",
    "    \n",
    "    root = BinaryTreeNode(rootData)\n",
    "    leftTree = treeInput()\n",
    "    rightTree = treeInput()\n",
    "    root.left = leftTree\n",
    "    root.right = rightTree\n",
    "    return root "
   ]
  },
  {
   "cell_type": "code",
   "execution_count": 32,
   "id": "66558974",
   "metadata": {},
   "outputs": [],
   "source": [
    "import queue\n",
    "def TakeLevelWiseInput():\n",
    "    q = queue.Queue()\n",
    "    print(\"Enter root data :\")\n",
    "    rootData = int(input())\n",
    "    if rootData == -1:\n",
    "        return None\n",
    "    root = BinaryTreeNode(rootData)\n",
    "    q.put(root)\n",
    "    while (not(q.empty())):\n",
    "        current_node = q.get()\n",
    "        print(\"Enter Left child of \",current_node.data)\n",
    "        LeftChildData = int(input())\n",
    "        if LeftChildData != -1:\n",
    "            LeftChild = BinaryTreeNode(LeftChildData)\n",
    "            current_node.left = LeftChild\n",
    "            q.put(LeftChild)\n",
    "        \n",
    "        print(\"Enter right child of \",current_node.data)\n",
    "        rightChildData = int(input())\n",
    "        if rightChildData != -1:\n",
    "            rightChild = BinaryTreeNode(rightChildData)\n",
    "            current_node.right = rightChild\n",
    "            q.put(rightChild)\n",
    "    return root"
   ]
  },
  {
   "cell_type": "code",
   "execution_count": 10,
   "id": "f0eea00f",
   "metadata": {},
   "outputs": [],
   "source": [
    "def NumNodes(root):\n",
    "    if root == None:\n",
    "        return 0\n",
    "    Leftcount = NumNodes(root.left)\n",
    "    Rightcount = NumNodes(root.right)\n",
    "    return 1 + Rightcount + Leftcount"
   ]
  },
  {
   "cell_type": "code",
   "execution_count": 11,
   "id": "a0c34e40",
   "metadata": {},
   "outputs": [],
   "source": [
    "def NodeSum(root):\n",
    "    if root == None:\n",
    "        return 0\n",
    "    \n",
    "    leftdata = NodeSum(root.left)\n",
    "    rightdata = NodeSum(root.right)\n",
    "    return root.data + leftdata + rightdata"
   ]
  },
  {
   "cell_type": "code",
   "execution_count": 12,
   "id": "e1ea2daa",
   "metadata": {},
   "outputs": [],
   "source": [
    "def largestNode(root):\n",
    "    if root == None:\n",
    "        return -1\n",
    "    \n",
    "    leftLargest = largestNode(root.left)\n",
    "    rightLargest = largestNode(root.right)\n",
    "    Largest = max(leftLargest, rightLargest, root.data)\n",
    "    return Largest"
   ]
  },
  {
   "cell_type": "code",
   "execution_count": 13,
   "id": "f230b2d1",
   "metadata": {},
   "outputs": [],
   "source": [
    "def countNodeGRx(root,x):\n",
    "    if root == None:\n",
    "        return 0\n",
    "    countleft = countNodeGRx(root.left,x)\n",
    "    countright = countNodeGRx(root.right,x)\n",
    "    if root.data > x:\n",
    "        return 1 + countleft + countright\n",
    "    return countleft + countright"
   ]
  },
  {
   "cell_type": "code",
   "execution_count": 14,
   "id": "bfa15f2e",
   "metadata": {},
   "outputs": [],
   "source": [
    "def height(root) :\n",
    "    if root == None:\n",
    "        return 0\n",
    "    \n",
    "    return 1 + max(height(root.right),height(root.left))"
   ]
  },
  {
   "cell_type": "code",
   "execution_count": 15,
   "id": "75b2608e",
   "metadata": {},
   "outputs": [],
   "source": [
    "def numleafNodes(root):\n",
    "    if root == None:\n",
    "        return 0\n",
    "    \n",
    "    if root.left == None and root.right == None:\n",
    "        return 1\n",
    "    numLeafLeft = numleafNodes(root.left)\n",
    "    numLeafRight = numleafNodes(root.right)\n",
    "    return numLeafLeft + numLeafRight"
   ]
  },
  {
   "cell_type": "code",
   "execution_count": 16,
   "id": "6e355a15",
   "metadata": {},
   "outputs": [],
   "source": [
    "def printNodeatdepthK(root,k):\n",
    "    if root == None:\n",
    "        return \n",
    "    if k == 0:\n",
    "        print(root.data,end = \" \")\n",
    "        return\n",
    "    printNodeatdepthK(root.left,k-1)\n",
    "    printNodeatdepthK(root.right,k-1)"
   ]
  },
  {
   "cell_type": "code",
   "execution_count": 17,
   "id": "5503004f",
   "metadata": {},
   "outputs": [],
   "source": [
    "def ReplaceNodeWithDepth(root,d = 0):\n",
    "    if root == None:\n",
    "        return\n",
    "    \n",
    "    root.data = d\n",
    "    print(root.data,end =\" \")\n",
    "    ReplaceNodeWithDepth(root.left,d+1)\n",
    "    ReplaceNodeWithDepth(root.right,d+1)"
   ]
  },
  {
   "cell_type": "code",
   "execution_count": 18,
   "id": "b458ca98",
   "metadata": {},
   "outputs": [],
   "source": [
    "def isNodePresent(root,x):\n",
    "    if root == None:\n",
    "        return False\n",
    "    if root.data == x :\n",
    "        return True\n",
    "    L = isNodePresent(root.left,x)\n",
    "    if L:\n",
    "        return True\n",
    "    R = isNodePresent(root.right,x)\n",
    "    return R"
   ]
  },
  {
   "cell_type": "code",
   "execution_count": 19,
   "id": "592b11bb",
   "metadata": {},
   "outputs": [],
   "source": [
    "def NodeWithoutSiblings(root):\n",
    "    if root == None:\n",
    "        return \n",
    "    \n",
    "    if root.left != None and root.right != None:\n",
    "        NodeWithoutSiblings(root.left)\n",
    "        NodeWithoutSiblings(root.right)\n",
    "        \n",
    "    elif root.left != None:\n",
    "        print(root.left.data,end = \" \")\n",
    "        NodeWithoutSiblings(root.left)\n",
    "    elif root.right != None:\n",
    "        print(root.right.data,end = \" \")\n",
    "        NodeWithoutSiblings(root.right)"
   ]
  },
  {
   "cell_type": "code",
   "execution_count": 20,
   "id": "e53ad602",
   "metadata": {},
   "outputs": [],
   "source": [
    "def removeleaves(root):\n",
    "    if root == None:\n",
    "        return None\n",
    "    if root.left == None and root.right == None:\n",
    "        return None\n",
    "    \n",
    "    root.left = removeleaves(root.left)\n",
    "    root.right = removeleaves(root.right)\n",
    "    return root"
   ]
  },
  {
   "cell_type": "code",
   "execution_count": 21,
   "id": "ccd47824",
   "metadata": {},
   "outputs": [],
   "source": [
    "def mirrorTree(root):\n",
    "    if root == None:\n",
    "        return None\n",
    "    if root.left != None and root.right != None:\n",
    "        temp = root.left\n",
    "        root.left = root.right\n",
    "        root.right = temp\n",
    "        mirrorTree(root.left)\n",
    "        mirrorTree(root.right)\n",
    "        return root"
   ]
  },
  {
   "cell_type": "code",
   "execution_count": 22,
   "id": "109dec4a",
   "metadata": {},
   "outputs": [],
   "source": [
    "def isBalanced(root):\n",
    "    if root == None :\n",
    "        return True\n",
    "    lh = height(root.left)\n",
    "    rh = height(root.right)\n",
    "    if (lh - rh > 1) or (rh - lh > 1):\n",
    "        return False\n",
    "    \n",
    "    isLeftBalanced = isBalanced(root.left)\n",
    "    isRightBalanced = isBalanced(root.left)\n",
    "    \n",
    "    if isLeftBalanced and isRightBalanced:\n",
    "        return True\n",
    "    else:\n",
    "        return False"
   ]
  },
  {
   "cell_type": "code",
   "execution_count": 23,
   "id": "08d534b5",
   "metadata": {},
   "outputs": [],
   "source": [
    "def DiameterOfTree(root):\n",
    "    if root == None:\n",
    "        return 0\n",
    "    \n",
    "    lh = height(root.left)\n",
    "    rh = height(root.right)\n",
    "    d = lh + rh + 1\n",
    "    \n",
    "    isMaxLeft = DiameterOfTree(root.left)\n",
    "    isMaxRight = DiameterOfTree(root.right)\n",
    "    \n",
    "    return d"
   ]
  },
  {
   "cell_type": "markdown",
   "id": "cc0e3f18",
   "metadata": {},
   "source": [
    "# BST FUNCTIONS"
   ]
  },
  {
   "cell_type": "code",
   "execution_count": 30,
   "id": "2ad3f76b",
   "metadata": {},
   "outputs": [],
   "source": [
    "def search(root,x):\n",
    "    if root == None:\n",
    "        return False\n",
    "    \n",
    "    if root.data == x :\n",
    "        return True\n",
    "    elif root.data > x:\n",
    "        return search(root.left,x)\n",
    "    elif root.data < x :\n",
    "        return search(root.right,x)"
   ]
  },
  {
   "cell_type": "code",
   "execution_count": 59,
   "id": "945e2405",
   "metadata": {},
   "outputs": [],
   "source": [
    "def Inrange(root,k1,k2):\n",
    "    l = []\n",
    "    if root == None:\n",
    "        return None\n",
    "    \n",
    "\n",
    "    if root.data < k1:\n",
    "        return Inrange(root.right,k1,k2)\n",
    "    elif root.data > k2:\n",
    "        return Inrange(root.left,k1,k2)\n",
    "    else:\n",
    "        l.append(root.data)\n",
    "        Inrange(root.left,k1,k2)\n",
    "        Inrange(root.right,k1,k2)\n",
    "    l.sort()\n",
    "    print(*l,end = \" \")"
   ]
  },
  {
   "cell_type": "code",
   "execution_count": 92,
   "id": "ae18aee3",
   "metadata": {},
   "outputs": [],
   "source": [
    "def constructBST(L):\n",
    "    if len(L) == 0:\n",
    "        return \n",
    "    if len(l)%2 == 0:\n",
    "        mid = (len(L)-1)//2\n",
    "    else:\n",
    "        mid = len(L)//2\n",
    "    root = BinaryTreeNode(L[mid])\n",
    "    leftTree = constructBST(L[0:mid])\n",
    "    RightTree = constructBST(L[mid+1::])\n",
    "    root.left = leftTree\n",
    "    root.right = RightTree\n",
    "    return root"
   ]
  },
  {
   "cell_type": "code",
   "execution_count": 101,
   "id": "614f7725",
   "metadata": {},
   "outputs": [],
   "source": [
    "def minTree(root):\n",
    "    if root == None:\n",
    "        return 1000000\n",
    "    \n",
    "    leftTree = minTree(root.left)\n",
    "    rightTree = minTree(root.right)\n",
    "    minVAL = min(leftTree,rightTree,root.data)\n",
    "    return minVAL"
   ]
  },
  {
   "cell_type": "code",
   "execution_count": 102,
   "id": "1699d50b",
   "metadata": {},
   "outputs": [],
   "source": [
    "def maxTree(root):\n",
    "    if root == None:\n",
    "        return -1000000\n",
    "    \n",
    "    leftTree = maxTree(root.left)\n",
    "    rightTree = maxTree(root.left)\n",
    "    maxVAl =  max(leftTree,rightTree,root.data)\n",
    "    return maxVAl"
   ]
  },
  {
   "cell_type": "code",
   "execution_count": 95,
   "id": "fea5d985",
   "metadata": {},
   "outputs": [],
   "source": [
    "def isBST(root):    \n",
    "    if root == None:\n",
    "        return True\n",
    "    \n",
    "    leftMax = maxTree(root.left)\n",
    "    rightMin = minTree(root.right)\n",
    "    if root.data > rightMin or root.data <= leftMax:\n",
    "        return False\n",
    "    isleftBST = isBST(root.left)\n",
    "    isrightBST = isBST(root.right)\n",
    "    return isleftBST and isrightBST"
   ]
  },
  {
   "cell_type": "code",
   "execution_count": 111,
   "id": "efe4c474",
   "metadata": {},
   "outputs": [],
   "source": [
    "def isBST2(root):\n",
    "    if root == None:\n",
    "        return 10000,-10000,True\n",
    "    \n",
    "    leftMin, leftMax, isleftBST = isBST2(root.left)\n",
    "    rightMin, rightMax, isRightBST = isBST2(root.right)\n",
    "    \n",
    "    \n",
    "    minimum = min(rightMin, leftMin, root.data)\n",
    "    maximum = max(rightMax, leftMax, root.data)\n",
    "    \n",
    "    isTreeBST = True\n",
    "    if root.data <= leftMax or root.data > rightMin:\n",
    "        isTreeBST = False\n",
    "    if not(isleftBST) or not(isRightBST):\n",
    "        isTreeBST = False\n",
    "    return minimum, maximum, isTreeBST"
   ]
  },
  {
   "cell_type": "markdown",
   "id": "3ead3375",
   "metadata": {},
   "source": [
    "# BST - II"
   ]
  },
  {
   "cell_type": "code",
   "execution_count": 114,
   "id": "ceb171e4",
   "metadata": {},
   "outputs": [],
   "source": [
    "def NodeToRootPath(root,search):\n",
    "    if root is None:\n",
    "        return None\n",
    "    \n",
    "    if root.data == search:\n",
    "        l = list()\n",
    "        l.append(root.data)\n",
    "        return l\n",
    "    leftoutput = NodeToRootPath(root.left,search)\n",
    "    if leftoutput != None:\n",
    "        leftoutput.append(root.data)\n",
    "        return leftoutput\n",
    "    \n",
    "    rightoutput = NodeToRootPath(root.right,search)\n",
    "    if rightoutput != None:\n",
    "        rightoutput.append(root.data)\n",
    "        return rightoutput\n",
    "    else:\n",
    "        return None"
   ]
  },
  {
   "cell_type": "code",
   "execution_count": 115,
   "id": "bf036984",
   "metadata": {},
   "outputs": [
    {
     "name": "stdout",
     "output_type": "stream",
     "text": [
      "1\n",
      "2\n",
      "-1\n",
      "-1\n",
      "3\n",
      "4\n",
      "-1\n",
      "-1\n",
      "6\n",
      "5\n",
      "7\n",
      "-1\n",
      "-1\n",
      "8\n",
      "-1\n",
      "-1\n",
      "9\n",
      "-1\n",
      "-1\n",
      "1 :  L  2, R  3 \n",
      "2 : \n",
      "3 :  L  4, R  6 \n",
      "4 : \n",
      "6 :  L  5, R  9 \n",
      "5 :  L  7, R  8 \n",
      "7 : \n",
      "8 : \n",
      "9 : \n"
     ]
    }
   ],
   "source": [
    "root = treeInput()\n",
    "printTreeDetailed(root)"
   ]
  },
  {
   "cell_type": "code",
   "execution_count": 116,
   "id": "05805ca6",
   "metadata": {},
   "outputs": [
    {
     "data": {
      "text/plain": [
       "[5, 6, 3, 1]"
      ]
     },
     "execution_count": 116,
     "metadata": {},
     "output_type": "execute_result"
    }
   ],
   "source": [
    "NodeToRootPath(root,5)"
   ]
  }
 ],
 "metadata": {
  "kernelspec": {
   "display_name": "Python 3",
   "language": "python",
   "name": "python3"
  },
  "language_info": {
   "codemirror_mode": {
    "name": "ipython",
    "version": 3
   },
   "file_extension": ".py",
   "mimetype": "text/x-python",
   "name": "python",
   "nbconvert_exporter": "python",
   "pygments_lexer": "ipython3",
   "version": "3.8.8"
  }
 },
 "nbformat": 4,
 "nbformat_minor": 5
}
