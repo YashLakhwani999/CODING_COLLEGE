{
 "cells": [
  {
   "cell_type": "markdown",
   "id": "ac7e6d8f",
   "metadata": {},
   "source": [
    "## ITERATIVE CODE"
   ]
  },
  {
   "cell_type": "code",
   "execution_count": null,
   "id": "864756ce",
   "metadata": {},
   "outputs": [],
   "source": [
    "def remove_char(str,x):\n",
    "    new_string = \" \"\n",
    "    if len(str) == 0:\n",
    "        return str\n",
    "    \n",
    "    for i in range(len(str)):\n",
    "        if str[i] != x:\n",
    "            new_string = new_string + str[i]\n",
    "    return new_string\n",
    "\n",
    "a = input(\"enter a string : \")\n",
    "b = input(\"enter which alphabet you want to remove : \")\n",
    "remove_char(a,b)"
   ]
  },
  {
   "cell_type": "markdown",
   "id": "7c0b0952",
   "metadata": {},
   "source": [
    "## RECURSION METHOD"
   ]
  },
  {
   "cell_type": "code",
   "execution_count": null,
   "id": "8f68c1bd",
   "metadata": {},
   "outputs": [],
   "source": [
    "def remove(str,x,y=\"\"):\n",
    "    if len(str) == 0:\n",
    "        return str\n",
    "    \n",
    "    smallOutput = remove(str[1:],x,y)\n",
    "    if str[0] == x:\n",
    "        return y + smallOutput\n",
    "    else:\n",
    "        return str[0] + smallOutput\n",
    "    \n",
    "str = input(\"Enter your string : \")\n",
    "x = input(\"Enter the alphabet you want to remove : \")\n",
    "remove(str,x)"
   ]
  }
 ],
 "metadata": {
  "kernelspec": {
   "display_name": "Python 3",
   "language": "python",
   "name": "python3"
  },
  "language_info": {
   "codemirror_mode": {
    "name": "ipython",
    "version": 3
   },
   "file_extension": ".py",
   "mimetype": "text/x-python",
   "name": "python",
   "nbconvert_exporter": "python",
   "pygments_lexer": "ipython3",
   "version": "3.8.8"
  }
 },
 "nbformat": 4,
 "nbformat_minor": 5
}
