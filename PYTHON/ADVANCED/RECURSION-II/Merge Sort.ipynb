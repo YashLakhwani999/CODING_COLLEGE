{
 "cells": [
  {
   "cell_type": "markdown",
   "id": "eb490e6a",
   "metadata": {},
   "source": [
    "# MAIN CODE"
   ]
  },
  {
   "cell_type": "code",
   "execution_count": 2,
   "id": "c6e30f6a",
   "metadata": {},
   "outputs": [],
   "source": [
    "def merge(L1,L2,arr):\n",
    "    i = 0\n",
    "    j = 0\n",
    "    k = 0\n",
    "    while i < len(L1) and j < len(L2):\n",
    "        if L1[i] < L2[j]:\n",
    "            arr[k] = L1[i]\n",
    "            i = i + 1\n",
    "            k = k + 1\n",
    "        else:\n",
    "            arr[k] = L2[j]\n",
    "            k = k + 1\n",
    "            j = j + 1\n",
    "    while i < len(L1):\n",
    "        arr[k] = L1[i]\n",
    "        k = k + 1\n",
    "        i = i + 1\n",
    "    while j < len(L2):\n",
    "        arr[k] = L2[j]\n",
    "        k = k + 1\n",
    "        j = j +1"
   ]
  },
  {
   "cell_type": "code",
   "execution_count": 3,
   "id": "7196652a",
   "metadata": {},
   "outputs": [],
   "source": [
    "def mergesort(arr):\n",
    "    if len(arr) == 0 or len(arr) == 1:\n",
    "        return \n",
    "    \n",
    "    mid = (len(arr))//2\n",
    "    L1 = arr[0:mid]\n",
    "    L2 = arr[mid:]\n",
    "    mergesort(L1)\n",
    "    mergesort(L2)\n",
    "    merge(L1,L2,arr)"
   ]
  },
  {
   "cell_type": "code",
   "execution_count": 4,
   "id": "0ef007e1",
   "metadata": {},
   "outputs": [
    {
     "name": "stdout",
     "output_type": "stream",
     "text": [
      "1 2 3 1 1 1 2 1 2 1\n"
     ]
    },
    {
     "data": {
      "text/plain": [
       "[1, 1, 1, 1, 1, 1, 2, 2, 2, 3]"
      ]
     },
     "execution_count": 4,
     "metadata": {},
     "output_type": "execute_result"
    }
   ],
   "source": [
    "arr = [int(x) for x in input().split()]\n",
    "mergesort(arr)\n",
    "arr"
   ]
  }
 ],
 "metadata": {
  "kernelspec": {
   "display_name": "Python 3",
   "language": "python",
   "name": "python3"
  },
  "language_info": {
   "codemirror_mode": {
    "name": "ipython",
    "version": 3
   },
   "file_extension": ".py",
   "mimetype": "text/x-python",
   "name": "python",
   "nbconvert_exporter": "python",
   "pygments_lexer": "ipython3",
   "version": "3.8.8"
  }
 },
 "nbformat": 4,
 "nbformat_minor": 5
}
