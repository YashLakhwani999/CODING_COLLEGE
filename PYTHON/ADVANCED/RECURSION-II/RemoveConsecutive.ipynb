{
 "cells": [
  {
   "cell_type": "markdown",
   "id": "48c8e7ee",
   "metadata": {},
   "source": [
    "# RECURSIVE METHOD"
   ]
  },
  {
   "cell_type": "code",
   "execution_count": null,
   "id": "c6ccb99b",
   "metadata": {},
   "outputs": [],
   "source": [
    "def remove_consecutive(str):\n",
    "    if len(str) == 0 or len(str) == 1:\n",
    "        return str\n",
    "    smallOutput = remove_consecutive(str[1:])\n",
    "    if str[0] != str[1]:\n",
    "        return str[0] + smallOutput\n",
    "    return smallOutput\n",
    "\n",
    "str = input(\"Enter the string : \")\n",
    "remove_consecutive(str)"
   ]
  }
 ],
 "metadata": {
  "kernelspec": {
   "display_name": "Python 3",
   "language": "python",
   "name": "python3"
  },
  "language_info": {
   "codemirror_mode": {
    "name": "ipython",
    "version": 3
   },
   "file_extension": ".py",
   "mimetype": "text/x-python",
   "name": "python",
   "nbconvert_exporter": "python",
   "pygments_lexer": "ipython3",
   "version": "3.8.8"
  }
 },
 "nbformat": 4,
 "nbformat_minor": 5
}
