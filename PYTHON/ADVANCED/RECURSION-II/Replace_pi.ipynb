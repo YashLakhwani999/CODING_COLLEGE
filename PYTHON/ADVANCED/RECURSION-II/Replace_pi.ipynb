{
 "cells": [
  {
   "cell_type": "markdown",
   "id": "64b122c6",
   "metadata": {},
   "source": [
    "## ITERATIVE METHOD "
   ]
  },
  {
   "cell_type": "raw",
   "id": "9f954d86",
   "metadata": {},
   "source": [
    "replace pi with 3.14"
   ]
  },
  {
   "cell_type": "code",
   "execution_count": null,
   "id": "ecf3deeb",
   "metadata": {},
   "outputs": [],
   "source": [
    "str = input(\"Enter a String : \")\n",
    "print(str.replace(\"pi\",\"3.14\"))"
   ]
  },
  {
   "cell_type": "markdown",
   "id": "c2b2ba5e",
   "metadata": {},
   "source": [
    "## RECURSION METHOD"
   ]
  },
  {
   "cell_type": "code",
   "execution_count": null,
   "id": "831485c7",
   "metadata": {},
   "outputs": [],
   "source": [
    "def replace_pi(str):\n",
    "    if len(str) == 0 or len(str) == 1:\n",
    "        return str\n",
    "    \n",
    "    if str[0] == 'p' and str[1] == 'i':\n",
    "        smallOutput = replace_pi(str[2:])\n",
    "        return '3.14' + smallOutput\n",
    "    else:\n",
    "        smallOutput = replace_pi(str[1:])\n",
    "        return str[0] + smallOutput\n",
    "\n",
    "str = input(\"Enter the String : \")\n",
    "replace_pi(str)"
   ]
  }
 ],
 "metadata": {
  "kernelspec": {
   "display_name": "Python 3",
   "language": "python",
   "name": "python3"
  },
  "language_info": {
   "codemirror_mode": {
    "name": "ipython",
    "version": 3
   },
   "file_extension": ".py",
   "mimetype": "text/x-python",
   "name": "python",
   "nbconvert_exporter": "python",
   "pygments_lexer": "ipython3",
   "version": "3.8.8"
  }
 },
 "nbformat": 4,
 "nbformat_minor": 5
}
