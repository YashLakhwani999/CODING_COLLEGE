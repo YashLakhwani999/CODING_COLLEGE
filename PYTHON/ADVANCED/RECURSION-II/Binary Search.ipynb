{
 "cells": [
  {
   "cell_type": "markdown",
   "id": "b7778aab",
   "metadata": {},
   "source": [
    "# RECURSION METHOD"
   ]
  },
  {
   "cell_type": "markdown",
   "id": "560a85e6",
   "metadata": {},
   "source": [
    "List should be sorted for binary search else it will give an error."
   ]
  },
  {
   "cell_type": "code",
   "execution_count": null,
   "id": "ee87cd80",
   "metadata": {},
   "outputs": [],
   "source": [
    "def binarySearch(a,x,si,ei):\n",
    "    if si > ei:\n",
    "        return -1\n",
    "    \n",
    "    mid = (si+ei)//2\n",
    "    if a[mid] == x:\n",
    "        return mid\n",
    "    elif a[mid] > x:\n",
    "        return binarySearch(a,x,si,mid-1)\n",
    "    else:\n",
    "        return binarySearch(a,x,mid+1,ei)\n",
    "    \n",
    "l = [int(x) for x in input().split()]\n",
    "x = int(input(\"Enter the character of list you want to search : \"))\n",
    "si = 0\n",
    "ei = len(l) - 1\n",
    "print(binarySearch(l,x,si,ei))"
   ]
  }
 ],
 "metadata": {
  "kernelspec": {
   "display_name": "Python 3",
   "language": "python",
   "name": "python3"
  },
  "language_info": {
   "codemirror_mode": {
    "name": "ipython",
    "version": 3
   },
   "file_extension": ".py",
   "mimetype": "text/x-python",
   "name": "python",
   "nbconvert_exporter": "python",
   "pygments_lexer": "ipython3",
   "version": "3.8.8"
  }
 },
 "nbformat": 4,
 "nbformat_minor": 5
}
