{
 "cells": [
  {
   "cell_type": "code",
   "execution_count": 2,
   "id": "43767dd9",
   "metadata": {},
   "outputs": [],
   "source": [
    "def Tower_Of_Hanoi(n,source,destination,aux):\n",
    "    if n == 1:\n",
    "        print(\"Move Disc 1 from Source\",source,\"to destination\",destination)\n",
    "        return\n",
    "    Tower_Of_Hanoi(n-1,source,aux,destination)\n",
    "    print(\"Move Disk\",n,\"from source\",source,\"to destination\",destination)\n",
    "    Tower_Of_Hanoi(n-1,aux,destination,source)"
   ]
  },
  {
   "cell_type": "code",
   "execution_count": 3,
   "id": "ce5689d3",
   "metadata": {},
   "outputs": [
    {
     "name": "stdout",
     "output_type": "stream",
     "text": [
      "Move Disc 1 from Source A to destination B\n",
      "Move Disk 2 from source A to destination C\n",
      "Move Disc 1 from Source B to destination C\n",
      "Move Disk 3 from source A to destination B\n",
      "Move Disc 1 from Source C to destination A\n",
      "Move Disk 2 from source C to destination B\n",
      "Move Disc 1 from Source A to destination B\n"
     ]
    }
   ],
   "source": [
    "n = 3\n",
    "Tower_Of_Hanoi(n,'A','B','C')"
   ]
  }
 ],
 "metadata": {
  "kernelspec": {
   "display_name": "Python 3",
   "language": "python",
   "name": "python3"
  },
  "language_info": {
   "codemirror_mode": {
    "name": "ipython",
    "version": 3
   },
   "file_extension": ".py",
   "mimetype": "text/x-python",
   "name": "python",
   "nbconvert_exporter": "python",
   "pygments_lexer": "ipython3",
   "version": "3.8.8"
  }
 },
 "nbformat": 4,
 "nbformat_minor": 5
}
