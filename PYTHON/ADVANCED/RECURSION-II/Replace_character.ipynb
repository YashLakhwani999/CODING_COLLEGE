{
 "cells": [
  {
   "cell_type": "markdown",
   "id": "b3796ba7",
   "metadata": {},
   "source": [
    "## ITERATIVE CODE"
   ]
  },
  {
   "cell_type": "code",
   "execution_count": null,
   "id": "a41df2ce",
   "metadata": {},
   "outputs": [],
   "source": [
    "a=[str(x) for x in input().split()]\n",
    "y = 'a'\n",
    "z = 'b'\n",
    "for i in range(len(a)):\n",
    "    if a[i]==y:\n",
    "        a[i] = z\n",
    "    else:\n",
    "        continue\n",
    "print(a)"
   ]
  },
  {
   "cell_type": "markdown",
   "id": "794d0c4d",
   "metadata": {},
   "source": [
    "## RECURSION CODE"
   ]
  },
  {
   "cell_type": "code",
   "execution_count": 1,
   "id": "86585dd2",
   "metadata": {
    "scrolled": true
   },
   "outputs": [
    {
     "name": "stdout",
     "output_type": "stream",
     "text": [
      "Enter your string : yash\n",
      "Enter the alphabet you want to replace : a\n",
      "Enter the new alphabet : y\n"
     ]
    },
    {
     "data": {
      "text/plain": [
       "'yysh'"
      ]
     },
     "execution_count": 1,
     "metadata": {},
     "output_type": "execute_result"
    }
   ],
   "source": [
    "def replace(str,x,y):\n",
    "    if len(str) == 0:\n",
    "        return str\n",
    "    \n",
    "    smallOutput = replace(str[1:],x,y)\n",
    "    if str[0] == x:\n",
    "        return y + smallOutput\n",
    "    else:\n",
    "        return str[0] + smallOutput\n",
    "    \n",
    "str = input(\"Enter your string : \")\n",
    "x = input(\"Enter the alphabet you want to replace : \")\n",
    "y = input(\"Enter the new alphabet : \")\n",
    "replace(str,x,y)"
   ]
  }
 ],
 "metadata": {
  "kernelspec": {
   "display_name": "Python 3",
   "language": "python",
   "name": "python3"
  },
  "language_info": {
   "codemirror_mode": {
    "name": "ipython",
    "version": 3
   },
   "file_extension": ".py",
   "mimetype": "text/x-python",
   "name": "python",
   "nbconvert_exporter": "python",
   "pygments_lexer": "ipython3",
   "version": "3.8.8"
  }
 },
 "nbformat": 4,
 "nbformat_minor": 5
}
