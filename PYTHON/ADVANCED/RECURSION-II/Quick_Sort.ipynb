{
 "cells": [
  {
   "cell_type": "code",
   "execution_count": null,
   "id": "1b72b3d0",
   "metadata": {},
   "outputs": [],
   "source": [
    "def Helper(n):\n",
    "    for i in range(1,len(n)):\n",
    "        if n[i-1] >= n[i]:\n",
    "            n[i-1],n[i] = n[i],n[i-1]\n",
    "    return n"
   ]
  },
  {
   "cell_type": "code",
   "execution_count": null,
   "id": "2addeda2",
   "metadata": {},
   "outputs": [],
   "source": [
    "def Quick_Sort(arr,si,ei):\n",
    "    if si >= ei :\n",
    "        return arr\n",
    "    \n",
    "    Helper(arr)\n",
    "    return Quick_Sort(arr,si,ei-1)\n",
    "    return Quick_Sort(arr,si+1,ei)\n",
    "        "
   ]
  },
  {
   "cell_type": "code",
   "execution_count": null,
   "id": "abcae9dd",
   "metadata": {},
   "outputs": [],
   "source": [
    "ei = int(input())    \n",
    "Arr = [int(x) for x in input().split()]\n",
    "si = 0\n",
    "Quick_Sort(Arr,si,ei)\n",
    "print(*Arr)"
   ]
  }
 ],
 "metadata": {
  "kernelspec": {
   "display_name": "Python 3",
   "language": "python",
   "name": "python3"
  },
  "language_info": {
   "codemirror_mode": {
    "name": "ipython",
    "version": 3
   },
   "file_extension": ".py",
   "mimetype": "text/x-python",
   "name": "python",
   "nbconvert_exporter": "python",
   "pygments_lexer": "ipython3",
   "version": "3.8.8"
  }
 },
 "nbformat": 4,
 "nbformat_minor": 5
}
