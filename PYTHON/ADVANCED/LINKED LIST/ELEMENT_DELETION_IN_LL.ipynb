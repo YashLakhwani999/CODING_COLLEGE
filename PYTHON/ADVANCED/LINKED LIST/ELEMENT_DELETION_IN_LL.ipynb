{
 "cells": [
  {
   "cell_type": "code",
   "execution_count": 15,
   "id": "3e7368b7",
   "metadata": {},
   "outputs": [
    {
     "name": "stdout",
     "output_type": "stream",
     "text": [
      "1 2 3 4 5\n",
      "1->2->3->4->5->None\n",
      "5\n",
      "1->2->3->4->5->None\n"
     ]
    }
   ],
   "source": [
    "class Node:\n",
    "    def __init__(self, data):\n",
    "        self.data = data\n",
    "        self.next = None\n",
    "    \n",
    "    \n",
    "def printLL(head):\n",
    "    while head is not None:\n",
    "        print(str(head.data)+\"->\",end=\"\")\n",
    "        head = head.next\n",
    "    print(\"None\")\n",
    "\n",
    "\n",
    "        \n",
    "def length(head):\n",
    "    count = 0\n",
    "    while head:\n",
    "        count += 1\n",
    "        head = head.next\n",
    "    return count\n",
    "\n",
    "\n",
    "\n",
    "def DELETE(head,i):\n",
    "    if i < 0 or i >= length(head):\n",
    "        return head\n",
    "    \n",
    "    prev = None\n",
    "    curr = head\n",
    "    new_curr = curr.next\n",
    "    count = 0\n",
    "    while count < i:\n",
    "        prev = curr\n",
    "        curr = curr.next\n",
    "        new_curr = new_curr.next\n",
    "        count = count + 1\n",
    "    \n",
    "    curr.next = None\n",
    "    if prev is not None:\n",
    "        prev.next = new_curr\n",
    "    else:\n",
    "        head = head.next\n",
    "    \n",
    "    return head\n",
    "\n",
    "            \n",
    "def takeinput():\n",
    "    inputlist = [int(i) for i in input().split()]\n",
    "    head = None\n",
    "    tail = None\n",
    "    for curr_data in inputlist:\n",
    "        if curr_data == -1:\n",
    "            break\n",
    "        \n",
    "        new_node = Node(curr_data)\n",
    "        if head is None:\n",
    "            head = new_node\n",
    "            tail = new_node\n",
    "        else:\n",
    "            tail.next = new_node\n",
    "            tail = new_node\n",
    "    return head\n",
    "\n",
    "head = takeinput()\n",
    "printLL(head)\n",
    "i = int(input())\n",
    "head = DELETE(head,i)\n",
    "printLL(head)"
   ]
  }
 ],
 "metadata": {
  "kernelspec": {
   "display_name": "Python 3",
   "language": "python",
   "name": "python3"
  },
  "language_info": {
   "codemirror_mode": {
    "name": "ipython",
    "version": 3
   },
   "file_extension": ".py",
   "mimetype": "text/x-python",
   "name": "python",
   "nbconvert_exporter": "python",
   "pygments_lexer": "ipython3",
   "version": "3.8.8"
  }
 },
 "nbformat": 4,
 "nbformat_minor": 5
}
