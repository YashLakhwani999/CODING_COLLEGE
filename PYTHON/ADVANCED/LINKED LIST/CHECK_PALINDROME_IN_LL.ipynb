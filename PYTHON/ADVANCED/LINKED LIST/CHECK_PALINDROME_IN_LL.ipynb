{
 "cells": [
  {
   "cell_type": "code",
   "execution_count": 31,
   "id": "930b636a",
   "metadata": {},
   "outputs": [
    {
     "name": "stdout",
     "output_type": "stream",
     "text": [
      "1 1 1 1 1\n",
      "true\n"
     ]
    }
   ],
   "source": [
    "import time\n",
    "\n",
    "class Node:\n",
    "    def __init__(self, data):\n",
    "        self.data = data\n",
    "        self.next = None\n",
    "\n",
    "        \n",
    "\n",
    "def printLL(head):\n",
    "    while head is not None:\n",
    "        print(str(head.data)+\"->\",end=\"\")\n",
    "        head = head.next\n",
    "    print(\"None\")\n",
    "        \n",
    "        \n",
    "def length(head):\n",
    "    count = 0\n",
    "    while head:\n",
    "        count += 1\n",
    "        head = head.next\n",
    "    return count\n",
    "\n",
    "def reverse(head):\n",
    "    curr=head\n",
    "    prev=None\n",
    "    next=None\n",
    "    while curr:\n",
    "        next=curr.next\n",
    "        curr.next=prev\n",
    "        prev=curr\n",
    "        curr=next\n",
    "        \n",
    "    return prev\n",
    "\n",
    "\n",
    "def isPalindrome(head) :\n",
    "    if head is None or head.next is None:\n",
    "        return True\n",
    "    fast=head\n",
    "    slow=head\n",
    "    while fast.next is not None and fast.next.next is not None:\n",
    "        fast=fast.next.next\n",
    "        slow=slow.next\n",
    "    head2=slow.next\n",
    "    slow.next=None\n",
    "    head2=reverse(head2)\n",
    "    firstlist=head2\n",
    "    secondlist=head\n",
    "    \n",
    "    while firstlist:\n",
    "        if firstlist.data!=secondlist.data:\n",
    "            return False\n",
    "        firstlist=firstlist.next\n",
    "        secondlist=secondlist.next\n",
    "    firstlist=head\n",
    "    secondlist=reverse(head2)\n",
    "    while firstlist.next:\n",
    "        firstlist=firstlist.next\n",
    "    firstlist.next=secondlist\n",
    "    return True\n",
    "    \n",
    "def takeinput():\n",
    "    inputlist = [int(i) for i in input().split()]\n",
    "    head = None\n",
    "    tail = None\n",
    "    for curr_data in inputlist:\n",
    "        if curr_data == -1:\n",
    "            break\n",
    "        \n",
    "        new_node = Node(curr_data)\n",
    "        if head is None:\n",
    "            head = new_node\n",
    "            tail = new_node\n",
    "        else:\n",
    "            tail.next = new_node\n",
    "            tail = new_node\n",
    "    return head\n",
    "\n",
    "start = time.time()\n",
    "head = takeinput()\n",
    "if isPalindrome(head):\n",
    "    print(\"true\")\n",
    "else:\n",
    "    print(\"false\")"
   ]
  },
  {
   "cell_type": "code",
   "execution_count": 17,
   "id": "59a3b4b8",
   "metadata": {},
   "outputs": [
    {
     "data": {
      "text/plain": [
       "2"
      ]
     },
     "execution_count": 17,
     "metadata": {},
     "output_type": "execute_result"
    }
   ],
   "source": [
    "5//2"
   ]
  }
 ],
 "metadata": {
  "kernelspec": {
   "display_name": "Python 3",
   "language": "python",
   "name": "python3"
  },
  "language_info": {
   "codemirror_mode": {
    "name": "ipython",
    "version": 3
   },
   "file_extension": ".py",
   "mimetype": "text/x-python",
   "name": "python",
   "nbconvert_exporter": "python",
   "pygments_lexer": "ipython3",
   "version": "3.8.8"
  }
 },
 "nbformat": 4,
 "nbformat_minor": 5
}
