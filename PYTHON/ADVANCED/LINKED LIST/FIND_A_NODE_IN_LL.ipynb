{
 "cells": [
  {
   "cell_type": "code",
   "execution_count": 4,
   "id": "c800ed32",
   "metadata": {},
   "outputs": [
    {
     "name": "stdout",
     "output_type": "stream",
     "text": [
      "1 2 3 4 5\n",
      "1->2->3->4->5->None\n",
      "5\n",
      "4\n"
     ]
    }
   ],
   "source": [
    "class Node:\n",
    "    def __init__(self, data):\n",
    "        self.data = data\n",
    "        self.next = None\n",
    "    \n",
    "    \n",
    "def printLL(head):\n",
    "    while head is not None:\n",
    "        print(str(head.data)+\"->\",end=\"\")\n",
    "        head = head.next\n",
    "    print(\"None\")\n",
    "\n",
    "\n",
    "def find(head,n):\n",
    "    count = 0\n",
    "    while head:\n",
    "        if head.data == n:\n",
    "            return count\n",
    "        count = count + 1\n",
    "        head = head.next\n",
    "\n",
    "\n",
    "\n",
    "\n",
    "        \n",
    "            \n",
    "def takeinput():\n",
    "    inputlist = [int(i) for i in input().split()]\n",
    "    head = None\n",
    "    tail = None\n",
    "    for curr_data in inputlist:\n",
    "        if curr_data == -1:\n",
    "            break\n",
    "        \n",
    "        new_node = Node(curr_data)\n",
    "        if head is None:\n",
    "            head = new_node\n",
    "            tail = new_node\n",
    "        else:\n",
    "            tail.next = new_node\n",
    "            tail = new_node\n",
    "    return head\n",
    "\n",
    "head = takeinput()\n",
    "printLL(head)\n",
    "n = int(input())\n",
    "head = find(head,n)\n",
    "print(head)"
   ]
  }
 ],
 "metadata": {
  "kernelspec": {
   "display_name": "Python 3",
   "language": "python",
   "name": "python3"
  },
  "language_info": {
   "codemirror_mode": {
    "name": "ipython",
    "version": 3
   },
   "file_extension": ".py",
   "mimetype": "text/x-python",
   "name": "python",
   "nbconvert_exporter": "python",
   "pygments_lexer": "ipython3",
   "version": "3.8.8"
  }
 },
 "nbformat": 4,
 "nbformat_minor": 5
}
