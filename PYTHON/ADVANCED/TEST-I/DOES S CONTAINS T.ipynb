{
 "cells": [
  {
   "cell_type": "code",
   "execution_count": 1,
   "id": "7a3fbd8d",
   "metadata": {},
   "outputs": [
    {
     "name": "stdout",
     "output_type": "stream",
     "text": [
      "abchjsgsuohhdhyrikkknddg\n",
      "coding\n",
      "false\n"
     ]
    }
   ],
   "source": [
    "def contains(s,t):\n",
    "    if len(s) == 0:\n",
    "        return False\n",
    "    if len(t) == 0:\n",
    "        return True\n",
    "    \n",
    "    if s[0] == t[0]:\n",
    "        return contains(s[1:],t[1:])\n",
    "    else:\n",
    "        return contains(s[1:],t)\n",
    "    \n",
    "    \n",
    "s = input()\n",
    "t = input()\n",
    "ans = contains(s,t)\n",
    "if ans is True:\n",
    "    print(\"True\")\n",
    "else:\n",
    "    print(\"false\")"
   ]
  }
 ],
 "metadata": {
  "kernelspec": {
   "display_name": "Python 3",
   "language": "python",
   "name": "python3"
  },
  "language_info": {
   "codemirror_mode": {
    "name": "ipython",
    "version": 3
   },
   "file_extension": ".py",
   "mimetype": "text/x-python",
   "name": "python",
   "nbconvert_exporter": "python",
   "pygments_lexer": "ipython3",
   "version": "3.8.8"
  }
 },
 "nbformat": 4,
 "nbformat_minor": 5
}
