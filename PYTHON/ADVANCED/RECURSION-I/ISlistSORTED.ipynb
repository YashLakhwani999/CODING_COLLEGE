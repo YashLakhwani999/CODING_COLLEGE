{
 "cells": [
  {
   "cell_type": "markdown",
   "id": "0f31e99a",
   "metadata": {},
   "source": [
    "## NOT IMPROVISED"
   ]
  },
  {
   "cell_type": "code",
   "execution_count": null,
   "id": "e39cc577",
   "metadata": {},
   "outputs": [],
   "source": [
    "def issorted(list):\n",
    "    if len(list) == 0 or len(list) == 1:\n",
    "        return True\n",
    "    if list[0] > list[1]:\n",
    "        return False\n",
    "    SmallList = list[1:]\n",
    "    isSmalllistSorted = issorted(SmallList)\n",
    "    if isSmalllistSorted:\n",
    "        return True\n",
    "    else:\n",
    "        return False"
   ]
  },
  {
   "cell_type": "code",
   "execution_count": null,
   "id": "9fd15f32",
   "metadata": {},
   "outputs": [],
   "source": [
    "list = [int(i) for i in input().split()]\n",
    "print(issorted(list))"
   ]
  },
  {
   "cell_type": "markdown",
   "id": "d61353f2",
   "metadata": {},
   "source": [
    "## IMPROVISED"
   ]
  },
  {
   "cell_type": "code",
   "execution_count": null,
   "id": "ce15beae",
   "metadata": {},
   "outputs": [],
   "source": [
    "def issorted_improvised(li,si=0):          #li is List and si is the Starting Index\n",
    "    a = len(li)\n",
    "    if si == a - 1 or si == a:\n",
    "        return True\n",
    "    if li[si] > li[si+1]:\n",
    "        return False\n",
    "    issmallerpartsorted = issorted_improvised(li,si + 1)\n",
    "    return issmallerpartsorted"
   ]
  },
  {
   "cell_type": "code",
   "execution_count": null,
   "id": "de7cba23",
   "metadata": {},
   "outputs": [],
   "source": [
    "li = [int(i) for i in input().split()]\n",
    "issorted_improvised(li)"
   ]
  }
 ],
 "metadata": {
  "kernelspec": {
   "display_name": "Python 3",
   "language": "python",
   "name": "python3"
  },
  "language_info": {
   "codemirror_mode": {
    "name": "ipython",
    "version": 3
   },
   "file_extension": ".py",
   "mimetype": "text/x-python",
   "name": "python",
   "nbconvert_exporter": "python",
   "pygments_lexer": "ipython3",
   "version": "3.8.8"
  }
 },
 "nbformat": 4,
 "nbformat_minor": 5
}
