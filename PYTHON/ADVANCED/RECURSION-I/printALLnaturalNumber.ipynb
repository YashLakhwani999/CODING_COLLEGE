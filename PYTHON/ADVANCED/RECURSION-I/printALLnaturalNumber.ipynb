{
 "cells": [
  {
   "cell_type": "code",
   "execution_count": null,
   "id": "bcaea8d3",
   "metadata": {},
   "outputs": [],
   "source": [
    "import sys\n",
    "sys.setrecursionlimit(3000)"
   ]
  },
  {
   "cell_type": "markdown",
   "id": "9c915e0a",
   "metadata": {},
   "source": [
    "## Numbers from 1 to N"
   ]
  },
  {
   "cell_type": "code",
   "execution_count": null,
   "id": "84d25438",
   "metadata": {},
   "outputs": [],
   "source": [
    "def number(n):\n",
    "    if n == 0:\n",
    "        return\n",
    "    number(n-1)\n",
    "    print(n, end=\" \")\n",
    "    return\n",
    "\n",
    "n = int(input(\"Enter the last number you want to print of all natural's : \"))\n",
    "number(n)"
   ]
  },
  {
   "cell_type": "markdown",
   "id": "f9704e7b",
   "metadata": {},
   "source": [
    "## Numbers from N to 1"
   ]
  },
  {
   "cell_type": "code",
   "execution_count": null,
   "id": "6a9d19b8",
   "metadata": {},
   "outputs": [],
   "source": [
    "def number_n_1(n):\n",
    "    if n == 0:\n",
    "        return\n",
    "    print(n, end=\" \")\n",
    "    number_n_1(n-1)\n",
    "    return\n",
    "n = int(input(\"Enter any number : \"))\n",
    "number_n_1(n)"
   ]
  }
 ],
 "metadata": {
  "kernelspec": {
   "display_name": "Python 3",
   "language": "python",
   "name": "python3"
  },
  "language_info": {
   "codemirror_mode": {
    "name": "ipython",
    "version": 3
   },
   "file_extension": ".py",
   "mimetype": "text/x-python",
   "name": "python",
   "nbconvert_exporter": "python",
   "pygments_lexer": "ipython3",
   "version": "3.8.8"
  }
 },
 "nbformat": 4,
 "nbformat_minor": 5
}
