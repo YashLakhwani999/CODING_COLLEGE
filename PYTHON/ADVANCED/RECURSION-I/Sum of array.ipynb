{
 "cells": [
  {
   "cell_type": "code",
   "execution_count": null,
   "id": "f0593e5c",
   "metadata": {},
   "outputs": [],
   "source": [
    "a=int(input(\"Enter the length of array: \"))\n",
    "b=[int(i) for i in input().split()]\n",
    "c=len(b)\n",
    "if c==a:\n",
    "    sum=0\n",
    "    for i in range(c):\n",
    "        sum+=b[i]\n",
    "    print(sum)\n",
    "else:\n",
    "    print(\"Limit Exceeded\")"
   ]
  },
  {
   "cell_type": "code",
   "execution_count": null,
   "id": "f99e1f51",
   "metadata": {},
   "outputs": [],
   "source": [
    "def sum_of_array(arr):\n",
    "    sum=0\n",
    "    for i in range(len(arr)):\n",
    "        sum+=arr[i]\n",
    "    return sum"
   ]
  },
  {
   "cell_type": "code",
   "execution_count": null,
   "id": "b9aba9f7",
   "metadata": {},
   "outputs": [],
   "source": [
    "sum_of_array([1,2,3,4,5,6,7,8])"
   ]
  }
 ],
 "metadata": {
  "kernelspec": {
   "display_name": "Python 3",
   "language": "python",
   "name": "python3"
  },
  "language_info": {
   "codemirror_mode": {
    "name": "ipython",
    "version": 3
   },
   "file_extension": ".py",
   "mimetype": "text/x-python",
   "name": "python",
   "nbconvert_exporter": "python",
   "pygments_lexer": "ipython3",
   "version": "3.8.8"
  }
 },
 "nbformat": 4,
 "nbformat_minor": 5
}
