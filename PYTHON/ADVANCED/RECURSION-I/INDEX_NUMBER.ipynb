{
 "cells": [
  {
   "cell_type": "markdown",
   "id": "f60e6451",
   "metadata": {},
   "source": [
    "# FIRST INDEX NUMBER"
   ]
  },
  {
   "cell_type": "code",
   "execution_count": null,
   "id": "c2f9ee09",
   "metadata": {},
   "outputs": [],
   "source": [
    "def count_number(arr,x):\n",
    "    count = 0\n",
    "    if x in arr:\n",
    "        for i in  arr:\n",
    "            if i == x:\n",
    "                return count\n",
    "            count+=1\n",
    "        return count_number(arr[1:],x)\n",
    "    else:\n",
    "        return -1\n",
    "\n",
    "#main    \n",
    "arr = [int(x) for x in input().split()]\n",
    "x = int(input(\"Enter the number whose index you want to find in the array : \"))\n",
    "print(count_number(arr,x))"
   ]
  },
  {
   "cell_type": "markdown",
   "id": "1bc7ca81",
   "metadata": {},
   "source": [
    "# LAST INDEX NUMBER"
   ]
  },
  {
   "cell_type": "code",
   "execution_count": null,
   "id": "1ad4f1c7",
   "metadata": {},
   "outputs": [],
   "source": [
    "def last_index(arr,x):\n",
    "    count = len(arr)-1\n",
    "    if x in arr:\n",
    "        for i in arr[::-1]:\n",
    "            if i == x:\n",
    "                return count\n",
    "            count-=1\n",
    "        return last_index(arr[1:],x)\n",
    "    else:\n",
    "        return -1\n",
    "\n",
    "#main   \n",
    "arr=[int(x) for x in input().split()]\n",
    "x=1\n",
    "last_index(arr,x)"
   ]
  }
 ],
 "metadata": {
  "kernelspec": {
   "display_name": "Python 3",
   "language": "python",
   "name": "python3"
  },
  "language_info": {
   "codemirror_mode": {
    "name": "ipython",
    "version": 3
   },
   "file_extension": ".py",
   "mimetype": "text/x-python",
   "name": "python",
   "nbconvert_exporter": "python",
   "pygments_lexer": "ipython3",
   "version": "3.8.8"
  }
 },
 "nbformat": 4,
 "nbformat_minor": 5
}
