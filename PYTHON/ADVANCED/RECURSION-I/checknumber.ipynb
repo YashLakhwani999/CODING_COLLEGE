{
 "cells": [
  {
   "cell_type": "code",
   "execution_count": null,
   "id": "3cf9de86",
   "metadata": {},
   "outputs": [],
   "source": [
    "def checknumber(arr,x):\n",
    "    if len(arr) == 0:\n",
    "        return\n",
    "    if arr[0] == x:\n",
    "        return True\n",
    "    else:\n",
    "        checknumber(arr[1:],x)\n",
    "list = [1,2,3,4,5,6,7,8]\n",
    "x1 = \n",
    "if checknumber(list,x1):\n",
    "    print('true')\n",
    "else:\n",
    "    print('false')"
   ]
  },
  {
   "cell_type": "code",
   "execution_count": null,
   "id": "165f348c",
   "metadata": {},
   "outputs": [],
   "source": [
    "arr=[1,2,3,4,5,6,7,8]\n",
    "x=100\n",
    "if checknumber(arr, x):\n",
    "    print('true')\n",
    "else:\n",
    "    print(\"false\")"
   ]
  }
 ],
 "metadata": {
  "kernelspec": {
   "display_name": "Python 3",
   "language": "python",
   "name": "python3"
  },
  "language_info": {
   "codemirror_mode": {
    "name": "ipython",
    "version": 3
   },
   "file_extension": ".py",
   "mimetype": "text/x-python",
   "name": "python",
   "nbconvert_exporter": "python",
   "pygments_lexer": "ipython3",
   "version": "3.8.8"
  }
 },
 "nbformat": 4,
 "nbformat_minor": 5
}
