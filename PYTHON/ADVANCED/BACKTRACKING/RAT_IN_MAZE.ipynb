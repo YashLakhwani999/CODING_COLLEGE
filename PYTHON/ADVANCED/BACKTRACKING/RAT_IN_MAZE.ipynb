{
 "cells": [
  {
   "cell_type": "code",
   "execution_count": 11,
   "id": "c1515215",
   "metadata": {},
   "outputs": [],
   "source": [
    "def printPath(maze):\n",
    "    n = len(maze)\n",
    "    solution = [[0 for i in range(n)] for j in range(n)]\n",
    "    printHelper(0,0,maze,n,solution)"
   ]
  },
  {
   "cell_type": "code",
   "execution_count": 10,
   "id": "04426f75",
   "metadata": {},
   "outputs": [],
   "source": [
    "def printHelper(x, y, maze, n, solution):\n",
    "    if x == n-1 and y == n-1:\n",
    "        solution[x][y] = 1\n",
    "        print(solution)\n",
    "        return \n",
    "    \n",
    "    if x < 0 or y < 0 or x >= n or y >= n or maze[x][y] == 0 or solution[x][y] == 1:\n",
    "        return\n",
    "    \n",
    "    solution[x][y] = 1\n",
    "    printHelper(x + 1, y, maze, n, solution)\n",
    "    printHelper(x, y + 1, maze, n, solution)\n",
    "    printHelper(x - 1, y, maze, n, solution)\n",
    "    printHelper(x, y - 1, maze, n, solution)\n",
    "    solution[x][y] = 0\n",
    "    return "
   ]
  },
  {
   "cell_type": "code",
   "execution_count": 12,
   "id": "e15e871a",
   "metadata": {},
   "outputs": [
    {
     "name": "stdout",
     "output_type": "stream",
     "text": [
      "4\n",
      "1 1 1 1\n",
      "1 0 1 1\n",
      "1 1 0 1\n",
      "1 1 1 1\n",
      "[[1, 0, 0, 0], [1, 0, 0, 0], [1, 0, 0, 0], [1, 1, 1, 1]]\n",
      "[[1, 0, 0, 0], [1, 0, 0, 0], [1, 1, 0, 0], [0, 1, 1, 1]]\n",
      "[[1, 1, 1, 0], [0, 0, 1, 1], [0, 0, 0, 1], [0, 0, 0, 1]]\n",
      "[[1, 1, 1, 1], [0, 0, 0, 1], [0, 0, 0, 1], [0, 0, 0, 1]]\n"
     ]
    }
   ],
   "source": [
    "n = int(input())\n",
    "maze = []\n",
    "for i in range(n):\n",
    "    row = [int(ele) for ele in input().split()]\n",
    "    maze.append(row)\n",
    "    \n",
    "printPath(maze)"
   ]
  }
 ],
 "metadata": {
  "kernelspec": {
   "display_name": "Python 3",
   "language": "python",
   "name": "python3"
  },
  "language_info": {
   "codemirror_mode": {
    "name": "ipython",
    "version": 3
   },
   "file_extension": ".py",
   "mimetype": "text/x-python",
   "name": "python",
   "nbconvert_exporter": "python",
   "pygments_lexer": "ipython3",
   "version": "3.8.8"
  }
 },
 "nbformat": 4,
 "nbformat_minor": 5
}
