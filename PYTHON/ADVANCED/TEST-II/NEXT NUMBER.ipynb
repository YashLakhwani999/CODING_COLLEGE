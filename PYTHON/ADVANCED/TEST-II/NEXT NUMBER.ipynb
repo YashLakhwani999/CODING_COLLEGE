{
 "cells": [
  {
   "cell_type": "code",
   "execution_count": 7,
   "id": "43d3c070",
   "metadata": {},
   "outputs": [
    {
     "name": "stdout",
     "output_type": "stream",
     "text": [
      "1 2 3 1 3 4 5 2 3 -1\n",
      "1 2 3 1 3 4 5 2 4 "
     ]
    }
   ],
   "source": [
    "class Node:\n",
    "    def __init__(self, data):\n",
    "        self.data = data\n",
    "        self.next = None\n",
    "\n",
    "\n",
    "def addwithcarry(head):\n",
    "    if head == None:\n",
    "        return 1\n",
    "    result = head.data + addwithcarry(head.next)\n",
    "    head.data = int((result)%10)\n",
    "    return int((result)/10)\n",
    "\n",
    "def nextNumber(head):\n",
    "    carry = addwithcarry(head)\n",
    "    if (carry != 0):\n",
    "        newNode = Node(0)\n",
    "        newNode.data = carry\n",
    "        newNode.next = head\n",
    "        return newNode\n",
    "    return head\n",
    "    \n",
    "    \n",
    "def ll(arr):\n",
    "    if len(arr)==0:\n",
    "        return None\n",
    "    head = Node(arr[0])\n",
    "    last = head\n",
    "    for data in arr[1:]:\n",
    "        last.next = Node(data)\n",
    "        last = last.next\n",
    "    return head\n",
    "\n",
    "def printll(head):\n",
    "    while head is not None:\n",
    "        print(head.data,end= ' ')\n",
    "        head = head.next\n",
    "    return\n",
    "\n",
    "# Main\n",
    "# Read the link list elements including -1\n",
    "arr=[int(ele) for ele in input().split()]\n",
    "# Create a Linked list after removing -1 from list\n",
    "l = ll(arr[:-1])\n",
    "head = nextNumber(l)\n",
    "printll(head)"
   ]
  }
 ],
 "metadata": {
  "kernelspec": {
   "display_name": "Python 3",
   "language": "python",
   "name": "python3"
  },
  "language_info": {
   "codemirror_mode": {
    "name": "ipython",
    "version": 3
   },
   "file_extension": ".py",
   "mimetype": "text/x-python",
   "name": "python",
   "nbconvert_exporter": "python",
   "pygments_lexer": "ipython3",
   "version": "3.8.8"
  }
 },
 "nbformat": 4,
 "nbformat_minor": 5
}
