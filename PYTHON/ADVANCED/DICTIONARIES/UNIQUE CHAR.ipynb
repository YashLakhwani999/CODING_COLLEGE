{
 "cells": [
  {
   "cell_type": "code",
   "execution_count": 36,
   "id": "6030c47c",
   "metadata": {},
   "outputs": [],
   "source": [
    "def uniqueChar(s):\n",
    "    d = dict()\n",
    "    l = list(s)\n",
    "    for i in l:\n",
    "        d[i] = d.get(i, 0) + 1\n",
    "        \n",
    "    for i in d:\n",
    "        if d[i] >= 1:\n",
    "            print(i, end = \"\")"
   ]
  },
  {
   "cell_type": "code",
   "execution_count": 45,
   "id": "be99b6f3",
   "metadata": {},
   "outputs": [
    {
     "name": "stdout",
     "output_type": "stream",
     "text": [
      "codingninjas\n",
      "codingjas"
     ]
    }
   ],
   "source": [
    "s = input()\n",
    "uniqueChar(s)"
   ]
  }
 ],
 "metadata": {
  "kernelspec": {
   "display_name": "Python 3",
   "language": "python",
   "name": "python3"
  },
  "language_info": {
   "codemirror_mode": {
    "name": "ipython",
    "version": 3
   },
   "file_extension": ".py",
   "mimetype": "text/x-python",
   "name": "python",
   "nbconvert_exporter": "python",
   "pygments_lexer": "ipython3",
   "version": "3.8.8"
  }
 },
 "nbformat": 4,
 "nbformat_minor": 5
}
