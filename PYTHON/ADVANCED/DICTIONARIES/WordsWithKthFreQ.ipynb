{
 "cells": [
  {
   "cell_type": "code",
   "execution_count": 3,
   "id": "636d4f43",
   "metadata": {},
   "outputs": [],
   "source": [
    "def printKFreQword(s, k):\n",
    "    words = s.split()\n",
    "    d = dict()\n",
    "    for w in words:\n",
    "        d[w] = d.get(w, 0) + 1\n",
    "    \n",
    "    for w in d:\n",
    "        if d[w] == k:\n",
    "            print(w)"
   ]
  },
  {
   "cell_type": "code",
   "execution_count": 4,
   "id": "05234b99",
   "metadata": {},
   "outputs": [
    {
     "name": "stdout",
     "output_type": "stream",
     "text": [
      "hello my name is Yash name is Yash Lakhwani .\n",
      "2\n",
      "name\n",
      "is\n",
      "Yash\n"
     ]
    }
   ],
   "source": [
    "s = input()\n",
    "k = int(input())\n",
    "printKFreQword(s, k)"
   ]
  }
 ],
 "metadata": {
  "kernelspec": {
   "display_name": "Python 3",
   "language": "python",
   "name": "python3"
  },
  "language_info": {
   "codemirror_mode": {
    "name": "ipython",
    "version": 3
   },
   "file_extension": ".py",
   "mimetype": "text/x-python",
   "name": "python",
   "nbconvert_exporter": "python",
   "pygments_lexer": "ipython3",
   "version": "3.8.8"
  }
 },
 "nbformat": 4,
 "nbformat_minor": 5
}
