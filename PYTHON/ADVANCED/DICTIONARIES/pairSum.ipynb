{
 "cells": [
  {
   "cell_type": "code",
   "execution_count": 22,
   "id": "148e30ac",
   "metadata": {},
   "outputs": [],
   "source": [
    "def pairSum0(arr):\n",
    "    d = {}\n",
    "    for i in arr:\n",
    "        if i in d:\n",
    "            d[i] = d.get(i, 0) + 1\n",
    "        else:\n",
    "            d[i] = 1\n",
    "    \n",
    "    pairs = 0\n",
    "    for i in d:\n",
    "        if i < 0:\n",
    "            n = i * -1\n",
    "            if n in d:\n",
    "                pairs = pairs + (d[n] * d[i])\n",
    "                d[n] = 0\n",
    "                d[i] = 0\n",
    "        if i == 0:\n",
    "            pairs = pairs + (d[i] * (d[i] - 1) // 2)\n",
    "            d[i] = 0\n",
    "    return pairs"
   ]
  },
  {
   "cell_type": "code",
   "execution_count": 13,
   "id": "fd1d51b7",
   "metadata": {},
   "outputs": [
    {
     "data": {
      "text/plain": [
       "67"
      ]
     },
     "execution_count": 13,
     "metadata": {},
     "output_type": "execute_result"
    }
   ],
   "source": [
    "d = {1:5, 4: 67}\n",
    "d[4]"
   ]
  },
  {
   "cell_type": "code",
   "execution_count": 23,
   "id": "1837ae76",
   "metadata": {},
   "outputs": [
    {
     "data": {
      "text/plain": [
       "10"
      ]
     },
     "execution_count": 23,
     "metadata": {},
     "output_type": "execute_result"
    }
   ],
   "source": [
    "arr = [-1,2,-2,2,1,-1,0,0,0,0]\n",
    "pairSum0(arr)"
   ]
  }
 ],
 "metadata": {
  "kernelspec": {
   "display_name": "Python 3",
   "language": "python",
   "name": "python3"
  },
  "language_info": {
   "codemirror_mode": {
    "name": "ipython",
    "version": 3
   },
   "file_extension": ".py",
   "mimetype": "text/x-python",
   "name": "python",
   "nbconvert_exporter": "python",
   "pygments_lexer": "ipython3",
   "version": "3.8.8"
  }
 },
 "nbformat": 4,
 "nbformat_minor": 5
}
