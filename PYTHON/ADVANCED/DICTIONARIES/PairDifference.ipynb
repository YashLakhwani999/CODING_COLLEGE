{
 "cells": [
  {
   "cell_type": "code",
   "execution_count": 7,
   "id": "2f1e04fd",
   "metadata": {},
   "outputs": [
    {
     "name": "stdout",
     "output_type": "stream",
     "text": [
      "2\n"
     ]
    }
   ],
   "source": [
    "l = [2, -1, 2, -1]\n",
    "k = 3\n",
    "count = 0\n",
    "for i in l:\n",
    "    if i + k in l:\n",
    "        count = count + 1\n",
    "    \n",
    "print(count)"
   ]
  },
  {
   "cell_type": "code",
   "execution_count": 31,
   "id": "03883e95",
   "metadata": {},
   "outputs": [],
   "source": [
    "def printPairDiffK(arr, k):\n",
    "    d = {}           \n",
    "    count = 0\n",
    "    \n",
    "    for i in arr:\n",
    "        if i+k in d:\n",
    "            count += d[i+k]\n",
    "        if i-k in d and k!=0:\n",
    "            count += d[i-k]\n",
    "        \n",
    "        if i in d:\n",
    "            d[i] += 1\n",
    "        else:\n",
    "            d[i] = 1\n",
    "\n",
    "    return count"
   ]
  },
  {
   "cell_type": "code",
   "execution_count": 32,
   "id": "f51205fa",
   "metadata": {},
   "outputs": [
    {
     "data": {
      "text/plain": [
       "6"
      ]
     },
     "execution_count": 32,
     "metadata": {},
     "output_type": "execute_result"
    }
   ],
   "source": [
    "arr = [4,4,4,4]\n",
    "printPairDiffK(arr, 0)"
   ]
  }
 ],
 "metadata": {
  "kernelspec": {
   "display_name": "Python 3",
   "language": "python",
   "name": "python3"
  },
  "language_info": {
   "codemirror_mode": {
    "name": "ipython",
    "version": 3
   },
   "file_extension": ".py",
   "mimetype": "text/x-python",
   "name": "python",
   "nbconvert_exporter": "python",
   "pygments_lexer": "ipython3",
   "version": "3.8.8"
  }
 },
 "nbformat": 4,
 "nbformat_minor": 5
}
