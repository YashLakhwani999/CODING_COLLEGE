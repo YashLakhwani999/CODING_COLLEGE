{
 "cells": [
  {
   "cell_type": "code",
   "execution_count": 91,
   "id": "ec3348ce",
   "metadata": {},
   "outputs": [],
   "source": [
    "def longestConsecutiveSubsequence(arr,n): \n",
    "    visitedElements = {} \n",
    "    elementToIndexMapping = {} \n",
    "    for i in range(n): \n",
    "        elementToIndexMapping[arr[i]] = i \n",
    "        if arr[i] not in visitedElements: \n",
    "            visitedElements[arr[i]]=True \n",
    "            \n",
    "            \n",
    "    longestSequence=[] \n",
    "    maxSequenceLength = 1 \n",
    "    minStartIndex = 0 \n",
    "        \n",
    "    for i in range(n): \n",
    "        num = arr[i] \n",
    "        currentMinStartIndex = i \n",
    "        count = 0 \n",
    "        tempNum = num \n",
    "            \n",
    "        while tempNum in visitedElements and visitedElements[tempNum]==True: \n",
    "            visitedElements[tempNum] = False \n",
    "            count+=1 \n",
    "            tempNum+=1 \n",
    "            \n",
    "        \n",
    "        tempNum = num - 1 \n",
    "        while tempNum in visitedElements and visitedElements[tempNum]==True: \n",
    "            visitedElements[tempNum] = False \n",
    "            count+=1 \n",
    "            currentMinStartIndex = elementToIndexMapping[tempNum] \n",
    "            tempNum-=1 \n",
    "            \n",
    "        if (count > maxSequenceLength): \n",
    "            maxSequenceLength = count \n",
    "            minStartIndex = currentMinStartIndex\n",
    "        elif (count == maxSequenceLength): \n",
    "            if (currentMinStartIndex < minStartIndex): \n",
    "                minStartIndex = currentMinStartIndex \n",
    "                \n",
    "    startNum = arr[minStartIndex] \n",
    "    \n",
    "    longestSequence.append(startNum) \n",
    "    if (maxSequenceLength > 1): \n",
    "        longestSequence.append(startNum + maxSequenceLength - 1) \n",
    "        \n",
    "    return longestSequence"
   ]
  },
  {
   "cell_type": "code",
   "execution_count": 94,
   "id": "27fb8d62",
   "metadata": {},
   "outputs": [
    {
     "name": "stdout",
     "output_type": "stream",
     "text": [
      "3 7 2 1 9 8 41\n",
      "7 9\n"
     ]
    }
   ],
   "source": [
    "arr = [int(x) for x in input().split()]\n",
    "n = len(arr)\n",
    "ans = longestConsecutiveSubsequence(arr, n)\n",
    "print(*ans)"
   ]
  }
 ],
 "metadata": {
  "kernelspec": {
   "display_name": "Python 3",
   "language": "python",
   "name": "python3"
  },
  "language_info": {
   "codemirror_mode": {
    "name": "ipython",
    "version": 3
   },
   "file_extension": ".py",
   "mimetype": "text/x-python",
   "name": "python",
   "nbconvert_exporter": "python",
   "pygments_lexer": "ipython3",
   "version": "3.8.8"
  }
 },
 "nbformat": 4,
 "nbformat_minor": 5
}
