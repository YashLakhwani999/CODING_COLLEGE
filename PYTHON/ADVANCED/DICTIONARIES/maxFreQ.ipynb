{
 "cells": [
  {
   "cell_type": "code",
   "execution_count": 26,
   "id": "0f1e53d8",
   "metadata": {},
   "outputs": [],
   "source": [
    "def maxFreq(arr):\n",
    "    d = dict()\n",
    "    for i in arr:\n",
    "        d[i] = d.get(i, 0) + 1\n",
    "        \n",
    "    maxnFreq = max(d.values())\n",
    "    for i in d:\n",
    "        if d[i] == maxnFreq:\n",
    "            print(i)"
   ]
  },
  {
   "cell_type": "code",
   "execution_count": 27,
   "id": "fbc2c677",
   "metadata": {},
   "outputs": [
    {
     "name": "stdout",
     "output_type": "stream",
     "text": [
      "1 1 1 1 2 2 2 2 2 3 3 3 3 3\n"
     ]
    },
    {
     "data": {
      "text/plain": [
       "2"
      ]
     },
     "execution_count": 27,
     "metadata": {},
     "output_type": "execute_result"
    }
   ],
   "source": [
    "arr = [int (x) for x in input().split()]\n",
    "maxfreq(arr)"
   ]
  },
  {
   "cell_type": "markdown",
   "id": "94365c04",
   "metadata": {},
   "source": [
    "## coding ninja's code"
   ]
  },
  {
   "cell_type": "code",
   "execution_count": 25,
   "id": "65509cbe",
   "metadata": {},
   "outputs": [],
   "source": [
    "def maxfreq(l):\n",
    "    \n",
    "    d = dict()\n",
    "    for i in l:\n",
    "        if i in d:\n",
    "            d[i] = d.get(i, 0) + 1\n",
    "        else:\n",
    "            d[i] = 1\n",
    "    max = -1\n",
    "    for x in l:\n",
    "        if d[x] > max:\n",
    "            max = d[x]\n",
    "            num = x        \n",
    "            \n",
    "    return num"
   ]
  }
 ],
 "metadata": {
  "kernelspec": {
   "display_name": "Python 3",
   "language": "python",
   "name": "python3"
  },
  "language_info": {
   "codemirror_mode": {
    "name": "ipython",
    "version": 3
   },
   "file_extension": ".py",
   "mimetype": "text/x-python",
   "name": "python",
   "nbconvert_exporter": "python",
   "pygments_lexer": "ipython3",
   "version": "3.8.8"
  }
 },
 "nbformat": 4,
 "nbformat_minor": 5
}
