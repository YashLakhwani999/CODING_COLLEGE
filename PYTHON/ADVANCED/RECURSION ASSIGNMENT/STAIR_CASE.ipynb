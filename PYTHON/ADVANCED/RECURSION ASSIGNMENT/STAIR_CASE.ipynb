{
 "cells": [
  {
   "cell_type": "code",
   "execution_count": null,
   "id": "b6a172b9",
   "metadata": {},
   "outputs": [],
   "source": [
    "def Stair_case(n):\n",
    "    if ( n == 0 ):\n",
    "        return 1\n",
    "    elif (n < 0):\n",
    "        return 0\n",
    " \n",
    "    else:\n",
    "        return Stair_case(n - 3) + Stair_case(n - 2) + Stair_case(n - 1)"
   ]
  },
  {
   "cell_type": "code",
   "execution_count": null,
   "id": "b2b1741a",
   "metadata": {},
   "outputs": [],
   "source": [
    "step = int(input())\n",
    "print(Stair_case(step))"
   ]
  }
 ],
 "metadata": {
  "kernelspec": {
   "display_name": "Python 3",
   "language": "python",
   "name": "python3"
  },
  "language_info": {
   "codemirror_mode": {
    "name": "ipython",
    "version": 3
   },
   "file_extension": ".py",
   "mimetype": "text/x-python",
   "name": "python",
   "nbconvert_exporter": "python",
   "pygments_lexer": "ipython3",
   "version": "3.8.8"
  }
 },
 "nbformat": 4,
 "nbformat_minor": 5
}
