{
 "cells": [
  {
   "cell_type": "code",
   "execution_count": null,
   "id": "60759df2",
   "metadata": {},
   "outputs": [],
   "source": [
    "def check_palindrome(str):\n",
    "    if len(str) < 1:\n",
    "        return True\n",
    "    else:\n",
    "        if str[0] == str[-1]:\n",
    "            return check_palindrome(str[1:-1])\n",
    "        else:\n",
    "            return False"
   ]
  },
  {
   "cell_type": "code",
   "execution_count": null,
   "id": "6035e481",
   "metadata": {},
   "outputs": [],
   "source": [
    "str = input()\n",
    "check_palindrome1 = check_palindrome(str)\n",
    "if check_palindrome1:\n",
    "    print(\"true\")\n",
    "else:\n",
    "    print(\"false\")"
   ]
  }
 ],
 "metadata": {
  "kernelspec": {
   "display_name": "Python 3",
   "language": "python",
   "name": "python3"
  },
  "language_info": {
   "codemirror_mode": {
    "name": "ipython",
    "version": 3
   },
   "file_extension": ".py",
   "mimetype": "text/x-python",
   "name": "python",
   "nbconvert_exporter": "python",
   "pygments_lexer": "ipython3",
   "version": "3.8.8"
  }
 },
 "nbformat": 4,
 "nbformat_minor": 5
}
