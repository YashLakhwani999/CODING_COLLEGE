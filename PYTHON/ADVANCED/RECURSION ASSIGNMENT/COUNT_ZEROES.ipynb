{
 "cells": [
  {
   "cell_type": "code",
   "execution_count": null,
   "id": "7b7fb374",
   "metadata": {},
   "outputs": [],
   "source": [
    "import sys\n",
    "sys.setrecursionlimit(3000000)\n",
    "def count_0(n):\n",
    "    if n == 0:\n",
    "        return 0\n",
    "    \n",
    "    if n % 10 == 0:\n",
    "        return 1 + count_0(n//10)\n",
    "    else:\n",
    "        return count_0(n//10)"
   ]
  },
  {
   "cell_type": "code",
   "execution_count": null,
   "id": "3da09e68",
   "metadata": {},
   "outputs": [],
   "source": [
    "n= int(input())\n",
    "if n == 0:\n",
    "    print(\"1\")\n",
    "else:\n",
    "    print(count_0(n))"
   ]
  }
 ],
 "metadata": {
  "kernelspec": {
   "display_name": "Python 3",
   "language": "python",
   "name": "python3"
  },
  "language_info": {
   "codemirror_mode": {
    "name": "ipython",
    "version": 3
   },
   "file_extension": ".py",
   "mimetype": "text/x-python",
   "name": "python",
   "nbconvert_exporter": "python",
   "pygments_lexer": "ipython3",
   "version": "3.8.8"
  }
 },
 "nbformat": 4,
 "nbformat_minor": 5
}
