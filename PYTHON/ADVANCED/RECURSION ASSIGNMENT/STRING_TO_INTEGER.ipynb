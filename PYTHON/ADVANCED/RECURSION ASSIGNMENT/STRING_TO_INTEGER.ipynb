{
 "cells": [
  {
   "cell_type": "code",
   "execution_count": null,
   "id": "8c773887",
   "metadata": {},
   "outputs": [],
   "source": [
    "def string_2_int(a):\n",
    "    if len(a) == 1:\n",
    "        return int(a)\n",
    "    else:\n",
    "        return int(a[0]) * (10**(len(a)-1)) + string_2_int(a[1:])"
   ]
  },
  {
   "cell_type": "code",
   "execution_count": null,
   "id": "d57ba01f",
   "metadata": {},
   "outputs": [],
   "source": [
    "s = input(\"Enter number : \")\n",
    "string_2_int(s)"
   ]
  }
 ],
 "metadata": {
  "kernelspec": {
   "display_name": "Python 3",
   "language": "python",
   "name": "python3"
  },
  "language_info": {
   "codemirror_mode": {
    "name": "ipython",
    "version": 3
   },
   "file_extension": ".py",
   "mimetype": "text/x-python",
   "name": "python",
   "nbconvert_exporter": "python",
   "pygments_lexer": "ipython3",
   "version": "3.8.8"
  }
 },
 "nbformat": 4,
 "nbformat_minor": 5
}
