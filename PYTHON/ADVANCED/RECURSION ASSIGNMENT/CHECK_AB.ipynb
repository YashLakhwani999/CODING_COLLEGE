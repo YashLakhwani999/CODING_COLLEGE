{
 "cells": [
  {
   "cell_type": "code",
   "execution_count": null,
   "id": "fa8c8179",
   "metadata": {},
   "outputs": [],
   "source": [
    "import sys\n",
    "sys.setrecursionlimit(10**6)\n",
    "\n",
    "def check(n):\n",
    "    if len(n) == 0:\n",
    "        return True\n",
    "    if n[0] == 'b':\n",
    "        return False\n",
    "    if n[0] == 'a':\n",
    "        if len(n[1:])>1 and n[1:3] == 'bb':\n",
    "            return check(n[3:])\n",
    "        else:\n",
    "            return check(n[1:])\n",
    "    else:\n",
    "        return False"
   ]
  },
  {
   "cell_type": "code",
   "execution_count": null,
   "id": "b57389d3",
   "metadata": {},
   "outputs": [],
   "source": [
    "string = input()\n",
    "if check(string):\n",
    "    print(\"true\")\n",
    "else:\n",
    "    print(\"false\")"
   ]
  }
 ],
 "metadata": {
  "kernelspec": {
   "display_name": "Python 3",
   "language": "python",
   "name": "python3"
  },
  "language_info": {
   "codemirror_mode": {
    "name": "ipython",
    "version": 3
   },
   "file_extension": ".py",
   "mimetype": "text/x-python",
   "name": "python",
   "nbconvert_exporter": "python",
   "pygments_lexer": "ipython3",
   "version": "3.8.8"
  }
 },
 "nbformat": 4,
 "nbformat_minor": 5
}
