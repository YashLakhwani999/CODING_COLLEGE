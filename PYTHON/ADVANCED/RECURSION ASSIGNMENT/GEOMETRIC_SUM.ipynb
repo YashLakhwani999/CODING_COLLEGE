{
 "cells": [
  {
   "cell_type": "markdown",
   "id": "cd028121",
   "metadata": {},
   "source": [
    "# ITERATIVE METHOD"
   ]
  },
  {
   "cell_type": "code",
   "execution_count": 8,
   "id": "5e7ed46d",
   "metadata": {},
   "outputs": [
    {
     "name": "stdout",
     "output_type": "stream",
     "text": [
      "Enter the number : 4\n",
      "1.93750\n"
     ]
    }
   ],
   "source": [
    "a = int(input(\"Enter the number : \"))\n",
    "sum = 1\n",
    "for i in range(1,a+1):\n",
    "    if i == 0:\n",
    "        n = 1\n",
    "    else:\n",
    "        n = 1/(2**i)\n",
    "    sum = sum + n\n",
    "print(\"{:.5f}\".format(sum))"
   ]
  },
  {
   "cell_type": "markdown",
   "id": "1db98b33",
   "metadata": {},
   "source": [
    "# RECURSIVE METHOD"
   ]
  },
  {
   "cell_type": "code",
   "execution_count": null,
   "id": "0e61c6dc",
   "metadata": {},
   "outputs": [],
   "source": [
    "def geometric_sum(n):\n",
    "    if n == 0:\n",
    "        return 1\n",
    "    \n",
    "    a = 1/(2**n)\n",
    "    return a + geometric_sum(n-1)\n",
    " \n",
    "geometric_sum(3)    "
   ]
  }
 ],
 "metadata": {
  "kernelspec": {
   "display_name": "Python 3",
   "language": "python",
   "name": "python3"
  },
  "language_info": {
   "codemirror_mode": {
    "name": "ipython",
    "version": 3
   },
   "file_extension": ".py",
   "mimetype": "text/x-python",
   "name": "python",
   "nbconvert_exporter": "python",
   "pygments_lexer": "ipython3",
   "version": "3.8.8"
  }
 },
 "nbformat": 4,
 "nbformat_minor": 5
}
