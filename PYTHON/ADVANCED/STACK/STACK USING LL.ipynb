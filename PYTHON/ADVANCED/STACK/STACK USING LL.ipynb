{
 "cells": [
  {
   "cell_type": "code",
   "execution_count": 18,
   "id": "11effdd4",
   "metadata": {},
   "outputs": [],
   "source": [
    "class Node :\n",
    "\n",
    "    def __init__(self, data) :\n",
    "        self.data = data\n",
    "        self.next = None\n",
    "\n",
    "\n",
    "class Stack():\n",
    "    \n",
    "    def __init__(self) :\n",
    "        self.__head = None\n",
    "        self.__count = 0\n",
    "    \n",
    "    def push(self,newData):\n",
    "        NewNode = Node(newData)\n",
    "        NewNode.next = self.__head\n",
    "        self.__head = NewNode\n",
    "        self.__count = self.__count + 1\n",
    "        \n",
    "    def top(self):\n",
    "        if self.isEmpty() is True:\n",
    "            print(\"-1\")\n",
    "            return \n",
    "        data = self.__head.data\n",
    "        return data\n",
    "        \n",
    "    def pop(self):\n",
    "        if self.isEmpty() is True:\n",
    "            print(\"-1\")\n",
    "            return \n",
    "        data = self.__head.data\n",
    "        self.__head = self.__head.next\n",
    "        self.__count = self.__count - 1\n",
    "        return data\n",
    "    \n",
    "    def size(self):\n",
    "        return self.__count\n",
    "    \n",
    "    def isEmpty(self):\n",
    "        return self.size == 0"
   ]
  },
  {
   "cell_type": "code",
   "execution_count": 19,
   "id": "0b66a941",
   "metadata": {},
   "outputs": [
    {
     "name": "stdout",
     "output_type": "stream",
     "text": [
      "3\n",
      "2\n"
     ]
    }
   ],
   "source": [
    "s = Stack()\n",
    "s.push(1)\n",
    "s.push(2)\n",
    "s.push(3)\n",
    "print(s.pop())\n",
    "print(s.top())"
   ]
  }
 ],
 "metadata": {
  "kernelspec": {
   "display_name": "Python 3",
   "language": "python",
   "name": "python3"
  },
  "language_info": {
   "codemirror_mode": {
    "name": "ipython",
    "version": 3
   },
   "file_extension": ".py",
   "mimetype": "text/x-python",
   "name": "python",
   "nbconvert_exporter": "python",
   "pygments_lexer": "ipython3",
   "version": "3.8.8"
  }
 },
 "nbformat": 4,
 "nbformat_minor": 5
}
