{
 "cells": [
  {
   "cell_type": "code",
   "execution_count": 3,
   "id": "03c9634a",
   "metadata": {},
   "outputs": [
    {
     "name": "stdout",
     "output_type": "stream",
     "text": [
      "a + (b) + c\n",
      "true\n"
     ]
    }
   ],
   "source": [
    "import queue\n",
    "\n",
    "def checkRedundant(string):\n",
    "    q=queue.LifoQueue()\n",
    "    temp=0\n",
    "    l=len(string)\n",
    "    for i in range(l-1):\n",
    "        c=string[i]\n",
    "        n=string[i+1]\n",
    "        if i < l-2:\n",
    "            m=string[i+2]\n",
    "        if (c=='(' and n==')') or (c=='(' and m==')'):\n",
    "            return True\n",
    "        elif c=='(' and n=='(':\n",
    "            temp=2\n",
    "        elif c==')' and n==')' and temp==2:\n",
    "            return True\n",
    "    return False\n",
    "\n",
    "string = input()\n",
    "ans = checkRedundant(string)\n",
    "if ans is True:\n",
    "    print('true')\n",
    "else:\n",
    "    print('false')"
   ]
  }
 ],
 "metadata": {
  "kernelspec": {
   "display_name": "Python 3",
   "language": "python",
   "name": "python3"
  },
  "language_info": {
   "codemirror_mode": {
    "name": "ipython",
    "version": 3
   },
   "file_extension": ".py",
   "mimetype": "text/x-python",
   "name": "python",
   "nbconvert_exporter": "python",
   "pygments_lexer": "ipython3",
   "version": "3.8.8"
  }
 },
 "nbformat": 4,
 "nbformat_minor": 5
}
