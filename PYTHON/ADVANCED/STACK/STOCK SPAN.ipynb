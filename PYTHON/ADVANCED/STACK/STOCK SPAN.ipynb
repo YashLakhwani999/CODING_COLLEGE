{
 "cells": [
  {
   "cell_type": "code",
   "execution_count": 9,
   "id": "d321e870",
   "metadata": {},
   "outputs": [
    {
     "name": "stdout",
     "output_type": "stream",
     "text": [
      "4\n",
      "10 21 9 10\n",
      "1 2 1 2 "
     ]
    }
   ],
   "source": [
    "def stockSpan(price,S):\n",
    "    n = len(price) \n",
    "    st = []  \n",
    "    st.append(0) \n",
    "    S[0] = 1\n",
    "    for i in range(1, n):  \n",
    "        while( len(st) > 0 and price[st[-1]] < price[i]): \n",
    "            st.pop() \n",
    "  \n",
    "        S[i] = i + 1 if len(st) <= 0 else (i - st[-1]) \n",
    "        st.append(i)  \n",
    "          \n",
    "def printArray(arr, n): \n",
    "    for i in range(0, n): \n",
    "        print (arr[i], end =\" \") \n",
    "  \n",
    "  \n",
    "n = int(input())\n",
    "price = list(int(x) for x in input().split()[:n])  \n",
    "\n",
    "S = [0 for i in range(len(price)+1)] \n",
    "  \n",
    "stockSpan(price, S) \n",
    "  \n",
    "printArray(S, len(price)) "
   ]
  }
 ],
 "metadata": {
  "kernelspec": {
   "display_name": "Python 3",
   "language": "python",
   "name": "python3"
  },
  "language_info": {
   "codemirror_mode": {
    "name": "ipython",
    "version": 3
   },
   "file_extension": ".py",
   "mimetype": "text/x-python",
   "name": "python",
   "nbconvert_exporter": "python",
   "pygments_lexer": "ipython3",
   "version": "3.8.8"
  }
 },
 "nbformat": 4,
 "nbformat_minor": 5
}
