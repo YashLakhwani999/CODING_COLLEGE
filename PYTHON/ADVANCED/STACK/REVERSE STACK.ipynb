{
 "cells": [
  {
   "cell_type": "code",
   "execution_count": 4,
   "id": "6389e9d2",
   "metadata": {},
   "outputs": [
    {
     "name": "stdout",
     "output_type": "stream",
     "text": [
      "1\n",
      "1 2 3\n",
      "1 2 3 "
     ]
    }
   ],
   "source": [
    "def reverseStack(s1,s2):\n",
    "    if len(s1) <= 1:\n",
    "        return \n",
    "    \n",
    "    \n",
    "    while len(s1) != 1:\n",
    "        ele = s1.pop()\n",
    "        s2.append(ele)\n",
    "        \n",
    "    lastElement = s1.pop()\n",
    "    while len(s2) != 0:\n",
    "        ele = s2.pop()\n",
    "        s1.append(ele)\n",
    "    reverseStack(s1, s2)\n",
    "    s1.append(lastElement)\n",
    "    \n",
    "    \n",
    "n = int(input())\n",
    "s1 = [int(x)for x in input().split()]\n",
    "s2 = []\n",
    "reverseStack(s1,s2)\n",
    "while len(s1) != 0:\n",
    "    print(s1.pop(), end =' ')"
   ]
  }
 ],
 "metadata": {
  "kernelspec": {
   "display_name": "Python 3",
   "language": "python",
   "name": "python3"
  },
  "language_info": {
   "codemirror_mode": {
    "name": "ipython",
    "version": 3
   },
   "file_extension": ".py",
   "mimetype": "text/x-python",
   "name": "python",
   "nbconvert_exporter": "python",
   "pygments_lexer": "ipython3",
   "version": "3.8.8"
  }
 },
 "nbformat": 4,
 "nbformat_minor": 5
}
