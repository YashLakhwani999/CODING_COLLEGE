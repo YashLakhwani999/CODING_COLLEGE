{
 "cells": [
  {
   "cell_type": "markdown",
   "id": "1be9db52",
   "metadata": {},
   "source": [
    "# Time Compexity of following sorting functions "
   ]
  },
  {
   "cell_type": "markdown",
   "id": "2e05bc55",
   "metadata": {},
   "source": [
    "## Merge Sort"
   ]
  },
  {
   "cell_type": "code",
   "execution_count": 1,
   "id": "a9eacbca",
   "metadata": {},
   "outputs": [],
   "source": [
    "def merge(L1,L2,arr):\n",
    "    i = 0\n",
    "    j = 0\n",
    "    k = 0\n",
    "    while i < len(L1) and j < len(L2):\n",
    "        if L1[i] < L2[j]:\n",
    "            arr[k] = L1[i]\n",
    "            i = i + 1\n",
    "            k = k + 1\n",
    "        else:\n",
    "            arr[k] = L2[j]\n",
    "            k = k + 1\n",
    "            j = j + 1\n",
    "    while i < len(L1):\n",
    "        arr[k] = L1[i]\n",
    "        k = k + 1\n",
    "        i = i + 1\n",
    "    while j < len(L2):\n",
    "        arr[k] = L2[j]\n",
    "        k = k + 1\n",
    "        j = j +1"
   ]
  },
  {
   "cell_type": "code",
   "execution_count": 2,
   "id": "1ca4e829",
   "metadata": {},
   "outputs": [],
   "source": [
    "def merge_sort(arr):\n",
    "    if len(arr) == 0 or len(arr) == 1:\n",
    "        return \n",
    "    \n",
    "    mid = (len(arr))//2\n",
    "    L1 = arr[0:mid]\n",
    "    L2 = arr[mid:]\n",
    "    merge_sort(L1)\n",
    "    merge_sort(L2)\n",
    "    merge(L1,L2,arr)"
   ]
  },
  {
   "cell_type": "code",
   "execution_count": null,
   "id": "e991945c",
   "metadata": {},
   "outputs": [],
   "source": [
    "arr = [int(x) for x in input().split()]\n",
    "merge_sort(arr)\n",
    "arr"
   ]
  },
  {
   "cell_type": "markdown",
   "id": "fccb111f",
   "metadata": {},
   "source": [
    "## Insertion Sort"
   ]
  },
  {
   "cell_type": "code",
   "execution_count": 3,
   "id": "55c7e87d",
   "metadata": {},
   "outputs": [],
   "source": [
    "def insertion_sort(arr):\n",
    "    for i in range(1,len(arr)):\n",
    "        j=i-1\n",
    "        temp=arr[i]\n",
    "        while (j>=0 and arr[j]>temp):\n",
    "            arr[j+1]=arr[j]\n",
    "            j=j-1\n",
    "        arr[j+1]=temp\n",
    "    return arr"
   ]
  },
  {
   "cell_type": "code",
   "execution_count": null,
   "id": "70f7996d",
   "metadata": {},
   "outputs": [],
   "source": [
    "arr = [int(x) for x in input().split()]\n",
    "insertion_sort(arr)\n",
    "arr"
   ]
  },
  {
   "cell_type": "markdown",
   "id": "89faf5e4",
   "metadata": {},
   "source": [
    "## Time Complexity"
   ]
  },
  {
   "cell_type": "code",
   "execution_count": 4,
   "id": "1e28474c",
   "metadata": {},
   "outputs": [],
   "source": [
    "import time"
   ]
  },
  {
   "cell_type": "code",
   "execution_count": null,
   "id": "3d383f77",
   "metadata": {},
   "outputs": [],
   "source": [
    "arr = [int(x) for x in input().split()]\n",
    "start = time.time()\n",
    "merge_sort(arr)\n",
    "end = time.time()\n",
    "timetaken = end - start\n",
    "print(arr)\n",
    "print(\"Time taken to perform this Operation --->\",timetaken)"
   ]
  },
  {
   "cell_type": "code",
   "execution_count": null,
   "id": "e901f2e8",
   "metadata": {
    "scrolled": false
   },
   "outputs": [],
   "source": [
    "y = []\n",
    "a = int(input())\n",
    "for j in range(a,0,-1):\n",
    "    y.append(j)\n",
    "start1 = time.time()\n",
    "merge_sort(y)\n",
    "end1 = time.time()\n",
    "timetaken1 = end1 - start1\n",
    "print(timetaken1)\n"
   ]
  },
  {
   "cell_type": "code",
   "execution_count": null,
   "id": "643802f6",
   "metadata": {
    "scrolled": true
   },
   "outputs": [],
   "source": [
    "y = []\n",
    "a = int(input())\n",
    "for j in range(a,0,-1):\n",
    "    y.append(j)\n",
    "start2 = time.time()\n",
    "insertion_sort(y)\n",
    "end2 = time.time()\n",
    "timetaken2 = end2 - start2\n",
    "print(timetaken2)"
   ]
  },
  {
   "cell_type": "markdown",
   "id": "08704409",
   "metadata": {},
   "source": [
    "## BUBBLE SORT"
   ]
  },
  {
   "cell_type": "code",
   "execution_count": 5,
   "id": "78f912c8",
   "metadata": {},
   "outputs": [
    {
     "name": "stdout",
     "output_type": "stream",
     "text": [
      "212\n",
      "\n",
      "3.9714019298553467\n"
     ]
    }
   ],
   "source": [
    "a = []\n",
    "x = int(input())\n",
    "for i in range(x,0,-1):\n",
    "    a.append(i)\n",
    "b = len(a)\n",
    "start = time.time()\n",
    "for k in range(b):\n",
    "    for i in range(b+1):\n",
    "        for j in range(i+1,b):\n",
    "            if a[i] > a[j]:\n",
    "                a[i],a[i+1] = a[i+1],a[i]\n",
    "            else:\n",
    "                a[1:]\n",
    "end = time.time()\n",
    "time_taken = end - start\n",
    "print()\n",
    "print(time_taken)"
   ]
  },
  {
   "cell_type": "markdown",
   "id": "53fcb21f",
   "metadata": {},
   "source": [
    "## Recusrive Factorial"
   ]
  },
  {
   "cell_type": "code",
   "execution_count": 5,
   "id": "5a0f8e80",
   "metadata": {},
   "outputs": [],
   "source": [
    "import sys\n",
    "sys.setrecursionlimit(10**6)"
   ]
  },
  {
   "cell_type": "code",
   "execution_count": 6,
   "id": "f951e62a",
   "metadata": {},
   "outputs": [],
   "source": [
    "def factorial(n):\n",
    "    if n == 0:\n",
    "        return 1\n",
    "    \n",
    "    return n * factorial(n-1)"
   ]
  },
  {
   "cell_type": "code",
   "execution_count": 7,
   "id": "0018e5dd",
   "metadata": {},
   "outputs": [
    {
     "data": {
      "text/plain": [
       "0.045042991638183594"
      ]
     },
     "execution_count": 7,
     "metadata": {},
     "output_type": "execute_result"
    }
   ],
   "source": [
    "start = time.time()\n",
    "n = 9999\n",
    "factorial(n)\n",
    "end = time.time()\n",
    "time_taken = end - start\n",
    "time_taken"
   ]
  },
  {
   "cell_type": "markdown",
   "id": "057081c7",
   "metadata": {},
   "source": [
    "## Binary Search"
   ]
  },
  {
   "cell_type": "code",
   "execution_count": null,
   "id": "bc1967cd",
   "metadata": {},
   "outputs": [],
   "source": [
    "def binarySearch(a,x,si,ei):\n",
    "    if si > ei:\n",
    "        return -1\n",
    "    \n",
    "    mid = (si+ei)//2\n",
    "    if a[mid] == x:\n",
    "        return mid\n",
    "    elif a[mid] > x:\n",
    "        return binarySearch(a,x,si,mid-1)\n",
    "    else:\n",
    "        return binarySearch(a,x,mid+1,ei)"
   ]
  },
  {
   "cell_type": "markdown",
   "id": "8dbd2a75",
   "metadata": {},
   "source": [
    "## Fibonnaci Series "
   ]
  },
  {
   "cell_type": "code",
   "execution_count": 27,
   "id": "a9d59560",
   "metadata": {},
   "outputs": [
    {
     "name": "stdout",
     "output_type": "stream",
     "text": [
      "10\n",
      "1 1 2 3 5 8 13 21 34 55 "
     ]
    }
   ],
   "source": [
    "n = int(input())\n",
    "if n == 0:\n",
    "    print(0)\n",
    "else:\n",
    "    first,second = 1,1\n",
    "    print(first,second, end = \" \")\n",
    "    for i in range(2,n):\n",
    "        first,second = second,first+second\n",
    "        print (second,end = \" \")"
   ]
  }
 ],
 "metadata": {
  "kernelspec": {
   "display_name": "Python 3",
   "language": "python",
   "name": "python3"
  },
  "language_info": {
   "codemirror_mode": {
    "name": "ipython",
    "version": 3
   },
   "file_extension": ".py",
   "mimetype": "text/x-python",
   "name": "python",
   "nbconvert_exporter": "python",
   "pygments_lexer": "ipython3",
   "version": "3.8.8"
  }
 },
 "nbformat": 4,
 "nbformat_minor": 5
}
