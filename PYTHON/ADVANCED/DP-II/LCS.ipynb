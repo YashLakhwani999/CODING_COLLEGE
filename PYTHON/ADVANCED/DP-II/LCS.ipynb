{
 "cells": [
  {
   "cell_type": "markdown",
   "id": "6de4edde",
   "metadata": {},
   "source": [
    "# RECURSIVE APPROACH"
   ]
  },
  {
   "cell_type": "code",
   "execution_count": 34,
   "id": "25552cef",
   "metadata": {},
   "outputs": [],
   "source": [
    "def LCS(s,t,i,j):\n",
    "    if i == len(s) or j == len(t):\n",
    "        return 0\n",
    "    \n",
    "    \n",
    "    if s[i] == t[j]:\n",
    "        ans = 1 + LCS(s, t, i + 1, j + 1)\n",
    "    else:\n",
    "        ans1 = LCS(s, t, i + 1, j)\n",
    "        ans2 = LCS(s, t, i, j + 1)\n",
    "        \n",
    "        ans = max(ans1, ans2)\n",
    "    \n",
    "    return ans"
   ]
  },
  {
   "cell_type": "code",
   "execution_count": 35,
   "id": "ddbf1445",
   "metadata": {},
   "outputs": [
    {
     "name": "stdout",
     "output_type": "stream",
     "text": [
      "4\n"
     ]
    }
   ],
   "source": [
    "s = \"abedgjc\"\n",
    "t = \"bmdgsc\"\n",
    "ans = LCS(s,t,0,0)\n",
    "print(ans)"
   ]
  },
  {
   "cell_type": "markdown",
   "id": "bd796552",
   "metadata": {},
   "source": [
    "# MEMOIZATION"
   ]
  },
  {
   "cell_type": "code",
   "execution_count": 39,
   "id": "9323845e",
   "metadata": {},
   "outputs": [],
   "source": [
    "def LCSm(s,t,i,j,dp):\n",
    "    if i == len(s) or j == len(t):\n",
    "        return 0\n",
    "    \n",
    "    if s[i] == t[j]:\n",
    "        if dp[i + 1][j + 1] == -1:\n",
    "            grp = LCSm(s, t, i + 1, j + 1, dp)\n",
    "            ans = 1 + grp\n",
    "            dp[i + 1][j + 1] = grp\n",
    "        else:\n",
    "            ans = 1 + dp[i + 1][j + 1]\n",
    "    else:\n",
    "        if dp[i + 1][j] == -1:\n",
    "            ans1 = LCSm(s, t, i + 1, j, dp)\n",
    "            dp[i + 1][j] = ans1\n",
    "        else:\n",
    "            ans1 = dp[i + 1][j]\n",
    "            \n",
    "        if dp[i][j + 1]:\n",
    "            ans2 = LCSm(s, t, i, j + 1, dp)\n",
    "            dp[i][j + 1] = ans2\n",
    "        else:\n",
    "            ans2 = dp[i][j + 1]\n",
    "        \n",
    "        ans = max(ans1, ans2)\n",
    "    \n",
    "    return ans"
   ]
  },
  {
   "cell_type": "code",
   "execution_count": 41,
   "id": "095b978c",
   "metadata": {},
   "outputs": [
    {
     "name": "stdout",
     "output_type": "stream",
     "text": [
      "4\n"
     ]
    }
   ],
   "source": [
    "s = \"abedgjc\"\n",
    "t = \"bmdgsc\"\n",
    "m = len(s)\n",
    "n = len(t)\n",
    "dp = [[-1 for i in range(n + 1)] for j in range(m + 1)]\n",
    "ans = LCSm(s,t,0,0, dp)\n",
    "print(ans)"
   ]
  },
  {
   "cell_type": "markdown",
   "id": "8482f576",
   "metadata": {},
   "source": [
    "# ITERATIVE APPROACH"
   ]
  },
  {
   "cell_type": "code",
   "execution_count": 48,
   "id": "b36cec7c",
   "metadata": {},
   "outputs": [],
   "source": [
    "def LCSi(s, t):\n",
    "    \n",
    "    dp = [[0 for i in range(len(t) + 1)] for j in range(len(s) + 1)]\n",
    "    \n",
    "    for i in range(len(s)-1, -1, -1):\n",
    "        for j in range(len(t)-1, -1, -1):\n",
    "            if s[i] == t[j]:\n",
    "                dp[i][j] = 1 + dp[i + 1][j + 1]\n",
    "            else:\n",
    "                dp[i][j] = max(dp[i + 1][j], dp[i][j + 1])\n",
    "                \n",
    "    return dp[0][0]"
   ]
  },
  {
   "cell_type": "code",
   "execution_count": 49,
   "id": "221f92a2",
   "metadata": {},
   "outputs": [
    {
     "name": "stdout",
     "output_type": "stream",
     "text": [
      "4\n"
     ]
    }
   ],
   "source": [
    "s = \"abedgjc\"\n",
    "t = \"bmdgsc\"\n",
    "ans = LCSi(s,t)\n",
    "print(ans)"
   ]
  }
 ],
 "metadata": {
  "kernelspec": {
   "display_name": "Python 3",
   "language": "python",
   "name": "python3"
  },
  "language_info": {
   "codemirror_mode": {
    "name": "ipython",
    "version": 3
   },
   "file_extension": ".py",
   "mimetype": "text/x-python",
   "name": "python",
   "nbconvert_exporter": "python",
   "pygments_lexer": "ipython3",
   "version": "3.8.8"
  }
 },
 "nbformat": 4,
 "nbformat_minor": 5
}
