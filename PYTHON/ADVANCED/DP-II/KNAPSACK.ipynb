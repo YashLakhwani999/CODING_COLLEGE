{
 "cells": [
  {
   "cell_type": "markdown",
   "id": "57ac9831",
   "metadata": {},
   "source": [
    "# RECURSIVE APPROACH"
   ]
  },
  {
   "cell_type": "code",
   "execution_count": 1,
   "id": "71a384e2",
   "metadata": {},
   "outputs": [],
   "source": [
    "def knapsack(W,val,wt,n,i):\n",
    "    if i == n:\n",
    "        return 0\n",
    "    \n",
    "    if wt[i] > W:\n",
    "        ans = knapsack(W,val,wt,n,i+1)\n",
    "    else:\n",
    "        ans1 = val[i] + knapsack(W-wt[i],val,wt,n,i+1)\n",
    "        ans2 = knapsack(W,val,wt,n,i+1)\n",
    "        \n",
    "        ans = max(ans1, ans2)\n",
    "    \n",
    "    return ans"
   ]
  },
  {
   "cell_type": "code",
   "execution_count": 2,
   "id": "b51deee2",
   "metadata": {},
   "outputs": [
    {
     "name": "stdout",
     "output_type": "stream",
     "text": [
      "500\n"
     ]
    }
   ],
   "source": [
    "val = [200, 300, 100]\n",
    "wt = [20, 25, 30]\n",
    "W = 50\n",
    "n = len(val)\n",
    "ans = knapsack(W,val,wt,n,0)\n",
    "print(ans)"
   ]
  },
  {
   "cell_type": "markdown",
   "id": "5b27111f",
   "metadata": {},
   "source": [
    "# ITERATIVE APPROACH"
   ]
  },
  {
   "cell_type": "code",
   "execution_count": 6,
   "id": "95f9b944",
   "metadata": {},
   "outputs": [],
   "source": [
    "def knapsackI(W, val, wt):\n",
    "    \n",
    "    n = len(val)\n",
    "    dp = [[0 for i in range(W + 1)] for j in range(n + 1)]\n",
    "    \n",
    "    for i in range(1, n+1):\n",
    "        for j in range(1, W+1):\n",
    "            \n",
    "            if j < wt[i - 1]:\n",
    "                ans = dp[i - 1][j]\n",
    "                \n",
    "            else:\n",
    "                ans1 = val[i - 1] + dp[i - 1][j - wt[i - 1]]\n",
    "                ans2 = dp[i - 1][j]\n",
    "                \n",
    "                ans = max(ans1, ans2)\n",
    "            dp[i][j] = ans\n",
    "                \n",
    "    return dp[n][W]\n",
    "                "
   ]
  },
  {
   "cell_type": "code",
   "execution_count": 7,
   "id": "9cf5b0ae",
   "metadata": {},
   "outputs": [
    {
     "name": "stdout",
     "output_type": "stream",
     "text": [
      "500\n"
     ]
    }
   ],
   "source": [
    "val = [200, 300, 100]\n",
    "wt = [20, 25, 30]\n",
    "W = 50\n",
    "ans = knapsackI(W,val,wt)\n",
    "print(ans)"
   ]
  }
 ],
 "metadata": {
  "kernelspec": {
   "display_name": "Python 3",
   "language": "python",
   "name": "python3"
  },
  "language_info": {
   "codemirror_mode": {
    "name": "ipython",
    "version": 3
   },
   "file_extension": ".py",
   "mimetype": "text/x-python",
   "name": "python",
   "nbconvert_exporter": "python",
   "pygments_lexer": "ipython3",
   "version": "3.8.8"
  }
 },
 "nbformat": 4,
 "nbformat_minor": 5
}
