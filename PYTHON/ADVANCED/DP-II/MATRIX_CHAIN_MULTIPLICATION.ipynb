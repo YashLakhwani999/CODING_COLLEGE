{
 "cells": [
  {
   "cell_type": "markdown",
   "id": "a4b1f914",
   "metadata": {},
   "source": [
    "## RECURSIVE APPROACH"
   ]
  },
  {
   "cell_type": "code",
   "execution_count": 1,
   "id": "03297068",
   "metadata": {},
   "outputs": [],
   "source": [
    "import sys\n",
    "def mcm(p, i, j):\n",
    "    if i == j:\n",
    "        return 0\n",
    "       \n",
    "    minValue = sys.maxsize\n",
    "    for k in range(i,j):\n",
    "        ans1 = mcm(p,i,k)\n",
    "        ans2 = mcm(p,k+1,j)\n",
    "        \n",
    "        mCost = p[i - 1] * p[j] * p[k]\n",
    "        curr_value = ans1 + ans2 + mCost\n",
    "        minValue = min(minValue, curr_value)\n",
    "    \n",
    "    return minValue"
   ]
  },
  {
   "cell_type": "code",
   "execution_count": 2,
   "id": "12d45889",
   "metadata": {},
   "outputs": [
    {
     "name": "stdout",
     "output_type": "stream",
     "text": [
      "124\n"
     ]
    }
   ],
   "source": [
    "p = [2,3,4,5,6]\n",
    "n = len(p) - 1\n",
    "ans = mcm(p, 1, n)\n",
    "print(ans)"
   ]
  },
  {
   "cell_type": "markdown",
   "id": "5a45943e",
   "metadata": {},
   "source": [
    "## MEMOIZATION"
   ]
  },
  {
   "cell_type": "code",
   "execution_count": 5,
   "id": "821af805",
   "metadata": {},
   "outputs": [],
   "source": [
    "import sys\n",
    "def mcmM(p, i, j, dp):\n",
    "    if i == j:\n",
    "        return 0\n",
    "       \n",
    "    minValue = sys.maxsize\n",
    "    for k in range(i,j):\n",
    "        if dp[i][k] == -1:\n",
    "            ans1 = mcmM(p,i,k,dp)\n",
    "            dp[i][k] = ans1\n",
    "        else:\n",
    "            ans1 = dp[i][k]\n",
    "            \n",
    "        if dp[k+1][j] == -1:\n",
    "            ans2 = mcmM(p,k+1,j,dp)\n",
    "            dp[k+1][j] = ans2\n",
    "        else:\n",
    "            ans2 = dp[k+1][j]\n",
    "            \n",
    "        mCost = p[i - 1] * p[j] * p[k]\n",
    "        curr_value = ans1 + ans2 + mCost\n",
    "        minValue = min(minValue, curr_value)\n",
    "    \n",
    "    return minValue"
   ]
  },
  {
   "cell_type": "code",
   "execution_count": 6,
   "id": "b1c52733",
   "metadata": {},
   "outputs": [
    {
     "name": "stdout",
     "output_type": "stream",
     "text": [
      "124\n"
     ]
    }
   ],
   "source": [
    "p = [2,3,4,5,6]\n",
    "n = len(p) - 1\n",
    "dp = [[-1 for j in range(n + 1)] for i in range(n + 1)]\n",
    "ans = mcmM(p, 1, n, dp)\n",
    "print(ans)"
   ]
  }
 ],
 "metadata": {
  "kernelspec": {
   "display_name": "Python 3",
   "language": "python",
   "name": "python3"
  },
  "language_info": {
   "codemirror_mode": {
    "name": "ipython",
    "version": 3
   },
   "file_extension": ".py",
   "mimetype": "text/x-python",
   "name": "python",
   "nbconvert_exporter": "python",
   "pygments_lexer": "ipython3",
   "version": "3.8.8"
  }
 },
 "nbformat": 4,
 "nbformat_minor": 5
}
