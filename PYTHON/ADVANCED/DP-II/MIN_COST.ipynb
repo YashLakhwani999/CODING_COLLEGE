{
 "cells": [
  {
   "cell_type": "markdown",
   "id": "f74747b9",
   "metadata": {},
   "source": [
    "# MATRIX INPUT"
   ]
  },
  {
   "cell_type": "code",
   "execution_count": 25,
   "id": "04b97c4c",
   "metadata": {},
   "outputs": [],
   "source": [
    "def TakeMatrixInput(row, col):\n",
    "    matrix = []\n",
    "    for i in range(row):\n",
    "        ele = []\n",
    "        for j in range(col):\n",
    "            print(\"Enter element for row \",i+1,\" column\", j+1,\":\", end = \" \")\n",
    "            rc = int(input())\n",
    "            ele.append(rc)\n",
    "        matrix.append(ele)\n",
    "\n",
    "    return matrix"
   ]
  },
  {
   "cell_type": "markdown",
   "id": "f3fb7aa3",
   "metadata": {},
   "source": [
    "# RECUSRIVE APPROACH "
   ]
  },
  {
   "cell_type": "code",
   "execution_count": 4,
   "id": "4dd72718",
   "metadata": {},
   "outputs": [],
   "source": [
    "import sys\n",
    "def minCost(cost, i, j, rows, col):\n",
    "    if i >= rows or j >= col:\n",
    "        return sys.maxsize\n",
    "    if i == rows - 1 and j == col - 1:\n",
    "        return cost[i][j]\n",
    "    \n",
    "    ans1 = minCost(cost, i, j + 1, rows, col)\n",
    "    ans2 = minCost(cost, i + 1, j + 1, rows, col)\n",
    "    ans3 = minCost(cost, i + 1, j, rows, col)\n",
    "    \n",
    "    ans = cost[i][j] + min(ans1, ans2, ans3)\n",
    "    return ans"
   ]
  },
  {
   "cell_type": "code",
   "execution_count": 26,
   "id": "db374c67",
   "metadata": {},
   "outputs": [
    {
     "name": "stdout",
     "output_type": "stream",
     "text": [
      "Enter number of rows for matrix : 4\n",
      "Enter number of column for matrix : 3\n",
      "Enter element for row  1  column 1 : 1\n",
      "Enter element for row  1  column 2 : 5\n",
      "Enter element for row  1  column 3 : 11\n",
      "Enter element for row  2  column 1 : 8\n",
      "Enter element for row  2  column 2 : 13\n",
      "Enter element for row  2  column 3 : 12\n",
      "Enter element for row  3  column 1 : 2\n",
      "Enter element for row  3  column 2 : 3\n",
      "Enter element for row  3  column 3 : 7\n",
      "Enter element for row  4  column 1 : 15\n",
      "Enter element for row  4  column 2 : 16\n",
      "Enter element for row  4  column 3 : 18\n",
      "30\n"
     ]
    }
   ],
   "source": [
    "row = int(input(\"Enter number of rows for matrix : \"))\n",
    "col = int(input(\"Enter number of column for matrix : \"))\n",
    "cost = TakeMatrixInput(row, col)\n",
    "ans = minCost(cost, 0, 0, row, col)\n",
    "print(ans)"
   ]
  },
  {
   "cell_type": "markdown",
   "id": "84960cbd",
   "metadata": {},
   "source": [
    "# MEMOIZATION "
   ]
  },
  {
   "cell_type": "code",
   "execution_count": 13,
   "id": "245ceaa3",
   "metadata": {},
   "outputs": [],
   "source": [
    "import sys\n",
    "def minCostM(cost, i, j, rows, col, dp):\n",
    "    if i >= rows or j >= col:\n",
    "        return sys.maxsize\n",
    "    if i == rows - 1 and j == col - 1:\n",
    "        return cost[i][j]\n",
    "    \n",
    "    \n",
    "    if dp[i][j + 1] == sys.maxsize:\n",
    "        ans1 = minCostM(cost, i, j + 1, rows, col, dp)\n",
    "        dp[i][j + 1] = ans1\n",
    "    else:\n",
    "        ans1 = dp[i][j + 1]\n",
    "        \n",
    "    if dp[i + 1][j + 1] == sys.maxsize:\n",
    "        ans2 = minCostM(cost, i + 1, j + 1, rows, col, dp)\n",
    "        dp[i + 1][j + 1] = ans2\n",
    "    else:\n",
    "        ans2 = dp[i + 1][j + 1]\n",
    "        \n",
    "    if dp[i + 1][j] == sys.maxsize:\n",
    "        ans3 = minCostM(cost, i + 1, j, rows, col, dp)\n",
    "        dp[i + 1][j] = ans3\n",
    "    else:\n",
    "        ans3 = dp[i + 1][j]\n",
    "    \n",
    "    ans = cost[i][j] + min(ans1, ans2, ans3)\n",
    "    return ans"
   ]
  },
  {
   "cell_type": "code",
   "execution_count": 14,
   "id": "42ab90d7",
   "metadata": {},
   "outputs": [
    {
     "name": "stdout",
     "output_type": "stream",
     "text": [
      "30\n"
     ]
    }
   ],
   "source": [
    "row = int(input(\"Enter number of rows for matrix : \"))\n",
    "col = int(input(\"Enter number of column for matrix : \"))\n",
    "cost = TakeMatrixInput(row, col)\n",
    "dp = [[sys.maxsize for j in range(col + 1)] for i in range(rows + 1)]\n",
    "ans = minCostM(cost, 0, 0, rows, col, dp)\n",
    "print(ans)"
   ]
  },
  {
   "cell_type": "markdown",
   "id": "75e00df8",
   "metadata": {},
   "source": [
    "# ITERATIVE APPROACH"
   ]
  },
  {
   "cell_type": "markdown",
   "id": "82ca9682",
   "metadata": {},
   "source": [
    "### BOTTOMDOWN APPROACH"
   ]
  },
  {
   "cell_type": "code",
   "execution_count": 17,
   "id": "a6989a03",
   "metadata": {},
   "outputs": [],
   "source": [
    "import sys\n",
    "def MinCostI(arr, row, column, dp):\n",
    "    \n",
    "    dp = [[sys.maxsize for i in range(col + 1)] for j in range(row + 1)]\n",
    "    \n",
    "    for i in range(row - 1, -1, -1):\n",
    "        for j in range(col - 1, -1, -1):\n",
    "            \n",
    "            if i == row - 1 and j == col - 1:\n",
    "                dp[i][j] = arr[i][j]\n",
    "            \n",
    "            else:\n",
    "                ans1 = dp[i + 1][j]\n",
    "                ans2 = dp[i + 1][j + 1]\n",
    "                ans3 = dp[i][j + 1]\n",
    "                dp[i][j] = arr[i][j] + min(ans1, ans2, ans3)\n",
    "                \n",
    "    return dp[0][0]"
   ]
  },
  {
   "cell_type": "code",
   "execution_count": 27,
   "id": "85f34cb9",
   "metadata": {},
   "outputs": [
    {
     "name": "stdout",
     "output_type": "stream",
     "text": [
      "Enter number of rows for matrix : 4\n",
      "Enter number of column for matrix : 3\n",
      "Enter element for row  1  column 1 : 1\n",
      "Enter element for row  1  column 2 : 5\n",
      "Enter element for row  1  column 3 : 11\n",
      "Enter element for row  2  column 1 : 8\n",
      "Enter element for row  2  column 2 : 13\n",
      "Enter element for row  2  column 3 : 12\n",
      "Enter element for row  3  column 1 : 2\n",
      "Enter element for row  3  column 2 : 3\n",
      "Enter element for row  3  column 3 : 7\n",
      "Enter element for row  4  column 1 : 15\n",
      "Enter element for row  4  column 2 : 16\n",
      "Enter element for row  4  column 3 : 18\n",
      "30\n"
     ]
    }
   ],
   "source": [
    "row = int(input(\"Enter number of rows for matrix : \"))\n",
    "col = int(input(\"Enter number of column for matrix : \"))\n",
    "cost = TakeMatrixInput(row, col)\n",
    "ans = MinCostI(cost, rows, col, dp)\n",
    "print(ans)"
   ]
  },
  {
   "cell_type": "markdown",
   "id": "57c3d127",
   "metadata": {},
   "source": [
    "### TOPDOWN APPROACH "
   ]
  },
  {
   "cell_type": "code",
   "execution_count": 31,
   "id": "2c142a70",
   "metadata": {},
   "outputs": [],
   "source": [
    "def MinCostTD(arr, row, col, dp):\n",
    "    \n",
    "    dp = [[sys.maxsize for i in range(col + 1)] for j in range(row + 1)]\n",
    "    \n",
    "    for i in range(1, row + 1):\n",
    "        for j in range(1, col + 1):\n",
    "            \n",
    "            if i == 1 and j == 1:\n",
    "                dp[i][j] = arr[0][0]\n",
    "            \n",
    "            else:\n",
    "                ans1 = dp[i - 1][j]\n",
    "                ans2 = dp[i - 1][j - 1]\n",
    "                ans3 = dp[i][j - 1]\n",
    "                dp[i][j] = arr[i - 1][j - 1] + min(ans1, ans2, ans3)\n",
    "        \n",
    "    return dp[row][col]"
   ]
  },
  {
   "cell_type": "code",
   "execution_count": 32,
   "id": "d06dc97b",
   "metadata": {},
   "outputs": [
    {
     "name": "stdout",
     "output_type": "stream",
     "text": [
      "Enter number of rows for matrix : 4\n",
      "Enter number of column for matrix : 3\n",
      "Enter element for row  1  column 1 : 1\n",
      "Enter element for row  1  column 2 : 5\n",
      "Enter element for row  1  column 3 : 11\n",
      "Enter element for row  2  column 1 : 8\n",
      "Enter element for row  2  column 2 : 13\n",
      "Enter element for row  2  column 3 : 12\n",
      "Enter element for row  3  column 1 : 2\n",
      "Enter element for row  3  column 2 : 3\n",
      "Enter element for row  3  column 3 : 7\n",
      "Enter element for row  4  column 1 : 15\n",
      "Enter element for row  4  column 2 : 16\n",
      "Enter element for row  4  column 3 : 18\n",
      "30\n"
     ]
    }
   ],
   "source": [
    "row = int(input(\"Enter number of rows for matrix : \"))\n",
    "col = int(input(\"Enter number of column for matrix : \"))\n",
    "cost = TakeMatrixInput(row, col)\n",
    "ans = MinCostTD(cost, rows, col, dp)\n",
    "print(ans)"
   ]
  }
 ],
 "metadata": {
  "kernelspec": {
   "display_name": "Python 3",
   "language": "python",
   "name": "python3"
  },
  "language_info": {
   "codemirror_mode": {
    "name": "ipython",
    "version": 3
   },
   "file_extension": ".py",
   "mimetype": "text/x-python",
   "name": "python",
   "nbconvert_exporter": "python",
   "pygments_lexer": "ipython3",
   "version": "3.8.8"
  }
 },
 "nbformat": 4,
 "nbformat_minor": 5
}
