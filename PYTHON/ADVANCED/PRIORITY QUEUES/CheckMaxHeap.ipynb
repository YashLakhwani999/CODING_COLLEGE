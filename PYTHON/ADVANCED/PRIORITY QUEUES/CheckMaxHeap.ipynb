{
 "cells": [
  {
   "cell_type": "code",
   "execution_count": 44,
   "id": "6933f970",
   "metadata": {},
   "outputs": [
    {
     "name": "stdout",
     "output_type": "stream",
     "text": [
      "10\n",
      "10 9 8 7 6 5 4 3 2 7\n",
      "false\n"
     ]
    }
   ],
   "source": [
    "def checkMaxHeap(lst):\n",
    "    parentIndex = 0\n",
    "    LchildIndex = 2*parentIndex + 1\n",
    "    RchildIndex = 2*parentIndex + 1\n",
    "    \n",
    "    while LchildIndex < len(lst):\n",
    "        minIndex = parentIndex\n",
    "        if lst[LchildIndex] > lst[minIndex]:\n",
    "            return False\n",
    "        if RchildIndex < len(lst) and lst[RchildIndex] > lst[minIndex]:\n",
    "            return False\n",
    "        parentIndex += 1\n",
    "        LchildIndex = 2*parentIndex + 1\n",
    "        RchildIndex = 2*parentIndex + 1\n",
    "    return True\n",
    "\n",
    "# Main Code\n",
    "n=int(input())\n",
    "lst=list(int(i) for i in input().strip().split(' '))\n",
    "print('true') if checkMaxHeap(lst) else print('false')"
   ]
  }
 ],
 "metadata": {
  "kernelspec": {
   "display_name": "Python 3",
   "language": "python",
   "name": "python3"
  },
  "language_info": {
   "codemirror_mode": {
    "name": "ipython",
    "version": 3
   },
   "file_extension": ".py",
   "mimetype": "text/x-python",
   "name": "python",
   "nbconvert_exporter": "python",
   "pygments_lexer": "ipython3",
   "version": "3.8.8"
  }
 },
 "nbformat": 4,
 "nbformat_minor": 5
}
