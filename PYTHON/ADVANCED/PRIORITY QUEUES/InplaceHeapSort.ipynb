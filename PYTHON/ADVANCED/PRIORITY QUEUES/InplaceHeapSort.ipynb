{
 "cells": [
  {
   "cell_type": "code",
   "execution_count": 30,
   "id": "48864cd0",
   "metadata": {},
   "outputs": [],
   "source": [
    "def heapify(arr, i, n):\n",
    "    parentIndex = i\n",
    "    LchildIndex = 2*parentIndex + 1\n",
    "    RchildIndex = 2*parentIndex + 2\n",
    "    while LchildIndex < n:\n",
    "        minIndex = parentIndex\n",
    "        if arr[minIndex] < arr[LchildIndex]:\n",
    "            minIndex = LchildIndex\n",
    "        if RchildIndex < n and arr[minIndex] < arr[RchildIndex]:\n",
    "            minIndex = RchildIndex\n",
    "            \n",
    "        if minIndex == parentIndex:\n",
    "            return\n",
    "        arr[parentIndex], arr[minIndex] = arr[minIndex], arr[parentIndex]\n",
    "        parentIndex = minIndex\n",
    "        LchildIndex = 2*parentIndex + 1\n",
    "        RchildIndex = 2*parentIndex + 2\n",
    "        \n",
    "def heapSort(arr):\n",
    "    n = len(arr)\n",
    "    for i in range(n//2 - 1, -1, -1):\n",
    "        heapify(arr, i, n)\n",
    "        \n",
    "    for i in range(n-1, 0, -1):\n",
    "        arr[i], arr[0] = arr[0], arr[i]\n",
    "        heapify(arr, 0, i)\n",
    "        \n",
    "    return"
   ]
  },
  {
   "cell_type": "code",
   "execution_count": 31,
   "id": "ecf2b834",
   "metadata": {},
   "outputs": [
    {
     "name": "stdout",
     "output_type": "stream",
     "text": [
      "2 6 8 5 4 3\n",
      "8 6 5 4 3 2 "
     ]
    }
   ],
   "source": [
    "arr = [int(ele) for ele in input().split()]\n",
    "heapSort(arr)\n",
    "for ele in arr[::-1]:\n",
    "    print(ele,end=' ')"
   ]
  },
  {
   "cell_type": "code",
   "execution_count": 37,
   "id": "8f62899a",
   "metadata": {},
   "outputs": [
    {
     "data": {
      "text/plain": [
       "[2, 4, 3, 5, 6, 8]"
      ]
     },
     "execution_count": 37,
     "metadata": {},
     "output_type": "execute_result"
    }
   ],
   "source": [
    "import heapq\n",
    "l = [2,6,8,5,4,3]\n",
    "heapq.heapify(l)\n",
    "l"
   ]
  }
 ],
 "metadata": {
  "kernelspec": {
   "display_name": "Python 3",
   "language": "python",
   "name": "python3"
  },
  "language_info": {
   "codemirror_mode": {
    "name": "ipython",
    "version": 3
   },
   "file_extension": ".py",
   "mimetype": "text/x-python",
   "name": "python",
   "nbconvert_exporter": "python",
   "pygments_lexer": "ipython3",
   "version": "3.8.8"
  }
 },
 "nbformat": 4,
 "nbformat_minor": 5
}
