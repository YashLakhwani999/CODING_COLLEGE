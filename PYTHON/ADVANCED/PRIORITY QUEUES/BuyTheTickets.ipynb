{
 "cells": [
  {
   "cell_type": "code",
   "execution_count": 1,
   "id": "ef215c24",
   "metadata": {},
   "outputs": [],
   "source": [
    "def buyTicket(arr, n, k) : \n",
    "    q = Queue()\n",
    "    maxHeap = []\n",
    "    heap.heapify(maxHeap)\n",
    "    for element in arr :\n",
    "        q.enqueue(element)\n",
    "        heap.heappush(maxHeap,-1*element)\n",
    "    count = 0\n",
    "    while len(maxHeap) != 0 :\n",
    "        if q.peek() == -1*maxHeap[0] :\n",
    "            if k == 0 :\n",
    "                return count + 1\n",
    "            else :\n",
    "                count += 1\n",
    "                q.dequeue()\n",
    "                heap.heappop(maxHeap)\n",
    "                k -= 1\n",
    "        else :\n",
    "            q.enqueue(q.peek())\n",
    "            q.dequeue()\n",
    "            if k == 0 :\n",
    "                k = q.getSize() - 1\n",
    "            else :\n",
    "                k -= 1\n",
    "    return count"
   ]
  }
 ],
 "metadata": {
  "kernelspec": {
   "display_name": "Python 3",
   "language": "python",
   "name": "python3"
  },
  "language_info": {
   "codemirror_mode": {
    "name": "ipython",
    "version": 3
   },
   "file_extension": ".py",
   "mimetype": "text/x-python",
   "name": "python",
   "nbconvert_exporter": "python",
   "pygments_lexer": "ipython3",
   "version": "3.8.8"
  }
 },
 "nbformat": 4,
 "nbformat_minor": 5
}
