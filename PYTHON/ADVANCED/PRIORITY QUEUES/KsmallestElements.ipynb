{
 "cells": [
  {
   "cell_type": "code",
   "execution_count": 6,
   "id": "4fbd9004",
   "metadata": {},
   "outputs": [
    {
     "name": "stdout",
     "output_type": "stream",
     "text": [
      "13\n",
      "2 12 9 16 10 5 3 20 25 11 1 8 6 \n",
      "4\n",
      "1 2 3 5\n"
     ]
    }
   ],
   "source": [
    "import heapq\n",
    "def kSmallest(lst, k):\n",
    "    heapq._heapify_max(lst)\n",
    "    temp = lst[:k]\n",
    "    \n",
    "    heapq._heapify_max(temp)\n",
    "    \n",
    "    for i in range(k,len(lst)):\n",
    "        if lst[i] < temp[0]:\n",
    "            heapq._heapreplace_max(temp,lst[i])\n",
    "    \n",
    "    return temp\n",
    "\n",
    "\n",
    "# Main\n",
    "n=int(input())\n",
    "lst=list(int(i) for i in input().strip().split(' '))\n",
    "k=int(input())\n",
    "ans=kSmallest(lst, k)\n",
    "ans.sort()\n",
    "print(*ans, sep=' ')"
   ]
  },
  {
   "cell_type": "code",
   "execution_count": 3,
   "id": "82bf1d8e",
   "metadata": {},
   "outputs": [
    {
     "data": {
      "text/plain": [
       "[7, 5, 3, 5, 3, 2, 2, 4, 3, 2]"
      ]
     },
     "execution_count": 3,
     "metadata": {},
     "output_type": "execute_result"
    }
   ],
   "source": [
    "import heapq\n",
    "l = [2,3,2,3,5,3,2,4,5,7]\n",
    "heapq._heapify_max(l)\n",
    "l"
   ]
  }
 ],
 "metadata": {
  "kernelspec": {
   "display_name": "Python 3",
   "language": "python",
   "name": "python3"
  },
  "language_info": {
   "codemirror_mode": {
    "name": "ipython",
    "version": 3
   },
   "file_extension": ".py",
   "mimetype": "text/x-python",
   "name": "python",
   "nbconvert_exporter": "python",
   "pygments_lexer": "ipython3",
   "version": "3.8.8"
  }
 },
 "nbformat": 4,
 "nbformat_minor": 5
}
