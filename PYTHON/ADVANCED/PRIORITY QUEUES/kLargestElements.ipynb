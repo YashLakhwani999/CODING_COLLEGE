{
 "cells": [
  {
   "cell_type": "code",
   "execution_count": 8,
   "id": "bec9b295",
   "metadata": {},
   "outputs": [
    {
     "name": "stdout",
     "output_type": "stream",
     "text": [
      "13\n",
      "2 12 9 16 10 5 3 20 25 11 1 8 6 \n",
      "4\n",
      "12\n",
      "16\n",
      "20\n",
      "25\n"
     ]
    }
   ],
   "source": [
    "import heapq\n",
    "def kLargest(lst, k):\n",
    "    heapq.heapify(lst)\n",
    "    temp = lst[:k]\n",
    "    \n",
    "    \n",
    "    for i in range(k,len(lst)):\n",
    "        if lst[i] > temp[0]:\n",
    "            heapq.heapreplace(temp,lst[i])\n",
    "    \n",
    "    return temp\n",
    "\n",
    "# Main Code\n",
    "n=int(input())\n",
    "lst=list(int(i) for i in input().strip().split(' '))\n",
    "k=int(input())\n",
    "ans=kLargest(lst, k)\n",
    "print(*ans, sep='\\n')"
   ]
  }
 ],
 "metadata": {
  "kernelspec": {
   "display_name": "Python 3",
   "language": "python",
   "name": "python3"
  },
  "language_info": {
   "codemirror_mode": {
    "name": "ipython",
    "version": 3
   },
   "file_extension": ".py",
   "mimetype": "text/x-python",
   "name": "python",
   "nbconvert_exporter": "python",
   "pygments_lexer": "ipython3",
   "version": "3.8.8"
  }
 },
 "nbformat": 4,
 "nbformat_minor": 5
}
