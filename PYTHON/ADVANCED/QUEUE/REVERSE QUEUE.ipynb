{
 "cells": [
  {
   "cell_type": "code",
   "execution_count": 6,
   "id": "5f999f18",
   "metadata": {},
   "outputs": [
    {
     "name": "stdout",
     "output_type": "stream",
     "text": [
      "1 2 3 4 5\n",
      "[1, 2, 3, 4, 5]\n"
     ]
    },
    {
     "data": {
      "text/plain": [
       "[5, 4, 3, 2, 1]"
      ]
     },
     "execution_count": 6,
     "metadata": {},
     "output_type": "execute_result"
    }
   ],
   "source": [
    "def reverseQueue(q) :\n",
    "    a = []\n",
    "\n",
    "    if len(q) == 0 or len(q) == 1:\n",
    "        return q\n",
    "    \n",
    "    while len(q) != 0:\n",
    "        ele = q.pop(0)\n",
    "        a.append(ele)\n",
    "    \n",
    "    while len(a) != 0:\n",
    "        ele = a.pop()\n",
    "        q.append(ele)\n",
    "        \n",
    "    return q\n",
    "\n",
    "\n",
    "q = [int(x) for x in input().split()]\n",
    "print(q)\n",
    "reverseQueue(q)"
   ]
  }
 ],
 "metadata": {
  "kernelspec": {
   "display_name": "Python 3",
   "language": "python",
   "name": "python3"
  },
  "language_info": {
   "codemirror_mode": {
    "name": "ipython",
    "version": 3
   },
   "file_extension": ".py",
   "mimetype": "text/x-python",
   "name": "python",
   "nbconvert_exporter": "python",
   "pygments_lexer": "ipython3",
   "version": "3.8.8"
  }
 },
 "nbformat": 4,
 "nbformat_minor": 5
}
