{
 "cells": [
  {
   "cell_type": "code",
   "execution_count": null,
   "id": "dbb581fe",
   "metadata": {},
   "outputs": [],
   "source": [
    "class stack :\n",
    "    \n",
    "    def __init__(self):\n",
    "        self.__q1 = []\n",
    "        self.__q2 = []\n",
    "        self.__count = 0\n",
    "        \n",
    "    def push(self,data):\n",
    "        self.__q1.append(data)\n",
    "        self.__count += 1\n",
    "        \n",
    "    def pop(self):\n",
    "        if self.__count == 0:\n",
    "            return -1\n",
    "        ele = self.__q1.pop()\n",
    "        self.__count -= 1\n",
    "        return ele\n",
    "        \n",
    "    def top(self):\n",
    "        if self.__count == 0:\n",
    "            return -1\n",
    "        return self.__q1[-1]\n",
    "        \n",
    "    def getSize(self):\n",
    "        return self.__count\n",
    "        \n",
    "    def isEmpty(self):\n",
    "        return self.getSize() == 0\n",
    "        "
   ]
  }
 ],
 "metadata": {
  "kernelspec": {
   "display_name": "Python 3",
   "language": "python",
   "name": "python3"
  },
  "language_info": {
   "codemirror_mode": {
    "name": "ipython",
    "version": 3
   },
   "file_extension": ".py",
   "mimetype": "text/x-python",
   "name": "python",
   "nbconvert_exporter": "python",
   "pygments_lexer": "ipython3",
   "version": "3.8.8"
  }
 },
 "nbformat": 4,
 "nbformat_minor": 5
}
