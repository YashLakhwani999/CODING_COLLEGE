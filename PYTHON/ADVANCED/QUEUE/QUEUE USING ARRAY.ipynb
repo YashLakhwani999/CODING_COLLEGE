{
 "cells": [
  {
   "cell_type": "code",
   "execution_count": 12,
   "id": "b7b80958",
   "metadata": {},
   "outputs": [
    {
     "name": "stdout",
     "output_type": "stream",
     "text": [
      "WHAT OPERATIONS YOU WANT TO PERFORM ON A QUEUE LISTED BELOW :\n",
      "1. ENQUEUE \n",
      "2. DEQUEUE \n",
      "3. FRONT \n",
      "4. SIZE \n",
      "DO YOU WANT TO PERFORM OPERATIONS : y\n",
      "ENTER THE NUMBER ASSOCIATED WITH THE OPERATIONS : 4\n",
      "THE SIZE OF QUEUE IS 0\n",
      "DO YOU WANT TO PERFORM OPERATIONS : n\n",
      "THANK YOU FOR USING QUEUE.\n",
      "THE QUEUE HAS  0 ELEMENTS. WHICH ARE []\n"
     ]
    }
   ],
   "source": [
    "Q = []\n",
    "print(\"WHAT OPERATIONS YOU WANT TO PERFORM ON A QUEUE LISTED BELOW :\")\n",
    "print(\"1. ENQUEUE \")\n",
    "print(\"2. DEQUEUE \")\n",
    "print(\"3. FRONT \")\n",
    "print(\"4. SIZE \")\n",
    "ques = input(\"DO YOU WANT TO PERFORM OPERATIONS : \")\n",
    "while ques == 'y' or ques == \"Y\":\n",
    "    \n",
    "    n = int(input(\"ENTER THE NUMBER ASSOCIATED WITH THE OPERATIONS : \"))\n",
    "    \n",
    "    if n == 1:\n",
    "        element = int(input(\"Enter the value you want to put in queue : \"))\n",
    "        Q.append(element)\n",
    "        print(\"ENQUEUE PERFORMED SUCCESSFULLY!!\")\n",
    "    \n",
    "    elif n == 2:\n",
    "        if len(Q) == 0:\n",
    "            print(\"Queue is empty!!\")\n",
    "        else:\n",
    "            A = Q.pop(0)\n",
    "            print(\"DEQUEUE PERFORMED SUCCESSFULLY!!\")\n",
    "            print(\"ELEMENT REMOVED IS \",A)\n",
    "    \n",
    "    elif n == 3:\n",
    "        print(\"ELEMENT AT FRONT OF THE QUEUE IS \",Q[0])\n",
    "    \n",
    "    elif n == 4:\n",
    "        print(\"THE SIZE OF QUEUE IS\", len(Q),\".\")\n",
    "    \n",
    "    ques = input(\"DO YOU WANT TO PERFORM OPERATIONS : \")\n",
    "    \n",
    "else:\n",
    "    print(\"THANK YOU FOR USING QUEUE.\")\n",
    "    print(\"THE QUEUE HAS \",len(Q),\"ELEMENTS. WHICH ARE\",Q)"
   ]
  }
 ],
 "metadata": {
  "kernelspec": {
   "display_name": "Python 3",
   "language": "python",
   "name": "python3"
  },
  "language_info": {
   "codemirror_mode": {
    "name": "ipython",
    "version": 3
   },
   "file_extension": ".py",
   "mimetype": "text/x-python",
   "name": "python",
   "nbconvert_exporter": "python",
   "pygments_lexer": "ipython3",
   "version": "3.8.8"
  }
 },
 "nbformat": 4,
 "nbformat_minor": 5
}
