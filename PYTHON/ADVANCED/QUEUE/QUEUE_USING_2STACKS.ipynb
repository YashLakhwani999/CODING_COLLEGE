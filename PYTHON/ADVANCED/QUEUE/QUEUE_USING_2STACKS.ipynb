{
 "cells": [
  {
   "cell_type": "code",
   "execution_count": 24,
   "id": "5e6f2278",
   "metadata": {},
   "outputs": [],
   "source": [
    "class QueueUsing2Stacks :\n",
    "    \n",
    "    def __init__(self):\n",
    "        self.__s1 = []\n",
    "        self.__s2 = []\n",
    "        \n",
    "    def enqueue(self, data):\n",
    "        self.__s1.append(data)\n",
    "        \n",
    "    def dequeue(self):\n",
    "        if len(self.__s1) == 0:\n",
    "            return -1\n",
    "        \n",
    "        while len(self.__s1) != 1:\n",
    "            ele = self.__s1.pop()\n",
    "            self.__s2.append(ele)\n",
    "            \n",
    "        lastelement = self.__s1.pop()\n",
    "        while len(self.__s2) != 0:\n",
    "            ele = self.__s2.pop()\n",
    "            self.__s1.append(ele)\n",
    "            \n",
    "        return lastelement\n",
    "        \n",
    "        \n",
    "    def front(self):\n",
    "        if len(self.__s1) == 0:\n",
    "            return -1\n",
    "        \n",
    "        return self.__s1[0]\n",
    "        \n",
    "    def size(self):\n",
    "        return len(self.__s1)\n",
    "                \n",
    "    def isEmpty(self):\n",
    "        return self.size() == 0"
   ]
  },
  {
   "cell_type": "code",
   "execution_count": 25,
   "id": "6ef07d6a",
   "metadata": {},
   "outputs": [
    {
     "name": "stdout",
     "output_type": "stream",
     "text": [
      "1\n",
      "2\n",
      "3\n",
      "4\n",
      "5\n",
      "6\n",
      "-1\n"
     ]
    }
   ],
   "source": [
    "q = QueueUsing2Stacks()\n",
    "q.enqueue(1)\n",
    "q.enqueue(2)\n",
    "q.enqueue(3)\n",
    "q.enqueue(4)\n",
    "q.enqueue(5)\n",
    "q.enqueue(6)\n",
    "while q.isEmpty() is False:\n",
    "    print(q.front())\n",
    "    q.dequeue()\n",
    "    \n",
    "print(q.dequeue())"
   ]
  }
 ],
 "metadata": {
  "kernelspec": {
   "display_name": "Python 3",
   "language": "python",
   "name": "python3"
  },
  "language_info": {
   "codemirror_mode": {
    "name": "ipython",
    "version": 3
   },
   "file_extension": ".py",
   "mimetype": "text/x-python",
   "name": "python",
   "nbconvert_exporter": "python",
   "pygments_lexer": "ipython3",
   "version": "3.8.8"
  }
 },
 "nbformat": 4,
 "nbformat_minor": 5
}
