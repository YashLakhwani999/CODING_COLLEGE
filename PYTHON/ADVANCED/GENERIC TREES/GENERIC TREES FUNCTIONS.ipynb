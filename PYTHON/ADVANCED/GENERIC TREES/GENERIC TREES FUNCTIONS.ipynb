{
 "cells": [
  {
   "cell_type": "code",
   "execution_count": 2,
   "id": "966bc57b",
   "metadata": {},
   "outputs": [],
   "source": [
    "class TreeNode:\n",
    "    def __init__(self, data):\n",
    "        self.data = data\n",
    "        self.children = list()"
   ]
  },
  {
   "cell_type": "code",
   "execution_count": 3,
   "id": "22068802",
   "metadata": {},
   "outputs": [],
   "source": [
    "def PrintTree(root):\n",
    "    print(root.data)\n",
    "    \n",
    "    for child in root.children:\n",
    "        PrintTree(child)"
   ]
  },
  {
   "cell_type": "code",
   "execution_count": 14,
   "id": "973f8cf7",
   "metadata": {},
   "outputs": [],
   "source": [
    "def PrintTreeDetailed(root):\n",
    "    if root == None:\n",
    "        return \n",
    "    \n",
    "    print(root.data, \":\", end = \" \")\n",
    "    \n",
    "    for child in root.children:\n",
    "        print(child.data, \",\", end = \" \")\n",
    "        \n",
    "    print()\n",
    "    \n",
    "    for child in root.children:\n",
    "        PrintTreeDetailed(child)"
   ]
  },
  {
   "cell_type": "code",
   "execution_count": 24,
   "id": "44896f16",
   "metadata": {},
   "outputs": [],
   "source": [
    "import queue\n",
    "def TakeTreeLevelwise():\n",
    "    q = queue.Queue()\n",
    "    print(\"Enter Root data : \")\n",
    "    RootData = int(input())\n",
    "    if RootData == -1:\n",
    "        return None\n",
    "    \n",
    "    root = TreeNode(RootData)\n",
    "    q.put(root)\n",
    "    while (not(q.empty())):\n",
    "        current_node = q.get()\n",
    "        print(\"Enter Number of children for \", current_node.data)\n",
    "        numChildren = int(input())\n",
    "        for i in range(numChildren):\n",
    "            print(\"Enter child data for \", current_node.data)\n",
    "            childData = int(input())\n",
    "            child = TreeNode(childData)\n",
    "            current_node.children.append(child)\n",
    "            q.put(child)\n",
    "    return root"
   ]
  },
  {
   "cell_type": "code",
   "execution_count": 51,
   "id": "6682f70d",
   "metadata": {},
   "outputs": [],
   "source": [
    "def printLevelWise(root):\n",
    "    q = queue.Queue()    \n",
    "\n",
    "    if root == None:\n",
    "        return None\n",
    "    \n",
    "    q.put(root)\n",
    "    \n",
    "    while (not(q.empty())):\n",
    "        a = q.get()\n",
    "        print(a.data, end = \":\") \n",
    "        for child in a.children:\n",
    "            q.put(child)\n",
    "            print(child.data, end = \",\")\n",
    "        print()"
   ]
  },
  {
   "cell_type": "code",
   "execution_count": 15,
   "id": "a5d2e622",
   "metadata": {},
   "outputs": [],
   "source": [
    "def TakeTreeInput():\n",
    "    print(\"Enter root Data:\")\n",
    "    rootData = int(input())\n",
    "    \n",
    "    if rootData == -1: \n",
    "        return None\n",
    "    \n",
    "    root = TreeNode(rootData)\n",
    "    \n",
    "    print(\"Enter number of child of \",rootData)\n",
    "    childCount = int(input())\n",
    "    for i in range(childCount):\n",
    "        child = TakeTreeInput()\n",
    "        root.children.append(child)\n",
    "    return root"
   ]
  },
  {
   "cell_type": "code",
   "execution_count": 6,
   "id": "63de61a2",
   "metadata": {},
   "outputs": [],
   "source": [
    "def NumNodes(root):\n",
    "    if root == None:\n",
    "        return 0\n",
    "    \n",
    "    count = 1\n",
    "    for child in root.children:\n",
    "        count = count + NumNodes(child)\n",
    "    return count"
   ]
  },
  {
   "cell_type": "code",
   "execution_count": 75,
   "id": "41ceb548",
   "metadata": {},
   "outputs": [],
   "source": [
    "def SumNodes(root):\n",
    "    sum = root.data\n",
    "    for child in root.children:\n",
    "        sum += SumNodes(child)\n",
    "    return sum"
   ]
  },
  {
   "cell_type": "code",
   "execution_count": 103,
   "id": "60dedc42",
   "metadata": {},
   "outputs": [],
   "source": [
    "import queue\n",
    "def maxSumNode(root):\n",
    "    if root == None:\n",
    "        return\n",
    "    \n",
    "    q = queue.Queue()\n",
    "    q.put(root)\n",
    "    sum = -1000000\n",
    "    node = root\n",
    "    \n",
    "    while not(q.empty()):\n",
    "        x = 0\n",
    "        currNode = q.get()\n",
    "        for child in currNode.children:\n",
    "            q.put(child)\n",
    "            x += child.data\n",
    "        if sum < x:\n",
    "            sum = x\n",
    "            node = currNode\n",
    "    return node"
   ]
  },
  {
   "cell_type": "code",
   "execution_count": 134,
   "id": "1a1f2dab",
   "metadata": {},
   "outputs": [],
   "source": [
    "def nextLargest(tree, n):\n",
    "    ans = None\n",
    "    if not tree:\n",
    "        return ans\n",
    "    if tree.data > n:\n",
    "        ans = tree\n",
    "    for child in tree.children:\n",
    "        temp = nextLargest(child, n)\n",
    "        if temp:\n",
    "            if (not ans) or ans.data > temp.data:\n",
    "                ans = temp\n",
    "    return ans"
   ]
  },
  {
   "cell_type": "code",
   "execution_count": 101,
   "id": "445d79d2",
   "metadata": {},
   "outputs": [],
   "source": [
    "import queue        \n",
    "def isIdentical(tree1, tree2):\n",
    "    if tree1 == None and tree2 == None:\n",
    "        return True\n",
    "    \n",
    "    if tree1 == None or tree2 == None:\n",
    "        return False\n",
    "    \n",
    "    q1 = queue.Queue()\n",
    "    q2 = queue.Queue()\n",
    "    \n",
    "    q1.put(tree1)\n",
    "    q2.put(tree2)\n",
    "     \n",
    "    l1 = []\n",
    "    l2 = []\n",
    "    \n",
    "    while(not(q1.empty())):\n",
    "        curr = q1.get()\n",
    "        l1.append(curr)\n",
    "        for child in curr.children:\n",
    "            l1.append(child)\n",
    "            q1.put(child)            \n",
    "    \n",
    "    while(not(q2.empty())):\n",
    "        curr = q2.get()\n",
    "        l2.append(curr)\n",
    "        for child in curr.children:\n",
    "            l2.append(child)\n",
    "            q2.put(child)\n",
    "    \n",
    "    if len(l1) == len(l2):\n",
    "        for i in range(len(l1)):\n",
    "            if l1[i].data == l2[i].data:\n",
    "                return True\n",
    "        return False\n",
    "    else:\n",
    "        return False"
   ]
  },
  {
   "cell_type": "code",
   "execution_count": 8,
   "id": "2df4a9a2",
   "metadata": {},
   "outputs": [],
   "source": [
    "def LargestNode(root):\n",
    "    if root == None:\n",
    "        return \n",
    "    \n",
    "    largest = root\n",
    "    \n",
    "    for child in root.children:\n",
    "        if largest.data < LargestNode(child).data:\n",
    "            largest = LargestNode(child)\n",
    "    return largest"
   ]
  },
  {
   "cell_type": "code",
   "execution_count": 70,
   "id": "38dc3e7c",
   "metadata": {},
   "outputs": [],
   "source": [
    "import queue\n",
    "def countLeafNodes(root):\n",
    "    q = queue.Queue()\n",
    "    \n",
    "    if root == None:\n",
    "        return\n",
    "    \n",
    "    q.put(root)\n",
    "\n",
    "    count = 0\n",
    "    if not(root.children):\n",
    "        count = count + 1\n",
    "    while (not(q.empty())):\n",
    "        node = q.get()\n",
    "        for child in node.children:\n",
    "            q.put(child)\n",
    "            if (not(child.children)):\n",
    "                count += 1\n",
    "                \n",
    "    return count"
   ]
  },
  {
   "cell_type": "code",
   "execution_count": 139,
   "id": "a7b267a9",
   "metadata": {},
   "outputs": [],
   "source": [
    "def replaceWithDepth(root, d = 0):\n",
    "    if root == None:\n",
    "        return \n",
    "    root.data = d\n",
    "    for child in root.children:\n",
    "        replaceWithDepth(child,d + 1)"
   ]
  },
  {
   "cell_type": "code",
   "execution_count": 150,
   "id": "84e18ca5",
   "metadata": {},
   "outputs": [],
   "source": [
    "import queue\n",
    "def removeLeafNodes(root):\n",
    "    if root == None:\n",
    "        return None\n",
    "    if len(root.children) == 0:\n",
    "        return None\n",
    "    i = 0\n",
    "    while i < len(root.children):\n",
    "        child = root.children[i]\n",
    "        \n",
    "        if len(child.children) == 0:\n",
    "            for j in range(i, len(root.children) - 1):\n",
    "                root.children[j] = root.children[j+1]\n",
    "                \n",
    "            root.children.pop()\n",
    "            i = i - 1\n",
    "        i = i + 1\n",
    "        \n",
    "    for i in range(len(root.children)):\n",
    "        root.children[i] = removeLeafNodes(root.children[i])\n",
    "    \n",
    "    return root"
   ]
  },
  {
   "cell_type": "code",
   "execution_count": 67,
   "id": "f968f786",
   "metadata": {},
   "outputs": [],
   "source": [
    "import queue\n",
    "def containsX(root,x):\n",
    "    q = queue.Queue()\n",
    "    \n",
    "    if root == None:\n",
    "        return\n",
    "    \n",
    "    q.put(root)\n",
    "    while (not(q.empty())):\n",
    "        node = q.get()\n",
    "        if node.data == x:\n",
    "            return True\n",
    "        for child in node.children:\n",
    "            if child.data == x:\n",
    "                return True\n",
    "            q.put(child)\n",
    "    return False"
   ]
  },
  {
   "cell_type": "code",
   "execution_count": 86,
   "id": "3425b14d",
   "metadata": {},
   "outputs": [],
   "source": [
    "def heightNode(root):\n",
    "    max = 0\n",
    "    for child in root.children:\n",
    "        temp = heightNode(child)\n",
    "        if max < temp:\n",
    "            max = temp\n",
    "    return max + 1"
   ]
  },
  {
   "cell_type": "code",
   "execution_count": 88,
   "id": "4b69aa81",
   "metadata": {},
   "outputs": [
    {
     "name": "stdout",
     "output_type": "stream",
     "text": [
      "Enter Root data : \n",
      "1\n",
      "Enter Number of children for  1\n",
      "3\n",
      "Enter child data for  1\n",
      "2\n",
      "Enter child data for  1\n",
      "3\n",
      "Enter child data for  1\n",
      "4\n",
      "Enter Number of children for  2\n",
      "0\n",
      "Enter Number of children for  3\n",
      "2\n",
      "Enter child data for  3\n",
      "5\n",
      "Enter child data for  3\n",
      "6\n",
      "Enter Number of children for  4\n",
      "0\n",
      "Enter Number of children for  5\n",
      "0\n",
      "Enter Number of children for  6\n",
      "3\n",
      "Enter child data for  6\n",
      "7\n",
      "Enter child data for  6\n",
      "8\n",
      "Enter child data for  6\n",
      "9\n",
      "Enter Number of children for  7\n",
      "0\n",
      "Enter Number of children for  8\n",
      "0\n",
      "Enter Number of children for  9\n",
      "0\n",
      "1 : 2 , 3 , 4 , \n",
      "2 : \n",
      "3 : 5 , 6 , \n",
      "5 : \n",
      "6 : 7 , 8 , 9 , \n",
      "7 : \n",
      "8 : \n",
      "9 : \n",
      "4 : \n"
     ]
    }
   ],
   "source": [
    "root2 = TakeTreeLevelwise()\n",
    "PrintTreeDetailed(root2)"
   ]
  },
  {
   "cell_type": "code",
   "execution_count": 48,
   "id": "18d960f4",
   "metadata": {},
   "outputs": [
    {
     "name": "stdout",
     "output_type": "stream",
     "text": [
      "Enter Root data : \n",
      "1\n",
      "Enter Number of children for  1\n",
      "3\n",
      "Enter child data for  1\n",
      "2\n",
      "Enter child data for  1\n",
      "3\n",
      "Enter child data for  1\n",
      "4\n",
      "Enter Number of children for  2\n",
      "0\n",
      "Enter Number of children for  3\n",
      "2\n",
      "Enter child data for  3\n",
      "5\n",
      "Enter child data for  3\n",
      "6\n",
      "Enter Number of children for  4\n",
      "0\n",
      "Enter Number of children for  5\n",
      "0\n",
      "Enter Number of children for  6\n",
      "3\n",
      "Enter child data for  6\n",
      "7\n",
      "Enter child data for  6\n",
      "8\n",
      "Enter child data for  6\n",
      "9\n",
      "Enter Number of children for  7\n",
      "0\n",
      "Enter Number of children for  8\n",
      "0\n",
      "Enter Number of children for  9\n",
      "0\n",
      "1 : 2 , 3 , 4 , \n",
      "2 : \n",
      "3 : 5 , 6 , \n",
      "5 : \n",
      "6 : 7 , 8 , 9 , \n",
      "7 : \n",
      "8 : \n",
      "9 : \n",
      "4 : \n"
     ]
    }
   ],
   "source": [
    "root = TakeTreeLevelwise()\n",
    "PrintTreeDetailed(root)"
   ]
  },
  {
   "cell_type": "code",
   "execution_count": 53,
   "id": "afbff803",
   "metadata": {},
   "outputs": [
    {
     "name": "stdout",
     "output_type": "stream",
     "text": [
      "1:2,3,4,\n",
      "2:\n",
      "3:5,6,\n",
      "4:\n",
      "5:\n",
      "6:7,8,9,\n",
      "7:\n",
      "8:\n",
      "9:\n"
     ]
    }
   ],
   "source": [
    "printLevelWise(root)"
   ]
  },
  {
   "cell_type": "code",
   "execution_count": 136,
   "id": "9e955304",
   "metadata": {},
   "outputs": [
    {
     "data": {
      "text/plain": [
       "8"
      ]
     },
     "execution_count": 136,
     "metadata": {},
     "output_type": "execute_result"
    }
   ],
   "source": [
    "nextLargest(root, 7).data"
   ]
  },
  {
   "cell_type": "code",
   "execution_count": 152,
   "id": "5d732554",
   "metadata": {},
   "outputs": [
    {
     "data": {
      "text/plain": [
       "1"
      ]
     },
     "execution_count": 152,
     "metadata": {},
     "output_type": "execute_result"
    }
   ],
   "source": [
    "removeLeafNodes(root).data"
   ]
  },
  {
   "cell_type": "code",
   "execution_count": 153,
   "id": "01757fc9",
   "metadata": {},
   "outputs": [
    {
     "name": "stdout",
     "output_type": "stream",
     "text": [
      "1:3,\n",
      "3:\n"
     ]
    }
   ],
   "source": [
    "printLevelWise(root)"
   ]
  },
  {
   "cell_type": "code",
   "execution_count": 142,
   "id": "9ac935ff",
   "metadata": {},
   "outputs": [
    {
     "data": {
      "text/plain": [
       "6"
      ]
     },
     "execution_count": 142,
     "metadata": {},
     "output_type": "execute_result"
    }
   ],
   "source": [
    "countLeafNodes(root)"
   ]
  },
  {
   "cell_type": "code",
   "execution_count": 102,
   "id": "2cc8d645",
   "metadata": {},
   "outputs": [
    {
     "name": "stdout",
     "output_type": "stream",
     "text": [
      "true\n"
     ]
    }
   ],
   "source": [
    "a = isIdentical(root, root2)\n",
    "if a:\n",
    "    print(\"true\")\n",
    "else:\n",
    "    print(\"false\")"
   ]
  },
  {
   "cell_type": "code",
   "execution_count": 89,
   "id": "798b5a2d",
   "metadata": {},
   "outputs": [
    {
     "data": {
      "text/plain": [
       "6"
      ]
     },
     "execution_count": 89,
     "metadata": {},
     "output_type": "execute_result"
    }
   ],
   "source": [
    "maxSumNode(root).data"
   ]
  },
  {
   "cell_type": "code",
   "execution_count": 69,
   "id": "af522113",
   "metadata": {},
   "outputs": [
    {
     "name": "stdout",
     "output_type": "stream",
     "text": [
      "false\n"
     ]
    }
   ],
   "source": [
    "a = containsX(root,0)\n",
    "if a:\n",
    "    print(\"true\")\n",
    "else:\n",
    "    print(\"false\")"
   ]
  },
  {
   "cell_type": "code",
   "execution_count": 30,
   "id": "9d268f47",
   "metadata": {},
   "outputs": [
    {
     "data": {
      "text/plain": [
       "4"
      ]
     },
     "execution_count": 30,
     "metadata": {},
     "output_type": "execute_result"
    }
   ],
   "source": [
    "heightNode(root)"
   ]
  },
  {
   "cell_type": "code",
   "execution_count": 154,
   "id": "b66e07b0",
   "metadata": {},
   "outputs": [
    {
     "data": {
      "text/plain": [
       "3"
      ]
     },
     "execution_count": 154,
     "metadata": {},
     "output_type": "execute_result"
    }
   ],
   "source": [
    "LargestNode(root).data"
   ]
  },
  {
   "cell_type": "code",
   "execution_count": null,
   "id": "a0908f55",
   "metadata": {},
   "outputs": [],
   "source": []
  }
 ],
 "metadata": {
  "kernelspec": {
   "display_name": "Python 3",
   "language": "python",
   "name": "python3"
  },
  "language_info": {
   "codemirror_mode": {
    "name": "ipython",
    "version": 3
   },
   "file_extension": ".py",
   "mimetype": "text/x-python",
   "name": "python",
   "nbconvert_exporter": "python",
   "pygments_lexer": "ipython3",
   "version": "3.8.8"
  }
 },
 "nbformat": 4,
 "nbformat_minor": 5
}
