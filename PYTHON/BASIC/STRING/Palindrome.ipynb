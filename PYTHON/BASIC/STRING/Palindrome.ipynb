{
 "cells": [
  {
   "cell_type": "markdown",
   "id": "221b406b",
   "metadata": {},
   "source": [
    "## FUNCTION"
   ]
  },
  {
   "cell_type": "code",
   "execution_count": 58,
   "id": "bd27c3e7",
   "metadata": {},
   "outputs": [
    {
     "name": "stdout",
     "output_type": "stream",
     "text": [
      "yashsay\n",
      "true\n"
     ]
    }
   ],
   "source": [
    "def isPalindrome(string) :\n",
    "    p=string[::-1]\n",
    "    if string==p:\n",
    "        return True\n",
    "    else:\n",
    "        return False\n",
    "#main\n",
    "string=input()\n",
    "ans = isPalindrome(string)\n",
    "\n",
    "if ans :\n",
    "    print('true')\n",
    "else :\n",
    "    print('false')\n"
   ]
  },
  {
   "cell_type": "markdown",
   "id": "187773ea",
   "metadata": {},
   "source": [
    "## ALTERNATIVE METHOD"
   ]
  },
  {
   "cell_type": "code",
   "execution_count": 56,
   "id": "591d5413",
   "metadata": {},
   "outputs": [
    {
     "name": "stdout",
     "output_type": "stream",
     "text": [
      "Enter Your String :coding\n",
      "false\n"
     ]
    }
   ],
   "source": [
    "s1=[]\n",
    "s2=[]\n",
    "a=str(input(\"Enter Your String :\"))\n",
    "b=list(a)\n",
    "c=len(b)//2\n",
    "for i in range(c):\n",
    "    s1.append(b.pop(0))\n",
    "    s2.append(b.pop())\n",
    "if s1==s2:\n",
    "    print('true')\n",
    "else:\n",
    "    print('false')"
   ]
  }
 ],
 "metadata": {
  "kernelspec": {
   "display_name": "Python 3",
   "language": "python",
   "name": "python3"
  },
  "language_info": {
   "codemirror_mode": {
    "name": "ipython",
    "version": 3
   },
   "file_extension": ".py",
   "mimetype": "text/x-python",
   "name": "python",
   "nbconvert_exporter": "python",
   "pygments_lexer": "ipython3",
   "version": "3.8.8"
  }
 },
 "nbformat": 4,
 "nbformat_minor": 5
}
