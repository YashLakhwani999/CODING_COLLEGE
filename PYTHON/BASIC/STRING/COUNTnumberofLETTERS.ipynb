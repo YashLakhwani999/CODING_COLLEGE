{
 "cells": [
  {
   "cell_type": "markdown",
   "id": "1b8ce1a9",
   "metadata": {},
   "source": [
    "## Iteration Method  "
   ]
  },
  {
   "cell_type": "code",
   "execution_count": 26,
   "id": "526c84d6",
   "metadata": {},
   "outputs": [
    {
     "name": "stdout",
     "output_type": "stream",
     "text": [
      "# Enter The Sentence : My Name is Yash.\n",
      "My Name is Yash.\n",
      "# Enter the letter you want to find from above sentence : Y\n",
      "The letter you searched is repeated 1 times in the sentence.\n"
     ]
    }
   ],
   "source": [
    "sentence=str(input(\"# Enter The Sentence : \"))\n",
    "print(sentence)\n",
    "letter=str(input(\"# Enter the letter you want to find from above sentence : \"))\n",
    "count=0\n",
    "for i in sentence:\n",
    "    if i==letter:\n",
    "        count+=1\n",
    "    else:\n",
    "        pass\n",
    "print(\"The letter you searched is repeated\",count,\"times in the sentence.\")"
   ]
  },
  {
   "cell_type": "markdown",
   "id": "92863139",
   "metadata": {},
   "source": [
    "## Indexing Method"
   ]
  },
  {
   "cell_type": "code",
   "execution_count": 27,
   "id": "331bb93e",
   "metadata": {},
   "outputs": [
    {
     "name": "stdout",
     "output_type": "stream",
     "text": [
      "# Enter The Sentence : My name is Yash.\n",
      "My name is Yash.\n",
      "# Enter the letter you want to find from above sentence : a\n",
      "The letter you searched is repeated 2 times in the sentence.\n"
     ]
    }
   ],
   "source": [
    "sentence=str(input(\"# Enter The Sentence : \"))\n",
    "print(sentence)\n",
    "letter=str(input(\"# Enter the letter you want to find from above sentence : \"))\n",
    "count=0\n",
    "for i in range (len(sentence)):\n",
    "    if sentence[i]== letter:\n",
    "        count+=1\n",
    "    else:\n",
    "        pass\n",
    "print(\"The letter you searched is repeated\",count,\"times in the sentence.\")"
   ]
  }
 ],
 "metadata": {
  "kernelspec": {
   "display_name": "Python 3",
   "language": "python",
   "name": "python3"
  },
  "language_info": {
   "codemirror_mode": {
    "name": "ipython",
    "version": 3
   },
   "file_extension": ".py",
   "mimetype": "text/x-python",
   "name": "python",
   "nbconvert_exporter": "python",
   "pygments_lexer": "ipython3",
   "version": "3.8.8"
  }
 },
 "nbformat": 4,
 "nbformat_minor": 5
}
