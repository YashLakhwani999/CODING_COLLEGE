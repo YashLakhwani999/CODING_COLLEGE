{
 "cells": [
  {
   "cell_type": "code",
   "execution_count": 16,
   "id": "cb214ea5",
   "metadata": {},
   "outputs": [
    {
     "name": "stdout",
     "output_type": "stream",
     "text": [
      "Enter any string without space : myNameIsYashLakhwaniHGDHGGC.           \n",
      "LOWERCASE Characters -->  16\n",
      "LOWERCASE VOWELS -->  6\n",
      "UPPERCASE Characters -->  11\n",
      "UPPERCASE VOWELS -->  1\n",
      "DIGITS -->  0\n",
      "Special Characters -->  12\n"
     ]
    }
   ],
   "source": [
    "string = str(input(\"Enter any string without space : \"))\n",
    "count_small = 0\n",
    "count_big = 0\n",
    "count_dig = 0\n",
    "count_lowvow = 0\n",
    "count_special = 0\n",
    "count_upvow = 0\n",
    "for alphabets in string:\n",
    "    if alphabets >= 'A' and alphabets <= 'Z' :\n",
    "        if alphabets == 'A' or alphabets == 'E' or alphabets == 'O' or alphabets == 'U' or alphabets == \"I\":\n",
    "                count_upvow+=1\n",
    "        count_big+=1\n",
    "    elif alphabets >= \"a\" and alphabets <= 'z' :\n",
    "        if alphabets == 'a' or alphabets == 'e' or alphabets == 'i' or alphabets == 'o' or alphabets == 'u':\n",
    "            count_lowvow+=1\n",
    "        count_small+=1\n",
    "    elif alphabets >='0' and alphabets <= '9' :\n",
    "        count_dig+=1\n",
    "    else:\n",
    "        count_special+=1\n",
    "print(\"LOWERCASE Characters --> \",count_small)\n",
    "print(\"LOWERCASE VOWELS --> \",count_lowvow)\n",
    "print(\"UPPERCASE Characters --> \",count_big)\n",
    "print(\"UPPERCASE VOWELS --> \",count_upvow)\n",
    "print(\"DIGITS --> \",count_dig)\n",
    "print(\"Special Characters --> \",count_special)"
   ]
  }
 ],
 "metadata": {
  "kernelspec": {
   "display_name": "Python 3",
   "language": "python",
   "name": "python3"
  },
  "language_info": {
   "codemirror_mode": {
    "name": "ipython",
    "version": 3
   },
   "file_extension": ".py",
   "mimetype": "text/x-python",
   "name": "python",
   "nbconvert_exporter": "python",
   "pygments_lexer": "ipython3",
   "version": "3.8.8"
  }
 },
 "nbformat": 4,
 "nbformat_minor": 5
}
