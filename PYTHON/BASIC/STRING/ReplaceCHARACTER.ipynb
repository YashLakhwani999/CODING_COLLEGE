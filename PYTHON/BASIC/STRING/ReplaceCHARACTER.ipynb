{
 "cells": [
  {
   "cell_type": "markdown",
   "id": "d6dec9c0",
   "metadata": {},
   "source": [
    "## REPLACE CHARACTER FROM SENTENCE"
   ]
  },
  {
   "cell_type": "code",
   "execution_count": 14,
   "id": "3c17f1b7",
   "metadata": {
    "scrolled": true
   },
   "outputs": [
    {
     "name": "stdout",
     "output_type": "stream",
     "text": [
      "Enter the String : Hello my name is Yash Hello . \n",
      "Enter the word or character you want to replace : Hello\n",
      "Enter the word or character you want to repalce with : Namaste\n",
      "Namaste my name is Yash Namaste . \n"
     ]
    }
   ],
   "source": [
    "a = str(input(\"Enter the String : \"))\n",
    "replace_which = str(input(\"Enter the word or character you want to replace : \"))\n",
    "replace_with = str(input(\"Enter the word or character you want to repalce with : \"))\n",
    "a = a.replace(replace_which,replace_with)\n",
    "print(a)"
   ]
  },
  {
   "cell_type": "markdown",
   "id": "767b378f",
   "metadata": {},
   "source": [
    "## REPLACE CHARACTER FROM WORD "
   ]
  },
  {
   "cell_type": "code",
   "execution_count": 7,
   "id": "7d13e3fb",
   "metadata": {},
   "outputs": [],
   "source": [
    "def replace(sentence,char1,char2):\n",
    "    new_sentence = \" \"\n",
    "    for char in sentence:\n",
    "        if char == char1:\n",
    "            new_sentence+=char2\n",
    "        else:\n",
    "            new_sentence+=char\n",
    "    print(\"REPLACED SENTENCE IS \",new_sentence ,\".\")"
   ]
  },
  {
   "cell_type": "code",
   "execution_count": 6,
   "id": "e0433f8c",
   "metadata": {},
   "outputs": [
    {
     "name": "stdout",
     "output_type": "stream",
     "text": [
      "------------- IT WORKS FOR ONLY ONE CHARACTER/ALPHABETS -------------\n",
      "Enter a non space sentence i.e. without any space : YASH lakhwani\n",
      "Enter the character you want to replace : l\n",
      "Enter new character for replacement : L\n",
      "REPLACED SENTENCE IS   YASH Lakhwani\n"
     ]
    }
   ],
   "source": [
    "print(\"------------- IT WORKS FOR ONLY ONE CHARACTER/ALPHABETS -------------\")\n",
    "sentence = str(input(\"Enter a non space sentence i.e. without any space : \"))\n",
    "char1 = str(input(\"Enter the character you want to replace : \"))\n",
    "char2 = str(input(\"Enter new character for replacement : \"))\n",
    "replace(sentence,char1,char2)"
   ]
  }
 ],
 "metadata": {
  "kernelspec": {
   "display_name": "Python 3",
   "language": "python",
   "name": "python3"
  },
  "language_info": {
   "codemirror_mode": {
    "name": "ipython",
    "version": 3
   },
   "file_extension": ".py",
   "mimetype": "text/x-python",
   "name": "python",
   "nbconvert_exporter": "python",
   "pygments_lexer": "ipython3",
   "version": "3.8.8"
  }
 },
 "nbformat": 4,
 "nbformat_minor": 5
}
