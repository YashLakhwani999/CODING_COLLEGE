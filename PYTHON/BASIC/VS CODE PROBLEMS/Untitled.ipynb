{
 "cells": [
  {
   "cell_type": "code",
   "execution_count": 11,
   "id": "682ba662",
   "metadata": {},
   "outputs": [
    {
     "name": "stdout",
     "output_type": "stream",
     "text": [
      "MCMXCIV\n",
      "1994\n"
     ]
    }
   ],
   "source": [
    "# s = ['I', 'V', 'X', 'L', 'C', 'D', 'M']\n",
    "def value(roman):\n",
    "    if roman == -1:\n",
    "        return 0\n",
    "    \n",
    "    if roman == 'I':\n",
    "        return 1\n",
    "    if roman == 'V':\n",
    "        return 5\n",
    "    if roman == 'X':\n",
    "        return 10\n",
    "    if roman == 'L':\n",
    "        return 50\n",
    "    if roman == 'C':\n",
    "        return 100\n",
    "    if roman == 'D':\n",
    "        return 500\n",
    "    if roman == 'M':\n",
    "        return 1000\n",
    "    return \n",
    "\n",
    "n = input()\n",
    "r = list(n)\n",
    "r.append(-1)\n",
    "ans = 0\n",
    "for i in range(len(r) - 1):\n",
    "    if value(r[i]) >= value(r[i + 1]): \n",
    "        ans = ans + value(r[i])\n",
    "    else:\n",
    "        ans = ans - value(r[i])\n",
    "print(ans)"
   ]
  },
  {
   "cell_type": "code",
   "execution_count": 49,
   "id": "95c6386b",
   "metadata": {},
   "outputs": [],
   "source": [
    "def lengthOfLongestSubstring(s):\n",
    "        if len(s) == 0:\n",
    "            return 0\n",
    "        s = s + '0'\n",
    "        count = 0\n",
    "        max_count = 0\n",
    "        for i in range(len(s)):\n",
    "            if s[i] == '0':\n",
    "                return max_count\n",
    "            if ord(s[i]) > ord(s[i + 1]):\n",
    "                count += 1\n",
    "#             if s[i + 1] == '0':\n",
    "#                 count+=1\n",
    "            if max_count <= count:\n",
    "                max_count = count\n",
    "            else:\n",
    "                count = 0"
   ]
  },
  {
   "cell_type": "code",
   "execution_count": 63,
   "id": "06e83be3",
   "metadata": {},
   "outputs": [
    {
     "data": {
      "text/plain": [
       "117"
      ]
     },
     "execution_count": 63,
     "metadata": {},
     "output_type": "execute_result"
    }
   ],
   "source": [
    "ord('u')"
   ]
  },
  {
   "cell_type": "code",
   "execution_count": 66,
   "id": "6afc0263",
   "metadata": {},
   "outputs": [
    {
     "data": {
      "text/plain": [
       "21"
      ]
     },
     "execution_count": 66,
     "metadata": {},
     "output_type": "execute_result"
    }
   ],
   "source": [
    "l = [2,3,2,1,3,3,4,2,1]\n",
    "a = sum(l)\n",
    "a"
   ]
  },
  {
   "cell_type": "code",
   "execution_count": 80,
   "id": "6f50d8f6",
   "metadata": {},
   "outputs": [
    {
     "name": "stdout",
     "output_type": "stream",
     "text": [
      "true\n"
     ]
    }
   ],
   "source": [
    "n = 121\n",
    "s = str(n)\n",
    "if s[::] == s[::-1]:\n",
    "    print('true')\n",
    "else:\n",
    "    print('false')"
   ]
  }
 ],
 "metadata": {
  "kernelspec": {
   "display_name": "Python 3",
   "language": "python",
   "name": "python3"
  },
  "language_info": {
   "codemirror_mode": {
    "name": "ipython",
    "version": 3
   },
   "file_extension": ".py",
   "mimetype": "text/x-python",
   "name": "python",
   "nbconvert_exporter": "python",
   "pygments_lexer": "ipython3",
   "version": "3.8.8"
  }
 },
 "nbformat": 4,
 "nbformat_minor": 5
}
