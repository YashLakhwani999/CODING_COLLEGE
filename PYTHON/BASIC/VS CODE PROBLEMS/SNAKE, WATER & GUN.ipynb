{
 "cells": [
  {
   "cell_type": "markdown",
   "id": "3ce224e0",
   "metadata": {},
   "source": [
    "SNAKE WATER & GUN"
   ]
  },
  {
   "cell_type": "code",
   "execution_count": 4,
   "id": "e0589d04",
   "metadata": {
    "scrolled": true
   },
   "outputs": [
    {
     "name": "stdout",
     "output_type": "stream",
     "text": [
      "ENTER PLAYER 1 NAME-->Yash\n",
      "ENTER PLAYER 2 NAME-->Raavi\n",
      "1 --> SNAKE \n",
      "2 --> WATER \n",
      "3 --> GUN \n",
      "ENTER PLAYER 1 CHOICE (1,2,3)-->1\n",
      "ENTER PLAYER 2 CHOICE (1,2,3)-->2\n",
      "Raavi WON THIS ROUND\n",
      "1 --> SNAKE \n",
      "2 --> WATER \n",
      "3 --> GUN \n",
      "ENTER PLAYER 1 CHOICE (1,2,3)-->3\n",
      "ENTER PLAYER 2 CHOICE (1,2,3)-->2\n",
      "Yash WON THIS ROUND\n",
      "1 --> SNAKE \n",
      "2 --> WATER \n",
      "3 --> GUN \n",
      "ENTER PLAYER 1 CHOICE (1,2,3)-->1\n",
      "ENTER PLAYER 2 CHOICE (1,2,3)-->1\n",
      "THERE'S A TIE\n",
      "1 --> SNAKE \n",
      "2 --> WATER \n",
      "3 --> GUN \n",
      "ENTER PLAYER 1 CHOICE (1,2,3)-->1\n",
      "ENTER PLAYER 2 CHOICE (1,2,3)-->1\n",
      "THERE'S A TIE\n",
      "1 --> SNAKE \n",
      "2 --> WATER \n",
      "3 --> GUN \n",
      "ENTER PLAYER 1 CHOICE (1,2,3)-->1\n",
      "ENTER PLAYER 2 CHOICE (1,2,3)-->1\n",
      "THERE'S A TIE\n",
      "                   THERE'S A TIE                     \n"
     ]
    }
   ],
   "source": [
    "PLAYER1=input(\"ENTER PLAYER 1 NAME-->\")\n",
    "PLAYER2=input(\"ENTER PLAYER 2 NAME-->\")\n",
    "point_1=0\n",
    "point_2=0\n",
    "for i in range(5):\n",
    "    print(\"1 --> SNAKE \")\n",
    "    print(\"2 --> WATER \")\n",
    "    print(\"3 --> GUN \")\n",
    "    user_1_input=int(input(\"ENTER PLAYER 1 CHOICE (1,2,3)-->\"))\n",
    "    user_2_input=int(input(\"ENTER PLAYER 2 CHOICE (1,2,3)-->\"))\n",
    "    if (user_1_input== 1 and user_2_input== 3 ) or (user_1_input== 2 and user_2_input == 1 ) or (user_1_input == 3 and user_2_input == 2):\n",
    "        print(PLAYER1,\"WON THIS ROUND\")\n",
    "        point_1+=1\n",
    "    elif (user_1_input== 1  and user_2_input== 2) or (user_1_input== 2 and user_2_input== 3) or (user_1_input== 3 and user_2_input== 1):\n",
    "        print(PLAYER2,\"WON THIS ROUND\")\n",
    "        point_2+=1\n",
    "    else:\n",
    "        print(\"THERE'S A TIE\")\n",
    "if point_1 > point_2: \n",
    "    print(                   PLAYER1,\"WON BY\",point_1-point_2,\"POINTS\")\n",
    "elif point_1 < point_2:\n",
    "    print(                   PLAYER2,\"WON BY\",point_2-point_1,\"POINTS\")\n",
    "else:\n",
    "    print(\"                   THERE'S A TIE                     \")\n",
    "        "
   ]
  }
 ],
 "metadata": {
  "kernelspec": {
   "display_name": "Python 3",
   "language": "python",
   "name": "python3"
  },
  "language_info": {
   "codemirror_mode": {
    "name": "ipython",
    "version": 3
   },
   "file_extension": ".py",
   "mimetype": "text/x-python",
   "name": "python",
   "nbconvert_exporter": "python",
   "pygments_lexer": "ipython3",
   "version": "3.8.8"
  }
 },
 "nbformat": 4,
 "nbformat_minor": 5
}
