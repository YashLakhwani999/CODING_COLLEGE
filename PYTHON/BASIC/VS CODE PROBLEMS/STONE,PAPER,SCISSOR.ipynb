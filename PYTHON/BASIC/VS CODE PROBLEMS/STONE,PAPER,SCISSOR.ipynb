{
 "cells": [
  {
   "cell_type": "markdown",
   "id": "1f897437",
   "metadata": {},
   "source": [
    "STONE PAPER SCISSOR"
   ]
  },
  {
   "cell_type": "code",
   "execution_count": 8,
   "id": "b6ec30bb",
   "metadata": {},
   "outputs": [
    {
     "name": "stdout",
     "output_type": "stream",
     "text": [
      "ENTER PLAYER1 NAME -->YASH\n",
      "ENTER PLAYER2 NAME -->RAVEESH\n",
      "THERE WILL BE GAME OF 5 ROUNDS BETWEEN YASH & RAVEESH .\n",
      "A--> STONE\n",
      "B--> PAPER\n",
      "C--> SCISSOR\n",
      "1st PLAYER-->ENTER YOUR CHOICE from above mentoned --A\n",
      "2nd PLAYER-->ENTER YOUR CHOICE from above mentoned --C\n",
      "YASH WON THIS ROUND\n",
      "A--> STONE\n",
      "B--> PAPER\n",
      "C--> SCISSOR\n",
      "1st PLAYER-->ENTER YOUR CHOICE from above mentoned --B\n",
      "2nd PLAYER-->ENTER YOUR CHOICE from above mentoned --C\n",
      "RAVEESH WON THIS ROUND\n",
      "A--> STONE\n",
      "B--> PAPER\n",
      "C--> SCISSOR\n",
      "1st PLAYER-->ENTER YOUR CHOICE from above mentoned --C\n",
      "2nd PLAYER-->ENTER YOUR CHOICE from above mentoned --A\n",
      "RAVEESH WON THIS ROUND\n",
      "A--> STONE\n",
      "B--> PAPER\n",
      "C--> SCISSOR\n",
      "1st PLAYER-->ENTER YOUR CHOICE from above mentoned --B\n",
      "2nd PLAYER-->ENTER YOUR CHOICE from above mentoned --C\n",
      "RAVEESH WON THIS ROUND\n",
      "A--> STONE\n",
      "B--> PAPER\n",
      "C--> SCISSOR\n",
      "1st PLAYER-->ENTER YOUR CHOICE from above mentoned --A\n",
      "2nd PLAYER-->ENTER YOUR CHOICE from above mentoned --C\n",
      "YASH WON THIS ROUND\n",
      "RAVEESH WON BY 1\n"
     ]
    }
   ],
   "source": [
    "\n",
    "PLAYER1=input(\"ENTER PLAYER1 NAME -->\")\n",
    "PLAYER2=input(\"ENTER PLAYER2 NAME -->\")\n",
    "print(\"THERE WILL BE GAME OF 5 ROUNDS BETWEEN\",PLAYER1,\"&\",PLAYER2,\".\")\n",
    "point_1=0\n",
    "point_2=0\n",
    "for i in range(5):\n",
    "    print(\"A--> STONE\")\n",
    "    print(\"B--> PAPER\")\n",
    "    print(\"C--> SCISSOR\")\n",
    "    user_1_input=str(input(\"1st PLAYER-->ENTER YOUR CHOICE from above mentoned --\"))\n",
    "    user_2_input=str(input(\"2nd PLAYER-->ENTER YOUR CHOICE from above mentoned --\"))\n",
    "    if (user_1_input==\"A\" and user_2_input==\"C\") or (user_1_input==\"B\" and user_2_input==\"A\") or (user_1_input==\"C\"and user_2_input==\"B\"):\n",
    "        print(PLAYER1,\"WON THIS ROUND\")\n",
    "        point_1+=1\n",
    "    elif (user_1_input==\"A\" and user_2_input==\"B\") or (user_1_input==\"B\" and user_2_input==\"C\") or (user_1_input==\"C\"and user_2_input==\"A\"):\n",
    "        print(PLAYER2,\"WON THIS ROUND\")\n",
    "        point_2+=1\n",
    "    else:\n",
    "        print(\"THERE'S A TIE\")\n",
    "if point_1 > point_2: \n",
    "    print(                   PLAYER1,\"WON BY\",point_1-point_2,\"POINTS\")\n",
    "elif point_1 < point_2:\n",
    "    print(                   PLAYER2,\"WON BY\",point_2-point_1,\"POINTS\")\n",
    "else:\n",
    "    print(\"                   THERE'S A TIE                     \")\n",
    "        "
   ]
  }
 ],
 "metadata": {
  "kernelspec": {
   "display_name": "Python 3",
   "language": "python",
   "name": "python3"
  },
  "language_info": {
   "codemirror_mode": {
    "name": "ipython",
    "version": 3
   },
   "file_extension": ".py",
   "mimetype": "text/x-python",
   "name": "python",
   "nbconvert_exporter": "python",
   "pygments_lexer": "ipython3",
   "version": "3.8.8"
  }
 },
 "nbformat": 4,
 "nbformat_minor": 5
}
