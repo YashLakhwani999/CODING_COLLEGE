{
 "cells": [
  {
   "cell_type": "code",
   "execution_count": 47,
   "id": "ed563631",
   "metadata": {},
   "outputs": [],
   "source": [
    "l1=[]\n",
    "l=[0,3,4,3,5,3,5,4,3,5,7,0,0,0,0,0,0,0,7,5,8]\n",
    "\n",
    "for i in l:\n",
    "    if i>0:\n",
    "        l1.append(i)\n",
    "    else:\n",
    "        continue\n",
    "for element in l:\n",
    "    if element==0:\n",
    "        l1.append(element)\n",
    "    else:\n",
    "        pass"
   ]
  },
  {
   "cell_type": "code",
   "execution_count": 48,
   "id": "c11a5d88",
   "metadata": {},
   "outputs": [
    {
     "data": {
      "text/plain": [
       "[3, 4, 3, 5, 3, 5, 4, 3, 5, 7, 7, 5, 8, 0, 0, 0, 0, 0, 0, 0, 0]"
      ]
     },
     "execution_count": 48,
     "metadata": {},
     "output_type": "execute_result"
    }
   ],
   "source": [
    "l1"
   ]
  }
 ],
 "metadata": {
  "kernelspec": {
   "display_name": "Python 3",
   "language": "python",
   "name": "python3"
  },
  "language_info": {
   "codemirror_mode": {
    "name": "ipython",
    "version": 3
   },
   "file_extension": ".py",
   "mimetype": "text/x-python",
   "name": "python",
   "nbconvert_exporter": "python",
   "pygments_lexer": "ipython3",
   "version": "3.8.8"
  }
 },
 "nbformat": 4,
 "nbformat_minor": 5
}
