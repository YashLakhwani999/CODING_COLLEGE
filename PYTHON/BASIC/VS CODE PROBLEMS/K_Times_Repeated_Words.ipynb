{
 "cells": [
  {
   "cell_type": "code",
   "execution_count": 8,
   "id": "adfc083e",
   "metadata": {},
   "outputs": [],
   "source": [
    "def printKFreqwords(s,k):\n",
    "    words=s.split()\n",
    "    d={}\n",
    "    for w in words:\n",
    "        d[w]= d.get(w,0)+1\n",
    "    for i in d:\n",
    "        if d[i]==k:\n",
    "            print(i)"
   ]
  },
  {
   "cell_type": "code",
   "execution_count": 10,
   "id": "bbc6fff1",
   "metadata": {},
   "outputs": [
    {
     "name": "stdout",
     "output_type": "stream",
     "text": [
      "Hello\n",
      "My\n",
      "Name\n",
      "is\n",
      "Yash\n",
      "Lakhwani\n",
      "doing\n",
      "Btech\n",
      "artificial\n",
      "intelligence\n",
      "Data\n",
      "Science\n",
      "currently\n",
      "1st\n",
      "Semester\n"
     ]
    }
   ],
   "source": [
    "s=\"Hello My Name is Yash Lakhwani and I am doing Btech in artificial intelligence and Data Science currently I am in 1st Semester\"\n",
    "printKFreqwords(s,1)"
   ]
  }
 ],
 "metadata": {
  "kernelspec": {
   "display_name": "Python 3",
   "language": "python",
   "name": "python3"
  },
  "language_info": {
   "codemirror_mode": {
    "name": "ipython",
    "version": 3
   },
   "file_extension": ".py",
   "mimetype": "text/x-python",
   "name": "python",
   "nbconvert_exporter": "python",
   "pygments_lexer": "ipython3",
   "version": "3.8.8"
  }
 },
 "nbformat": 4,
 "nbformat_minor": 5
}
