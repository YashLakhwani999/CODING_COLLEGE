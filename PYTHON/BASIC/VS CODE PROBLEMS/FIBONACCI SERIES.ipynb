{
 "cells": [
  {
   "cell_type": "code",
   "execution_count": 19,
   "id": "94bbaee1",
   "metadata": {},
   "outputs": [
    {
     "name": "stdout",
     "output_type": "stream",
     "text": [
      "Enter a number upto which you want a 'Fiboncci series' : 12\n",
      "0 1 1 2 3 5 8 13 21 34 55 89 144 "
     ]
    }
   ],
   "source": [
    "first,second = 0,1\n",
    "n = int(input(\"Enter a number upto which you want a 'Fiboncci series' : \"))\n",
    "print(\"0\" , end=\" \")\n",
    "if n == 1:\n",
    "    print(second)\n",
    "else:\n",
    "    for i in range(n):\n",
    "        first,second = second, first+second\n",
    "        print(first , end=\" \")"
   ]
  }
 ],
 "metadata": {
  "kernelspec": {
   "display_name": "Python 3",
   "language": "python",
   "name": "python3"
  },
  "language_info": {
   "codemirror_mode": {
    "name": "ipython",
    "version": 3
   },
   "file_extension": ".py",
   "mimetype": "text/x-python",
   "name": "python",
   "nbconvert_exporter": "python",
   "pygments_lexer": "ipython3",
   "version": "3.8.8"
  }
 },
 "nbformat": 4,
 "nbformat_minor": 5
}
