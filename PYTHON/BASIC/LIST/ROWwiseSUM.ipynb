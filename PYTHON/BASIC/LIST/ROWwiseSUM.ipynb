{
 "cells": [
  {
   "cell_type": "code",
   "execution_count": 11,
   "id": "5fb94faa",
   "metadata": {},
   "outputs": [
    {
     "name": "stdout",
     "output_type": "stream",
     "text": [
      "2 \n",
      "2 5\n",
      "4 5 3 2 6\n",
      "20 7 5 3 8 9\n",
      "32 \n",
      "4 4\n",
      "1 2 3 4\n",
      "10 9 8 7 6\n",
      "30 3 4 5 6\n",
      "18 -1 1 -10 5\n",
      "-5 \n"
     ]
    }
   ],
   "source": [
    "p=int(input())\n",
    "for i in range(p):\n",
    "    str=input().split()\n",
    "    n,m=int(str[0]),int(str[1])\n",
    "    arr=[]\n",
    "    for i in range(n):\n",
    "        b=input().split()\n",
    "        arrr=[int(x) for x in b]\n",
    "        print(sum(arrr),end=\" \")\n",
    "    print()"
   ]
  },
  {
   "cell_type": "markdown",
   "id": "7606c776",
   "metadata": {},
   "source": [
    "### Some Error in below code"
   ]
  },
  {
   "cell_type": "code",
   "execution_count": 12,
   "id": "1580dc58",
   "metadata": {},
   "outputs": [
    {
     "name": "stdout",
     "output_type": "stream",
     "text": [
      "2\n",
      "2 5\n",
      "4 5 3 2 6\n",
      "7 5 3 8 9\n",
      "4 4\n",
      "1 2 3 4\n",
      "9 8 7 6\n",
      "3 4 5 6\n",
      "-1 1 -10 5\n",
      "10 30 18 -5 "
     ]
    }
   ],
   "source": [
    "n=int(input())\n",
    "for i in range(n):\n",
    "    str=input().split()\n",
    "    n,m=int(str[0]),int(str[1])\n",
    "    l1=[]\n",
    "    l=[[int(j) for j in input().split()]for i in range(n)]\n",
    "    for i in range(len(l)):\n",
    "        a=sum(l[i])\n",
    "        l1.append(a)\n",
    "for ele in l1:\n",
    "    print(ele,end=\" \")"
   ]
  }
 ],
 "metadata": {
  "kernelspec": {
   "display_name": "Python 3",
   "language": "python",
   "name": "python3"
  },
  "language_info": {
   "codemirror_mode": {
    "name": "ipython",
    "version": 3
   },
   "file_extension": ".py",
   "mimetype": "text/x-python",
   "name": "python",
   "nbconvert_exporter": "python",
   "pygments_lexer": "ipython3",
   "version": "3.8.8"
  }
 },
 "nbformat": 4,
 "nbformat_minor": 5
}
