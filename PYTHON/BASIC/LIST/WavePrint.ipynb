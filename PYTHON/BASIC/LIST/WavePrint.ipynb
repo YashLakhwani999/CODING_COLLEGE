{
 "cells": [
  {
   "cell_type": "code",
   "execution_count": 23,
   "id": "bc5b6b13",
   "metadata": {},
   "outputs": [
    {
     "name": "stdout",
     "output_type": "stream",
     "text": [
      "2\n",
      "3 4\n",
      "1 2 3 4\n",
      "1 2 3 4\n",
      "1 2 3 4\n",
      "1 1 1 2 2 2 3 3 3 4 4 4 \n",
      "3 4\n",
      "4 3 2 1\n",
      "4 3 2 1\n",
      "4 3 2 1\n",
      "4 4 4 3 3 3 2 2 2 1 1 1 \n"
     ]
    }
   ],
   "source": [
    "t_cases = int(input())\n",
    "for test in range(t_cases):\n",
    "    arr=[]\n",
    "    st=input().split()\n",
    "    n,m=int(st[0]),int(st[1])\n",
    "    l=[[int(j) for j in input().split()] for i in range(n)]\n",
    "    l1=[[l[i][j]for i in range(n)]for j in range(m)]\n",
    "    r=len(l1)\n",
    "    for i in range(r):\n",
    "        if i%2==0:\n",
    "            arr.append(l1[i])\n",
    "        else:\n",
    "            l1[i].reverse()\n",
    "            arr.append(l1[i])\n",
    "    for k in arr:\n",
    "        print(*k,end=' ')\n",
    "    print()"
   ]
  }
 ],
 "metadata": {
  "kernelspec": {
   "display_name": "Python 3",
   "language": "python",
   "name": "python3"
  },
  "language_info": {
   "codemirror_mode": {
    "name": "ipython",
    "version": 3
   },
   "file_extension": ".py",
   "mimetype": "text/x-python",
   "name": "python",
   "nbconvert_exporter": "python",
   "pygments_lexer": "ipython3",
   "version": "3.8.8"
  }
 },
 "nbformat": 4,
 "nbformat_minor": 5
}
