{
 "cells": [
  {
   "cell_type": "code",
   "execution_count": 2,
   "id": "8246ff97",
   "metadata": {},
   "outputs": [
    {
     "name": "stdout",
     "output_type": "stream",
     "text": [
      "Enter the length of your list : 8\n",
      "Enter your character : 1\n",
      "Enter your character : 2\n",
      "Enter your character : 3\n",
      "Enter your character : 4\n",
      "Enter your character : 5\n",
      "Enter your character : 6\n",
      "Enter your character : 78\n",
      "Enter your character : 8\n",
      "[1, 2, 3, 4, 5, 6, 78, 8]\n"
     ]
    }
   ],
   "source": [
    "l=[]\n",
    "chr=int(input(\"Enter the length of your list : \"))\n",
    "for i in range(chr):\n",
    "    a=int(input(\"Enter your character : \"))\n",
    "    l.append(a)\n",
    "print(l)"
   ]
  }
 ],
 "metadata": {
  "kernelspec": {
   "display_name": "Python 3",
   "language": "python",
   "name": "python3"
  },
  "language_info": {
   "codemirror_mode": {
    "name": "ipython",
    "version": 3
   },
   "file_extension": ".py",
   "mimetype": "text/x-python",
   "name": "python",
   "nbconvert_exporter": "python",
   "pygments_lexer": "ipython3",
   "version": "3.8.8"
  }
 },
 "nbformat": 4,
 "nbformat_minor": 5
}
