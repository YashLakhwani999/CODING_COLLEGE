{
 "cells": [
  {
   "cell_type": "markdown",
   "id": "630a77b6",
   "metadata": {},
   "source": [
    "# Selection Sort"
   ]
  },
  {
   "cell_type": "code",
   "execution_count": 7,
   "id": "fdf5f81b",
   "metadata": {},
   "outputs": [],
   "source": [
    "def selection_sort(unsorted_list):\n",
    "    for i in range (len(unsorted_list)):\n",
    "        minimum = i\n",
    "        for j in range(i+1 , len(unsorted_list)):\n",
    "            if unsorted_list[j] < unsorted_list[minimum]:\n",
    "                minimum = j\n",
    "        unsorted_list[i],unsorted_list[minimum] = unsorted_list[minimum],unsorted_list[i]\n",
    "        unsorted_list.pop()\n",
    "        return unsorted_list.pop()"
   ]
  },
  {
   "cell_type": "code",
   "execution_count": 8,
   "id": "9efad84e",
   "metadata": {},
   "outputs": [
    {
     "data": {
      "text/plain": [
       "4"
      ]
     },
     "execution_count": 8,
     "metadata": {},
     "output_type": "execute_result"
    }
   ],
   "source": [
    "selection_sort([1,4,3,2,4,3,5,7,4,6])"
   ]
  }
 ],
 "metadata": {
  "kernelspec": {
   "display_name": "Python 3",
   "language": "python",
   "name": "python3"
  },
  "language_info": {
   "codemirror_mode": {
    "name": "ipython",
    "version": 3
   },
   "file_extension": ".py",
   "mimetype": "text/x-python",
   "name": "python",
   "nbconvert_exporter": "python",
   "pygments_lexer": "ipython3",
   "version": "3.8.8"
  }
 },
 "nbformat": 4,
 "nbformat_minor": 5
}
