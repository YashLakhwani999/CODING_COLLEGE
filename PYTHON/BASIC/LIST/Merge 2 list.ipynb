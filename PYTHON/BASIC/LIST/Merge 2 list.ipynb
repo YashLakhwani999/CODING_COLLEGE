{
 "cells": [
  {
   "cell_type": "code",
   "execution_count": 48,
   "id": "a67a7739",
   "metadata": {},
   "outputs": [],
   "source": [
    "def merge(a1,a2,debug=False):\n",
    "    i,j=0,0\n",
    "    a1.sort()\n",
    "    a2.sort()\n",
    "    len1,len2=len(a1),len(a2)\n",
    "    new_array=[]\n",
    "    \n",
    "    while(i<len1 and j<len2):\n",
    "        if a1[i] < a2[j]:\n",
    "            new_array.append(a1[i])\n",
    "            i=i+1\n",
    "        else:\n",
    "            new_array.append(a2[j])\n",
    "            j=j+1\n",
    "    while i<len1:\n",
    "        new_array.append(a1[i])\n",
    "        i=i+1\n",
    "    while j<len2:\n",
    "        new_array.append(a2[j])\n",
    "        j+=1\n",
    "    return new_array"
   ]
  },
  {
   "cell_type": "code",
   "execution_count": 51,
   "id": "32777547",
   "metadata": {},
   "outputs": [
    {
     "data": {
      "text/plain": [
       "[1, 2, 4, 5, 9, 10, 60, 87, 300, 10008]"
      ]
     },
     "execution_count": 51,
     "metadata": {},
     "output_type": "execute_result"
    }
   ],
   "source": [
    "a1=[1,2,300,4,5,10,9]\n",
    "a2=[60,87,10008]\n",
    "merge(a1,a2)"
   ]
  }
 ],
 "metadata": {
  "kernelspec": {
   "display_name": "Python 3",
   "language": "python",
   "name": "python3"
  },
  "language_info": {
   "codemirror_mode": {
    "name": "ipython",
    "version": 3
   },
   "file_extension": ".py",
   "mimetype": "text/x-python",
   "name": "python",
   "nbconvert_exporter": "python",
   "pygments_lexer": "ipython3",
   "version": "3.8.8"
  }
 },
 "nbformat": 4,
 "nbformat_minor": 5
}
