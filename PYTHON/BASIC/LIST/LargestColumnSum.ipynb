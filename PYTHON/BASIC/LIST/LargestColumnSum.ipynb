{
 "cells": [
  {
   "cell_type": "markdown",
   "id": "49787a67",
   "metadata": {},
   "source": [
    "## Largest Column Sum"
   ]
  },
  {
   "cell_type": "code",
   "execution_count": 10,
   "id": "f0f4a94f",
   "metadata": {},
   "outputs": [
    {
     "name": "stdout",
     "output_type": "stream",
     "text": [
      "3 4\n",
      "1 2 3 4\n",
      "5 6 7 8\n",
      "9 10 11 12\n",
      "24\n"
     ]
    }
   ],
   "source": [
    "nl=[]\n",
    "str=input().split()\n",
    "n,m=int(str[0]),int(str[1])\n",
    "l1=[[int(j) for j in input().split()] for i in range (n)]\n",
    "l=[[l1[i][j] for i in range(n)] for j in range(m)]\n",
    "for i in range(len(l)):\n",
    "    a=sum(l[i])\n",
    "    nl.append(a)\n",
    "b=max(nl)\n",
    "print(b)"
   ]
  }
 ],
 "metadata": {
  "kernelspec": {
   "display_name": "Python 3",
   "language": "python",
   "name": "python3"
  },
  "language_info": {
   "codemirror_mode": {
    "name": "ipython",
    "version": 3
   },
   "file_extension": ".py",
   "mimetype": "text/x-python",
   "name": "python",
   "nbconvert_exporter": "python",
   "pygments_lexer": "ipython3",
   "version": "3.8.8"
  }
 },
 "nbformat": 4,
 "nbformat_minor": 5
}
