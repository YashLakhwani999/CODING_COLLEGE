{
 "cells": [
  {
   "cell_type": "code",
   "execution_count": 1,
   "id": "7a3100f8",
   "metadata": {},
   "outputs": [
    {
     "name": "stdout",
     "output_type": "stream",
     "text": [
      "2\n",
      "3 4\n",
      "1 2 3 4\n",
      "5 6 7 8\n",
      "9 10 11 12\n",
      "row 2 42\n",
      "3 4\n",
      "9 8 4 2\n",
      "2 4 2 5\n",
      "33 4 6 3 \n",
      "row 2 46\n"
     ]
    }
   ],
   "source": [
    "t_cases = int(input())\n",
    "for test in range(t_cases):\n",
    "    st=input().split()\n",
    "    n,m=int(st[0]),int(st[1])\n",
    "    l=[[int(j) for j in input().split()] for i in range(n)]\n",
    "    r=len(l)\n",
    "    row=[]\n",
    "    for i in range(r):\n",
    "        a=sum(l[i])\n",
    "        row.append(a)\n",
    "    col=[]\n",
    "    l1=[[l[i][j] for i in range(n)]for j in range(m)]\n",
    "    for i in range(len(l1)):\n",
    "        a=sum(l1[i])\n",
    "        col.append(a)\n",
    "    b=max(row)\n",
    "    cl=max(col)\n",
    "    if cl > b:\n",
    "        for i in range(len(col)):\n",
    "            if col[i]==cl:\n",
    "                print(\"column\",i,cl)\n",
    "    else:\n",
    "        for e in range(len(row)):\n",
    "            if row[e]==b:\n",
    "                print(\"row\",e,b)"
   ]
  }
 ],
 "metadata": {
  "kernelspec": {
   "display_name": "Python 3",
   "language": "python",
   "name": "python3"
  },
  "language_info": {
   "codemirror_mode": {
    "name": "ipython",
    "version": 3
   },
   "file_extension": ".py",
   "mimetype": "text/x-python",
   "name": "python",
   "nbconvert_exporter": "python",
   "pygments_lexer": "ipython3",
   "version": "3.8.8"
  }
 },
 "nbformat": 4,
 "nbformat_minor": 5
}
